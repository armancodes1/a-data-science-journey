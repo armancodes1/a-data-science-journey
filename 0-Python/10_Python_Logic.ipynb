{
  "cells": [
    {
      "cell_type": "markdown",
      "metadata": {
        "id": "view-in-github",
        "colab_type": "text"
      },
      "source": [
        "<a href=\"https://colab.research.google.com/github/armancodes1/a-data-science-journey/blob/main/0-Python/0_10_Python_Logic.ipynb\" target=\"_parent\"><img src=\"https://colab.research.google.com/assets/colab-badge.svg\" alt=\"Open In Colab\"/></a>"
      ]
    },
    {
      "cell_type": "markdown",
      "id": "e00b1c65",
      "metadata": {
        "id": "e00b1c65"
      },
      "source": [
        "# Python Logic:\n",
        "This notebook focuses on **practical Python logic**: booleans, truthiness, comparisons, logical & bitwise operators, control flow, short-circuiting, pattern matching, and common pitfalls."
      ]
    },
    {
      "cell_type": "markdown",
      "id": "6591e78f",
      "metadata": {
        "id": "6591e78f"
      },
      "source": [
        "## 1) Booleans & Truthiness\n",
        "- `bool(x)` converts a value to `True`/`False`.\n",
        "- **Falsy** values: `0`, `0.0`, `0j`, `''`, `[]`, `{}`, `set()`, `range(0)`, `None`, and custom objects with `__bool__`/`__len__` returning `False/0`.\n",
        "- Everything else is truthy."
      ]
    },
    {
      "cell_type": "code",
      "execution_count": 24,
      "id": "9c351c63",
      "metadata": {
        "colab": {
          "base_uri": "https://localhost:8080/"
        },
        "id": "9c351c63",
        "outputId": "381c5f96-8030-4570-e05a-17a194615560"
      },
      "outputs": [
        {
          "output_type": "stream",
          "name": "stdout",
          "text": [
            "         0 -> False\n",
            "         1 -> True\n",
            "       0.0 -> False\n",
            "       2.5 -> True\n",
            "        '' -> False\n",
            "      'hi' -> True\n",
            "        [] -> False\n",
            "       [1] -> True\n",
            "        {} -> False\n",
            "  {'a': 1} -> True\n",
            "      None -> False\n"
          ]
        }
      ],
      "source": [
        "tests = [0, 1, 0.0, 2.5, '', 'hi', [], [1], {}, {'a':1}, None]\n",
        "for x in tests:\n",
        "    print(f'{x!r:>10} -> {bool(x)}')"
      ]
    },
    {
      "cell_type": "markdown",
      "id": "25e1906d",
      "metadata": {
        "id": "25e1906d"
      },
      "source": [
        "## 2) Comparisons & Chaining; Equality vs Identity\n",
        "- Comparisons: `==`, `!=`, `<`, `<=`, `>`, `>=`.\n",
        "- **Chaining**: `a < b < c` means `(a < b) and (b < c)`.\n",
        "- `==` checks **value equality**; `is` checks **object identity** (same object in memory).\n",
        "- Prefer `is None` / `is not None` for `None` checks.\n",
        "- Floating-point equality is tricky → use `math.isclose`."
      ]
    },
    {
      "cell_type": "code",
      "execution_count": 25,
      "id": "268940a0",
      "metadata": {
        "colab": {
          "base_uri": "https://localhost:8080/"
        },
        "id": "268940a0",
        "outputId": "697ab2b3-f606-432a-bb20-e55b5f8a0869"
      },
      "outputs": [
        {
          "output_type": "stream",
          "name": "stdout",
          "text": [
            "Chaining  a < b < c : True\n",
            "x == y : True\n",
            "x is y : False\n",
            "x is z : True\n",
            "None check : False True\n",
            "0.1 + 0.2 = 0.30000000000000004\n",
            "u == 0.3: False\n",
            "math.isclose(u, 0.3): True\n"
          ]
        }
      ],
      "source": [
        "import math\n",
        "a, b, c = 2, 3, 5\n",
        "print('Chaining  a < b < c :', a < b < c)\n",
        "\n",
        "x = [1,2]\n",
        "y = [1,2]\n",
        "z = x\n",
        "print('x == y :', x == y)   # same contents\n",
        "print('x is y :', x is y)   # different objects\n",
        "print('x is z :', x is z)   # same object\n",
        "\n",
        "print('None check :', (x is None), (x is not None))\n",
        "\n",
        "u = 0.1 + 0.2\n",
        "print('0.1 + 0.2 =', u)\n",
        "print('u == 0.3:', u == 0.3)\n",
        "print('math.isclose(u, 0.3):', math.isclose(u, 0.3,)) #or math.isclose(u, 0.3, rel_tol=1e-09, abs_tol=0.0))"
      ]
    },
    {
      "cell_type": "markdown",
      "id": "ddd3e4b3",
      "metadata": {
        "id": "ddd3e4b3"
      },
      "source": [
        "## 3) Logical Operators\n",
        "- Operators: `and`, `or`, `not` (lower precedence than comparisons).\n",
        "- In Python, `and`/`or` return one of the **operands** (not coerced to `bool`)."
      ]
    },
    {
      "cell_type": "code",
      "execution_count": 26,
      "id": "2aa41a75",
      "metadata": {
        "colab": {
          "base_uri": "https://localhost:8080/"
        },
        "id": "2aa41a75",
        "outputId": "9ef7bc5a-17c3-4ee4-8352-4008f958df70"
      },
      "outputs": [
        {
          "output_type": "stream",
          "name": "stdout",
          "text": [
            "'foo' or 'bar' -> foo\n",
            "'' or 'bar'   -> bar\n",
            "0 and 99      -> 0\n",
            "1 and 99      -> 99\n"
          ]
        }
      ],
      "source": [
        "# Truthy/operand return\n",
        "print(\"'foo' or 'bar' ->\", 'foo' or 'bar')\n",
        "print(\"'' or 'bar'   ->\", '' or 'bar')\n",
        "print(\"0 and 99      ->\", 0 and 99)\n",
        "print(\"1 and 99      ->\", 1 and 99)"
      ]
    },
    {
      "cell_type": "markdown",
      "id": "a4468f6c",
      "metadata": {
        "id": "a4468f6c"
      },
      "source": [
        "## 4) Operator Precedence (Simplified)\n",
        "From high to low (subset): `not` → comparisons (`<`, `==`, ...) → `and` → `or`."
      ]
    },
    {
      "cell_type": "code",
      "execution_count": 27,
      "id": "809cd80b",
      "metadata": {
        "colab": {
          "base_uri": "https://localhost:8080/"
        },
        "id": "809cd80b",
        "outputId": "f9004e39-36a9-487c-dc68-3491ca94d919"
      },
      "outputs": [
        {
          "output_type": "stream",
          "name": "stdout",
          "text": [
            "False\n",
            "True\n"
          ]
        }
      ],
      "source": [
        "print( not True or False )     # equivalent to ( (not True) or False )\n",
        "print( True and False or True )# equivalent to ( (True and False) or True )"
      ]
    },
    {
      "cell_type": "markdown",
      "id": "0b3a9ea2",
      "metadata": {
        "id": "0b3a9ea2"
      },
      "source": [
        "## 5) Conditionals: `if/elif/else`, Ternary, Walrus\n",
        "- Ternary (conditional expression): `x if cond else y`.\n",
        "- Walrus (`:=`) lets you assign inside an expression (Python 3.8+)."
      ]
    },
    {
      "cell_type": "code",
      "execution_count": 28,
      "id": "fbcdbcb0",
      "metadata": {
        "colab": {
          "base_uri": "https://localhost:8080/"
        },
        "id": "fbcdbcb0",
        "outputId": "8e6175c2-eb19-4ab2-a47f-377c6cf0898c"
      },
      "outputs": [
        {
          "output_type": "stream",
          "name": "stdout",
          "text": [
            "adult\n",
            "length > 5: 11\n"
          ]
        }
      ],
      "source": [
        "age = 19\n",
        "status = 'adult' if age >= 18 else 'minor'\n",
        "print(status)\n",
        "\n",
        "# Walrus example: capture input length once and test it\n",
        "s = 'hello world'\n",
        "if (n := len(s)) > 5:\n",
        "    print('length > 5:', n)"
      ]
    },
    {
      "cell_type": "markdown",
      "id": "44abf408",
      "metadata": {
        "id": "44abf408"
      },
      "source": [
        "## 6) `any`, `all`, and Conditional Comprehensions\n",
        "- `any(it)`: True if **any** element is truthy.\n",
        "- `all(it)`: True if **all** elements are truthy.\n",
        "- Comprehensions can include `if` filters."
      ]
    },
    {
      "cell_type": "code",
      "execution_count": 29,
      "id": "7810a91a",
      "metadata": {
        "colab": {
          "base_uri": "https://localhost:8080/"
        },
        "id": "7810a91a",
        "outputId": "e030f134-c30a-40da-fa0b-7dfd105f6731"
      },
      "outputs": [
        {
          "output_type": "stream",
          "name": "stdout",
          "text": [
            "any(nums): True\n",
            "all(nums): False\n",
            "evens: [0, 2, 4]\n",
            "labels: ['even', 'odd', 'even', 'odd', 'even']\n"
          ]
        }
      ],
      "source": [
        "nums = [0, 1, 2, 3, 4]\n",
        "print('any(nums):', any(nums))\n",
        "print('all(nums):', all(nums))\n",
        "\n",
        "evens = [n for n in nums if n % 2 == 0]\n",
        "labels = ['even' if n % 2 == 0 else 'odd' for n in nums]\n",
        "print('evens:', evens)\n",
        "print('labels:', labels)"
      ]
    },
    {
      "cell_type": "markdown",
      "id": "dd803fe3",
      "metadata": {
        "id": "dd803fe3"
      },
      "source": [
        "## 7) Membership & Containment\n",
        "- `in` / `not in` for membership tests.\n",
        "- Efficient for sets and dicts (hash-based), linear for lists/tuples."
      ]
    },
    {
      "cell_type": "code",
      "execution_count": 30,
      "id": "0ab4b347",
      "metadata": {
        "colab": {
          "base_uri": "https://localhost:8080/"
        },
        "id": "0ab4b347",
        "outputId": "d39ef0cd-ae37-458a-8fe0-88f69ab492d0"
      },
      "outputs": [
        {
          "output_type": "stream",
          "name": "stdout",
          "text": [
            "a in set: True\n",
            "z in set: False\n",
            "'x' in dict keys: True\n",
            "2 in dict values: True\n"
          ]
        }
      ],
      "source": [
        "letters = {'a', 'b', 'c'}\n",
        "print('a in set:', 'a' in letters)\n",
        "print('z in set:', 'z' in letters)\n",
        "\n",
        "d = {'x': 1, 'y': 2}\n",
        "print(\"'x' in dict keys:\", 'x' in d)\n",
        "print('2 in dict values:', 2 in d.values())"
      ]
    },
    {
      "cell_type": "markdown",
      "id": "6587ae9b",
      "metadata": {
        "id": "6587ae9b"
      },
      "source": [
        "## 8) Bitwise vs Logical\n",
        "- Bitwise: `&`, `|`, `^`, `~`, `<<`, `>>` act on **integer bits** or booleans element-wise in some libraries.\n",
        "- Do **not** mix them with `and`/`or` unintentionally.\n",
        "- For boolean masks on integers, use bitwise ops deliberately."
      ]
    },
    {
      "cell_type": "code",
      "execution_count": 31,
      "id": "d7048158",
      "metadata": {
        "colab": {
          "base_uri": "https://localhost:8080/"
        },
        "id": "d7048158",
        "outputId": "b64b1350-1f0a-4b72-d4d2-264ad2dd6a8e"
      },
      "outputs": [
        {
          "output_type": "stream",
          "name": "stdout",
          "text": [
            "a & b: 0b10\n",
            "a | b: 0b1110\n",
            "a ^ b: 0b1100\n",
            "Logical and: 0\n",
            "Bitwise  and: 0\n"
          ]
        }
      ],
      "source": [
        "a, b = 0b1010, 0b0110\n",
        "print('a & b:', bin(a & b))\n",
        "print('a | b:', bin(a | b))\n",
        "print('a ^ b:', bin(a ^ b))\n",
        "\n",
        "# Contrast with logical (on truthiness of whole objects)\n",
        "print('Logical and:', (5 and 0))\n",
        "print('Bitwise  and:', (5 & 0))"
      ]
    },
    {
      "cell_type": "markdown",
      "id": "d1d6e945",
      "metadata": {
        "id": "d1d6e945"
      },
      "source": [
        "## 9) Structural Pattern Matching (`match`/`case`, Python 3.10+)\n",
        "Clean branching based on **shape** and **values** of data; supports **guards** with `if`."
      ]
    },
    {
      "cell_type": "code",
      "execution_count": 32,
      "id": "acf43529",
      "metadata": {
        "colab": {
          "base_uri": "https://localhost:8080/"
        },
        "id": "acf43529",
        "outputId": "4433457e-ed2c-4092-a9bc-2603358431fa"
      },
      "outputs": [
        {
          "output_type": "stream",
          "name": "stdout",
          "text": [
            "origin\n",
            "x-axis @ 3\n",
            "y-axis @ -2\n",
            "diagonal\n",
            "plane\n"
          ]
        }
      ],
      "source": [
        "def classify(point):\n",
        "    match point:\n",
        "        case (0, 0):\n",
        "            return 'origin'\n",
        "        case (x, 0):\n",
        "            return f'x-axis @ {x}'\n",
        "        case (0, y):\n",
        "            return f'y-axis @ {y}'\n",
        "        case (x, y) if x == y:\n",
        "            return 'diagonal'\n",
        "        case (x, y):\n",
        "            return 'plane'\n",
        "\n",
        "print(classify((0,0)))\n",
        "print(classify((3,0)))\n",
        "print(classify((0,-2)))\n",
        "print(classify((4,4)))\n",
        "print(classify((2,5)))"
      ]
    },
    {
      "cell_type": "markdown",
      "id": "eef77470",
      "metadata": {
        "id": "eef77470"
      },
      "source": [
        "## 10) Assertions & Defensive Checks\n",
        "- `assert condition, 'message'` fails fast during development/tests.\n",
        "- Use **exceptions** for runtime validation in production code."
      ]
    },
    {
      "cell_type": "code",
      "execution_count": 33,
      "id": "b0071508",
      "metadata": {
        "colab": {
          "base_uri": "https://localhost:8080/"
        },
        "id": "b0071508",
        "outputId": "89e308bc-f471-453d-89d0-3fb2a457165f"
      },
      "outputs": [
        {
          "output_type": "stream",
          "name": "stdout",
          "text": [
            "3.0\n"
          ]
        }
      ],
      "source": [
        "def sqrt_nonneg(x):\n",
        "    assert x >= 0, 'x must be non-negative'\n",
        "    return x ** 0.5\n",
        "\n",
        "print(sqrt_nonneg(9))\n",
        "# Uncomment to see assertion:  sqrt_nonneg(-1)"
      ]
    },
    {
      "cell_type": "markdown",
      "id": "59268812",
      "metadata": {
        "id": "59268812"
      },
      "source": [
        "## 11) Common Pitfalls (Logic)\n",
        "- Using `== None` instead of `is None`.\n",
        "- Confusing `is` with `==` for strings/numbers (identity vs equality).\n",
        "- Relying on floating-point exact equality; use `math.isclose`.\n",
        "- Mixing bitwise `&`/`|` with logical `and`/`or`.\n",
        "- Forgetting that `and`/`or` return an operand, not `True/False`."
      ]
    }
  ],
  "metadata": {
    "colab": {
      "provenance": [],
      "include_colab_link": true
    },
    "language_info": {
      "name": "python"
    },
    "kernelspec": {
      "name": "python3",
      "display_name": "Python 3"
    }
  },
  "nbformat": 4,
  "nbformat_minor": 5
}
