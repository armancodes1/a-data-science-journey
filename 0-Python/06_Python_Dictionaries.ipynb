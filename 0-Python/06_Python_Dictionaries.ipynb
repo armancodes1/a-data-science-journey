{
  "nbformat": 4,
  "nbformat_minor": 5,
  "metadata": {
    "colab": {
      "provenance": [],
      "include_colab_link": true
    },
    "language_info": {
      "name": "python"
    },
    "kernelspec": {
      "name": "python3",
      "display_name": "Python 3"
    }
  },
  "cells": [
    {
      "cell_type": "markdown",
      "metadata": {
        "id": "view-in-github",
        "colab_type": "text"
      },
      "source": [
        "<a href=\"https://colab.research.google.com/github/armancodes1/a-data-science-journey/blob/main/0-Python/0_6_Dictionaries.ipynb\" target=\"_parent\"><img src=\"https://colab.research.google.com/assets/colab-badge.svg\" alt=\"Open In Colab\"/></a>"
      ]
    },
    {
      "id": "a8815354",
      "cell_type": "markdown",
      "source": [
        "# Python Dictionaries\n",
        "\n",
        "A **dictionary** in Python is:\n",
        "- Unordered (insertion order preserved from Python 3.7+)\n",
        "- Mutable (can be changed)\n",
        "- Key-Value pairs\n",
        "- Keys must be immutable (string, number, tuple), values can be any type"
      ],
      "metadata": {
        "id": "a8815354"
      }
    },
    {
      "id": "70dfd19d",
      "cell_type": "code",
      "metadata": {
        "colab": {
          "base_uri": "https://localhost:8080/"
        },
        "id": "70dfd19d",
        "outputId": "02b7c406-781a-4511-b47e-4215e9aa15f6"
      },
      "execution_count": 1,
      "source": [
        "# Example: Creating a dictionary\n",
        "my_dict = {\"name\": \"Alice\", \"age\": 25, \"skills\": [\"Python\", \"ML\"]}\n",
        "my_dict"
      ],
      "outputs": [
        {
          "output_type": "execute_result",
          "data": {
            "text/plain": [
              "{'name': 'Alice', 'age': 25, 'skills': ['Python', 'ML']}"
            ]
          },
          "metadata": {},
          "execution_count": 1
        }
      ]
    },
    {
      "id": "54967408",
      "cell_type": "markdown",
      "source": [
        "## 1. Creating Dictionaries"
      ],
      "metadata": {
        "id": "54967408"
      }
    },
    {
      "id": "71a01448",
      "cell_type": "code",
      "metadata": {
        "colab": {
          "base_uri": "https://localhost:8080/"
        },
        "id": "71a01448",
        "outputId": "33d68af8-d5f9-4eec-bb68-bb11230687fd"
      },
      "execution_count": 2,
      "source": [
        "empty_dict = {}\n",
        "person = {\"name\": \"Bob\", \"age\": 30}\n",
        "using_dict_func = dict(city=\"Paris\", country=\"France\")\n",
        "\n",
        "print(\"Empty:\", empty_dict)\n",
        "print(\"Person:\", person)\n",
        "print(\"Using dict():\", using_dict_func)"
      ],
      "outputs": [
        {
          "output_type": "stream",
          "name": "stdout",
          "text": [
            "Empty: {}\n",
            "Person: {'name': 'Bob', 'age': 30}\n",
            "Using dict(): {'city': 'Paris', 'country': 'France'}\n"
          ]
        }
      ]
    },
    {
      "id": "bc057465",
      "cell_type": "markdown",
      "source": [
        "## 2. Accessing Values\n",
        "- Access with keys using `[]`\n",
        "- Use `.get()` to avoid errors"
      ],
      "metadata": {
        "id": "bc057465"
      }
    },
    {
      "id": "97927baf",
      "cell_type": "code",
      "metadata": {
        "colab": {
          "base_uri": "https://localhost:8080/"
        },
        "id": "97927baf",
        "outputId": "f48714b2-4567-4211-8d07-b5a71b05319d"
      },
      "execution_count": 3,
      "source": [
        "person = {\"name\": \"Alice\", \"age\": 25}\n",
        "\n",
        "print(person[\"name\"])   # Direct access\n",
        "print(person.get(\"age\"))\n",
        "print(person.get(\"city\", \"Not Found\"))  # Default value if key missing"
      ],
      "outputs": [
        {
          "output_type": "stream",
          "name": "stdout",
          "text": [
            "Alice\n",
            "25\n",
            "Not Found\n"
          ]
        }
      ]
    },
    {
      "id": "0fb71d23",
      "cell_type": "markdown",
      "source": [
        "## 3. Adding and Modifying Entries"
      ],
      "metadata": {
        "id": "0fb71d23"
      }
    },
    {
      "id": "c6a9feae",
      "cell_type": "code",
      "metadata": {
        "colab": {
          "base_uri": "https://localhost:8080/"
        },
        "id": "c6a9feae",
        "outputId": "635f0c65-695a-47f3-8bbc-d30a1fb0b818"
      },
      "execution_count": 4,
      "source": [
        "person = {\"name\": \"Alice\", \"age\": 25}\n",
        "\n",
        "person[\"age\"] = 26          # Modify existing\n",
        "person[\"city\"] = \"New York\" # Add new key-value\n",
        "\n",
        "print(person)"
      ],
      "outputs": [
        {
          "output_type": "stream",
          "name": "stdout",
          "text": [
            "{'name': 'Alice', 'age': 26, 'city': 'New York'}\n"
          ]
        }
      ]
    },
    {
      "id": "2d64eec7",
      "cell_type": "markdown",
      "source": [
        "## 4. Removing Entries"
      ],
      "metadata": {
        "id": "2d64eec7"
      }
    },
    {
      "id": "9901c1cf",
      "cell_type": "code",
      "metadata": {
        "colab": {
          "base_uri": "https://localhost:8080/"
        },
        "id": "9901c1cf",
        "outputId": "fa7aa86e-49bc-4b59-9f29-bacbf4209c91"
      },
      "execution_count": 5,
      "source": [
        "person = {\"name\": \"Alice\", \"age\": 25, \"city\": \"Paris\"}\n",
        "\n",
        "# Remove by key\n",
        "person.pop(\"city\")\n",
        "print(person)\n",
        "# {'name': 'Alice', 'age': 25}\n",
        "\n",
        "# Remove last inserted\n",
        "person.popitem()\n",
        "print(person)\n",
        "# {'name': 'Alice'}\n",
        "\n",
        "# Reset dict for next demo\n",
        "person = {\"name\": \"Alice\", \"age\": 25, \"city\": \"Paris\"}\n",
        "del person[\"age\"]\n",
        "print(person)\n",
        "# {'name': 'Alice', 'city': 'Paris'}\n",
        "\n",
        "try:\n",
        "    print(person[\"abc\"])\n",
        "except KeyError as e:\n",
        "    print(\"Caught exception:\", repr(e))\n",
        "\n",
        "# Clear all\n",
        "person.clear()\n",
        "print(person)\n",
        "# {}"
      ],
      "outputs": [
        {
          "output_type": "stream",
          "name": "stdout",
          "text": [
            "{'name': 'Alice', 'age': 25}\n",
            "{'name': 'Alice'}\n",
            "{'name': 'Alice', 'city': 'Paris'}\n",
            "Caught exception: KeyError('abc')\n",
            "{}\n"
          ]
        }
      ]
    },
    {
      "id": "2d04ac66",
      "cell_type": "markdown",
      "source": [
        "## 5. Dictionary Methods Overview"
      ],
      "metadata": {
        "id": "2d04ac66"
      }
    },
    {
      "id": "c00ab2da",
      "cell_type": "code",
      "metadata": {
        "colab": {
          "base_uri": "https://localhost:8080/"
        },
        "id": "c00ab2da",
        "outputId": "1d899ab9-fe35-4e81-d357-6bb768cbef26"
      },
      "execution_count": 6,
      "source": [
        "student = {\"name\": \"John\", \"age\": 20, \"grade\": \"A\"}\n",
        "\n",
        "print(student.keys())\n",
        "print(student.values())\n",
        "print(student.items()) #List of (Key,value) tuples\n",
        "\n",
        "# Iteration\n",
        "test_scores = {\"Math\": 90, \"Science\": 85}\n",
        "for subject, score in test_scores.items():\n",
        "    print(subject, score)"
      ],
      "outputs": [
        {
          "output_type": "stream",
          "name": "stdout",
          "text": [
            "dict_keys(['name', 'age', 'grade'])\n",
            "dict_values(['John', 20, 'A'])\n",
            "dict_items([('name', 'John'), ('age', 20), ('grade', 'A')])\n",
            "Math 90\n",
            "Science 85\n"
          ]
        }
      ]
    },
    {
      "id": "c6ff349b",
      "cell_type": "markdown",
      "source": [
        "## 6. Checking Membership"
      ],
      "metadata": {
        "id": "c6ff349b"
      }
    },
    {
      "id": "238402b8",
      "cell_type": "code",
      "metadata": {
        "colab": {
          "base_uri": "https://localhost:8080/"
        },
        "id": "238402b8",
        "outputId": "45eae4eb-0652-4056-84b0-abcb5fff0a1e"
      },
      "execution_count": 7,
      "source": [
        "person = {\"name\": \"Alice\", \"age\": 25}\n",
        "\n",
        "print(\"name\" in person)   # True\n",
        "print(\"city\" in person)   # False"
      ],
      "outputs": [
        {
          "output_type": "stream",
          "name": "stdout",
          "text": [
            "True\n",
            "False\n"
          ]
        }
      ]
    },
    {
      "id": "4b8163a5",
      "cell_type": "markdown",
      "source": [
        "## 7. Dictionary Comprehensions"
      ],
      "metadata": {
        "id": "4b8163a5"
      }
    },
    {
      "id": "b5089861",
      "cell_type": "code",
      "metadata": {
        "colab": {
          "base_uri": "https://localhost:8080/"
        },
        "id": "b5089861",
        "outputId": "4f3ebedd-b28d-430f-e287-0d20c9eae0b4"
      },
      "execution_count": 8,
      "source": [
        "squares = {x: x**2 for x in range(5)}\n",
        "print(squares)\n",
        "\n",
        "# Filtering in comprehension\n",
        "filtered = {k:v for k,v in squares.items() if v % 2 == 0}\n",
        "print(filtered)"
      ],
      "outputs": [
        {
          "output_type": "stream",
          "name": "stdout",
          "text": [
            "{0: 0, 1: 1, 2: 4, 3: 9, 4: 16}\n",
            "{0: 0, 2: 4, 4: 16}\n"
          ]
        }
      ]
    },
    {
      "id": "74a55ab2",
      "cell_type": "markdown",
      "source": [
        "## 8. Nested Dictionaries"
      ],
      "metadata": {
        "id": "74a55ab2"
      }
    },
    {
      "id": "3098d4bb",
      "cell_type": "code",
      "metadata": {
        "colab": {
          "base_uri": "https://localhost:8080/"
        },
        "id": "3098d4bb",
        "outputId": "b3a213ac-eb47-4ef4-fda8-8861030e22a4"
      },
      "execution_count": 9,
      "source": [
        "students = {\n",
        "    \"Alice\": {\"age\": 25, \"major\": \"CS\"},\n",
        "    \"Bob\": {\"age\": 22, \"major\": \"Math\"}\n",
        "}\n",
        "\n",
        "print(students[\"Alice\"][\"major\"])  # CS"
      ],
      "outputs": [
        {
          "output_type": "stream",
          "name": "stdout",
          "text": [
            "CS\n"
          ]
        }
      ]
    },
    {
      "id": "dfa99027",
      "cell_type": "markdown",
      "source": [
        "## 9. Copying Dictionaries"
      ],
      "metadata": {
        "id": "dfa99027"
      }
    },
    {
      "id": "f468cfde",
      "cell_type": "code",
      "metadata": {
        "colab": {
          "base_uri": "https://localhost:8080/"
        },
        "id": "f468cfde",
        "outputId": "916a70ba-e0e7-4d37-af5f-a2aff633bbf6"
      },
      "execution_count": 10,
      "source": [
        "original = {\"a\": 1, \"b\": {\"nested\": 2}}\n",
        "shallow = original.copy()\n",
        "import copy\n",
        "deep = copy.deepcopy(original)\n",
        "\n",
        "original[\"b\"][\"nested\"] = 99\n",
        "print(\"Original:\", original)\n",
        "print(\"Shallow Copy:\", shallow)  # Affected\n",
        "print(\"Deep Copy:\", deep)        # Unaffected"
      ],
      "outputs": [
        {
          "output_type": "stream",
          "name": "stdout",
          "text": [
            "Original: {'a': 1, 'b': {'nested': 99}}\n",
            "Shallow Copy: {'a': 1, 'b': {'nested': 99}}\n",
            "Deep Copy: {'a': 1, 'b': {'nested': 2}}\n"
          ]
        }
      ]
    },
    {
      "id": "c8782e5b",
      "cell_type": "markdown",
      "source": [
        "#  Summary\n",
        "\n",
        "- **Create**: `{}`, `dict()`\n",
        "- **Access**: `d[key]`, `d.get(key)`\n",
        "- **Modify**: `d[key] = value`\n",
        "- **Remove**: `pop()`, `popitem()`, `del`, `clear()`\n",
        "- **Methods**: `keys()`, `values()`, `items()`\n",
        "- **Membership**: `key in dict`\n",
        "- **Comprehension**: `{k:v for ...}`\n",
        "- **Nested**: dictionaries inside dictionaries\n",
        "- **Copy**: `copy()`, `deepcopy()`\n",
        "- **Use Case**: flexible mapping for fast lookups"
      ],
      "metadata": {
        "id": "c8782e5b"
      }
    },
    {
      "cell_type": "markdown",
      "source": [
        "# **Fin.**"
      ],
      "metadata": {
        "id": "ceA1jCHHzEzz"
      },
      "id": "ceA1jCHHzEzz"
    }
  ]
}
