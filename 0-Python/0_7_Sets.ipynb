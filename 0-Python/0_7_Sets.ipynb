{
  "cells": [
    {
      "cell_type": "markdown",
      "metadata": {
        "id": "view-in-github",
        "colab_type": "text"
      },
      "source": [
        "<a href=\"https://colab.research.google.com/github/armancodes1/a-data-science-journey/blob/main/0-Python/0_7_Sets.ipynb\" target=\"_parent\"><img src=\"https://colab.research.google.com/assets/colab-badge.svg\" alt=\"Open In Colab\"/></a>"
      ]
    },
    {
      "cell_type": "markdown",
      "id": "b9ff04ac",
      "metadata": {
        "id": "b9ff04ac"
      },
      "source": [
        "# Python Sets:\n",
        "\n",
        "Sets are one of Python’s built-in collection types. They are **unordered**, **mutable**, and contain only **unique elements**."
      ]
    },
    {
      "cell_type": "markdown",
      "id": "3f1215ed",
      "metadata": {
        "id": "3f1215ed"
      },
      "source": [
        "## 1. Creating Sets\n",
        "- Use `{}` or `set()` constructor.\n",
        "- Duplicates are automatically removed."
      ]
    },
    {
      "cell_type": "code",
      "execution_count": 1,
      "id": "5ceff1e3",
      "metadata": {
        "colab": {
          "base_uri": "https://localhost:8080/"
        },
        "id": "5ceff1e3",
        "outputId": "1f792b88-37cb-48f3-cf83-4939e2188fe5"
      },
      "outputs": [
        {
          "output_type": "stream",
          "name": "stdout",
          "text": [
            "{1, 2, 3}\n",
            "{1, 2, 4}\n",
            "<class 'set'>\n",
            "<class 'dict'>\n"
          ]
        }
      ],
      "source": [
        "# Creating sets\n",
        "s1 = {1, 2, 3, 3, 2}\n",
        "print(s1)   # {1, 2, 3} -> duplicates removed\n",
        "\n",
        "s2 = set([1, 2, 2, 4])\n",
        "print(s2)   # {1, 2, 4}\n",
        "\n",
        "empty = set()   # Correct way\n",
        "print(type(empty))\n",
        "\n",
        "# Wrong way: {} creates an empty dict, not a set\n",
        "print(type({}))"
      ]
    },
    {
      "cell_type": "markdown",
      "id": "2fb280ad",
      "metadata": {
        "id": "2fb280ad"
      },
      "source": [
        "## 2. Properties of Sets\n",
        "- **Unordered**: No fixed index-based access.\n",
        "- **Mutable**: You can add/remove elements.\n",
        "- **Unique elements**: No duplicates allowed."
      ]
    },
    {
      "cell_type": "code",
      "execution_count": 2,
      "id": "ba5ac498",
      "metadata": {
        "colab": {
          "base_uri": "https://localhost:8080/"
        },
        "id": "ba5ac498",
        "outputId": "0ed8b4d5-b4e7-4e51-9a74-00e7949316e5"
      },
      "outputs": [
        {
          "output_type": "stream",
          "name": "stdout",
          "text": [
            "{1, 2, 3}\n",
            "1\n",
            "2\n",
            "3\n"
          ]
        }
      ],
      "source": [
        "# Demonstrating uniqueness\n",
        "s = {1, 1, 2, 3}\n",
        "print(s)\n",
        "\n",
        "# Unordered nature\n",
        "for i in s:\n",
        "    print(i)"
      ]
    },
    {
      "cell_type": "markdown",
      "id": "c3567d87",
      "metadata": {
        "id": "c3567d87"
      },
      "source": [
        "## 3. Adding and Removing Elements\n",
        "- `add(x)`: Adds an element.\n",
        "- `update(iterable)`: Adds multiple elements.\n",
        "- `remove(x)`: Removes element, raises `KeyError` if not found.\n",
        "- `discard(x)`: Removes element if present, no error otherwise.\n",
        "- `pop()`: Removes and returns a random element.\n",
        "- `clear()`: Removes all elements."
      ]
    },
    {
      "cell_type": "code",
      "execution_count": 3,
      "id": "ccdb6618",
      "metadata": {
        "colab": {
          "base_uri": "https://localhost:8080/"
        },
        "id": "ccdb6618",
        "outputId": "b2f67de8-f88b-4fbd-a9c7-e5959d6177d1"
      },
      "outputs": [
        {
          "output_type": "stream",
          "name": "stdout",
          "text": [
            "{1, 2, 3}\n",
            "{1, 2, 3, 4, 5}\n",
            "{2, 3, 4, 5}\n",
            "{2, 3, 4, 5}\n",
            "Popped: 2 Remaining: {3, 4, 5}\n",
            "set()\n"
          ]
        }
      ],
      "source": [
        "s = {1, 2}\n",
        "s.add(3)\n",
        "print(s)\n",
        "\n",
        "s.update([4, 5])\n",
        "print(s)\n",
        "\n",
        "s.remove(1)\n",
        "print(s)\n",
        "\n",
        "s.discard(10)   # Safe remove\n",
        "print(s)\n",
        "\n",
        "removed = s.pop()\n",
        "print(\"Popped:\", removed, \"Remaining:\", s)\n",
        "\n",
        "s.clear()\n",
        "print(s)"
      ]
    },
    {
      "cell_type": "markdown",
      "id": "919aa50d",
      "metadata": {
        "id": "919aa50d"
      },
      "source": [
        "## 4. Set Operations\n",
        "Sets support standard mathematical operations.\n",
        "\n",
        "- Union (`|` or `union()`)\n",
        "- Intersection (`&` or `intersection()`)\n",
        "- Difference (`-` or `difference()`)\n",
        "- Symmetric Difference (`^` or `symmetric_difference()`)"
      ]
    },
    {
      "cell_type": "code",
      "execution_count": 4,
      "id": "85e45a86",
      "metadata": {
        "colab": {
          "base_uri": "https://localhost:8080/"
        },
        "id": "85e45a86",
        "outputId": "dcc787b5-3ff6-4b95-f8c6-346ef0133a22"
      },
      "outputs": [
        {
          "output_type": "stream",
          "name": "stdout",
          "text": [
            "Union: {1, 2, 3, 4, 5, 6}\n",
            "Intersection: {3, 4}\n",
            "Difference: {1, 2}\n",
            "Symmetric Difference: {1, 2, 5, 6}\n"
          ]
        }
      ],
      "source": [
        "a = {1, 2, 3, 4}\n",
        "b = {3, 4, 5, 6}\n",
        "\n",
        "print(\"Union:\", a | b)\n",
        "print(\"Intersection:\", a & b)\n",
        "print(\"Difference:\", a - b)\n",
        "print(\"Symmetric Difference:\", a ^ b)"
      ]
    },
    {
      "cell_type": "markdown",
      "id": "b4acc858",
      "metadata": {
        "id": "b4acc858"
      },
      "source": [
        "## 5. Set Methods\n",
        "\n",
        "- `issubset()`, `issuperset()`, `isdisjoint()`"
      ]
    },
    {
      "cell_type": "code",
      "execution_count": 5,
      "id": "36315c21",
      "metadata": {
        "colab": {
          "base_uri": "https://localhost:8080/"
        },
        "id": "36315c21",
        "outputId": "f476033e-a8ca-4033-ba0b-73c8b365e353"
      },
      "outputs": [
        {
          "output_type": "stream",
          "name": "stdout",
          "text": [
            "True\n",
            "True\n",
            "True\n"
          ]
        }
      ],
      "source": [
        "a = {1, 2}\n",
        "b = {1, 2, 3}\n",
        "\n",
        "print(a.issubset(b))      # True\n",
        "print(b.issuperset(a))    # True\n",
        "print(a.isdisjoint({4,5})) # True"
      ]
    },
    {
      "cell_type": "markdown",
      "id": "2c61a296",
      "metadata": {
        "id": "2c61a296"
      },
      "source": [
        "## 6. Frozenset (Immutable Set)\n",
        "- `frozenset` is an **immutable** version of a set.\n",
        "- Useful when you need a set as a dictionary key or an element inside another set."
      ]
    },
    {
      "cell_type": "code",
      "execution_count": 8,
      "id": "110f6f64",
      "metadata": {
        "colab": {
          "base_uri": "https://localhost:8080/"
        },
        "id": "110f6f64",
        "outputId": "a6d8170e-6549-4cb9-a258-b4c4a901eccd"
      },
      "outputs": [
        {
          "output_type": "stream",
          "name": "stdout",
          "text": [
            "frozenset({1, 2, 3})\n",
            "'frozenset' object has no attribute 'add'\n",
            "{frozenset({1, 2, 3}), frozenset({4, 5})}\n"
          ]
        }
      ],
      "source": [
        "fs = frozenset([1, 2, 3])\n",
        "print(fs)\n",
        "\n",
        "try:\n",
        "  fs.add(4)   # Error: cannot modify frozenset\n",
        "except AttributeError as e:\n",
        "  print(e)\n",
        "\n",
        "normal_set = {fs, frozenset([4, 5])}\n",
        "print(normal_set)"
      ]
    },
    {
      "cell_type": "markdown",
      "id": "dd5d87fe",
      "metadata": {
        "id": "dd5d87fe"
      },
      "source": [
        "## 7. Practical Examples"
      ]
    },
    {
      "cell_type": "code",
      "execution_count": 7,
      "id": "ba03f75b",
      "metadata": {
        "colab": {
          "base_uri": "https://localhost:8080/"
        },
        "id": "ba03f75b",
        "outputId": "5d695874-6122-4531-9372-e98f852dbcf6"
      },
      "outputs": [
        {
          "output_type": "stream",
          "name": "stdout",
          "text": [
            "[1, 2, 3, 4, 5]\n",
            "True\n",
            "False\n",
            "Common interests: {'python', 'ai'}\n"
          ]
        }
      ],
      "source": [
        "# Removing duplicates from a list using set\n",
        "nums = [1,2,2,3,4,4,5]\n",
        "unique_nums = list(set(nums))\n",
        "print(unique_nums)\n",
        "\n",
        "# Membership test (faster with sets)\n",
        "print(3 in unique_nums)\n",
        "print(10 in unique_nums)\n",
        "\n",
        "# Intersection of tags in two users\n",
        "user1_tags = {\"python\", \"ml\", \"ai\"}\n",
        "user2_tags = {\"python\", \"datascience\", \"ai\"}\n",
        "\n",
        "common = user1_tags & user2_tags\n",
        "print(\"Common interests:\", common)"
      ]
    },
    {
      "cell_type": "markdown",
      "id": "23665b5e",
      "metadata": {
        "id": "23665b5e"
      },
      "source": [
        "## 8. Key Takeaways\n",
        "- Sets are **unordered, mutable, unique collections**.\n",
        "- Great for **membership tests** and **mathematical set operations**.\n",
        "- Use `frozenset` when immutability is required.\n",
        "- Be cautious: sets cannot contain **mutable elements** (like lists or other sets)."
      ]
    },
    {
      "cell_type": "markdown",
      "source": [
        "# **Fin.**"
      ],
      "metadata": {
        "id": "XvLFCkC611K3"
      },
      "id": "XvLFCkC611K3"
    }
  ],
  "metadata": {
    "colab": {
      "provenance": [],
      "include_colab_link": true
    },
    "language_info": {
      "name": "python"
    },
    "kernelspec": {
      "name": "python3",
      "display_name": "Python 3"
    }
  },
  "nbformat": 4,
  "nbformat_minor": 5
}