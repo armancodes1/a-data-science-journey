{
  "cells": [
    {
      "cell_type": "markdown",
      "metadata": {
        "id": "view-in-github",
        "colab_type": "text"
      },
      "source": [
        "<a href=\"https://colab.research.google.com/github/armancodes1/a-data-science-journey/blob/main/0-Python/0_9_Functions.ipynb\" target=\"_parent\"><img src=\"https://colab.research.google.com/assets/colab-badge.svg\" alt=\"Open In Colab\"/></a>"
      ]
    },
    {
      "cell_type": "markdown",
      "id": "dca10b37",
      "metadata": {
        "id": "dca10b37"
      },
      "source": [
        "# Python Functions"
      ]
    },
    {
      "cell_type": "markdown",
      "id": "7cba79f2",
      "metadata": {
        "id": "7cba79f2"
      },
      "source": [
        "## 1. Introduction\n",
        "- Functions are reusable blocks of code.\n",
        "- They improve readability, modularity, and maintainability.\n",
        "- Syntax:\n",
        "```python\n",
        "def function_name(parameters):\n",
        "    '''docstring'''\n",
        "    statements\n",
        "    return value\n",
        "```"
      ]
    },
    {
      "cell_type": "markdown",
      "id": "14c7c7c4",
      "metadata": {
        "id": "14c7c7c4"
      },
      "source": [
        "## 2. Defining and Calling Functions"
      ]
    },
    {
      "cell_type": "code",
      "execution_count": 20,
      "id": "0614b1a3",
      "metadata": {
        "colab": {
          "base_uri": "https://localhost:8080/"
        },
        "id": "0614b1a3",
        "outputId": "b1d79fb9-d8ef-4e7e-f765-dc17c7e039f3"
      },
      "outputs": [
        {
          "output_type": "stream",
          "name": "stdout",
          "text": [
            "Hello, Alice!\n",
            "Hello, Bob!\n"
          ]
        }
      ],
      "source": [
        "def greet(name):\n",
        "    return f'Hello, {name}!'\n",
        "\n",
        "print(greet('Alice'))\n",
        "print(greet('Bob'))"
      ]
    },
    {
      "cell_type": "markdown",
      "id": "d9733c8d",
      "metadata": {
        "id": "d9733c8d"
      },
      "source": [
        "## 3. Function Arguments"
      ]
    },
    {
      "cell_type": "code",
      "execution_count": 21,
      "id": "7c651b95",
      "metadata": {
        "colab": {
          "base_uri": "https://localhost:8080/"
        },
        "id": "7c651b95",
        "outputId": "075f1a6c-0f26-45fe-dd83-bd39ea76cd3b"
      },
      "outputs": [
        {
          "output_type": "stream",
          "name": "stdout",
          "text": [
            "15\n",
            "25\n",
            "Args: (1, 2, 3)\n",
            "Kwargs: {'name': 'Alice', 'age': 25}\n"
          ]
        }
      ],
      "source": [
        "def add(a, b=10):  # b has default value\n",
        "    return a + b\n",
        "\n",
        "print(add(5))       # Uses default b=10 → 15\n",
        "print(add(5, 20))   # Overrides default b=20 → 25\n",
        "\n",
        "\n",
        "# *args = collects extra positional arguments into a tuple\n",
        "# **kwargs = collects extra keyword arguments into a dictionary\n",
        "def demo(*args, **kwargs):\n",
        "    print('Args:', args)       # tuple of positional arguments\n",
        "    print('Kwargs:', kwargs)   # dictionary of keyword arguments\n",
        "\n",
        "# Here: 1,2,3 → go into args\n",
        "#       name='Alice', age=25 → go into kwargs\n",
        "demo(1, 2, 3, name='Alice', age=25)"
      ]
    },
    {
      "cell_type": "markdown",
      "id": "6359b500",
      "metadata": {
        "id": "6359b500"
      },
      "source": [
        "## 4. Return Values"
      ]
    },
    {
      "cell_type": "code",
      "execution_count": 22,
      "id": "d4d033d9",
      "metadata": {
        "colab": {
          "base_uri": "https://localhost:8080/"
        },
        "id": "d4d033d9",
        "outputId": "cb982772-70c1-4650-fd1b-d7d613f17c0e"
      },
      "outputs": [
        {
          "output_type": "stream",
          "name": "stdout",
          "text": [
            "Square: 9 Cube: 27\n"
          ]
        }
      ],
      "source": [
        "def square_and_cube(x):\n",
        "    return x**2, x**3\n",
        "\n",
        "s, c = square_and_cube(3)\n",
        "print('Square:', s, 'Cube:', c)"
      ]
    },
    {
      "cell_type": "markdown",
      "id": "4ca9bf97",
      "metadata": {
        "id": "4ca9bf97"
      },
      "source": [
        "## 5. Scope (Local, Global, Nonlocal)"
      ]
    },
    {
      "cell_type": "code",
      "execution_count": 23,
      "id": "0245385d",
      "metadata": {
        "colab": {
          "base_uri": "https://localhost:8080/"
        },
        "id": "0245385d",
        "outputId": "2addb968-e1cd-4cfc-fe56-4945bfe4a449"
      },
      "outputs": [
        {
          "output_type": "stream",
          "name": "stdout",
          "text": [
            "Inside function: 5\n",
            "Global: 10\n",
            "Modified Global: 50\n",
            "Nonlocal: 101\n"
          ]
        }
      ],
      "source": [
        "x = 10\n",
        "def local_scope():\n",
        "    x = 5\n",
        "    print('Inside function:', x)\n",
        "\n",
        "local_scope()\n",
        "print('Global:', x)\n",
        "\n",
        "# Using global\n",
        "def modify_global():\n",
        "    global x\n",
        "    x = 50\n",
        "modify_global()\n",
        "print('Modified Global:', x)\n",
        "\n",
        "# Nonlocal example\n",
        "def outer():\n",
        "    y = 100\n",
        "    def inner():\n",
        "        nonlocal y\n",
        "        y += 1\n",
        "        return y\n",
        "    return inner()\n",
        "\n",
        "print('Nonlocal:', outer())"
      ]
    },
    {
      "cell_type": "markdown",
      "id": "8d5bf31b",
      "metadata": {
        "id": "8d5bf31b"
      },
      "source": [
        "## 6. Lambda (Anonymous) Functions"
      ]
    },
    {
      "cell_type": "code",
      "execution_count": 24,
      "id": "a6a61a97",
      "metadata": {
        "colab": {
          "base_uri": "https://localhost:8080/"
        },
        "id": "a6a61a97",
        "outputId": "2fc74e32-dbe6-4abd-f2e1-b1e068520b34"
      },
      "outputs": [
        {
          "output_type": "stream",
          "name": "stdout",
          "text": [
            "Square of 5: 25\n",
            "Squares: [1, 4, 9, 16]\n"
          ]
        }
      ],
      "source": [
        "square = lambda x: x**2\n",
        "print('Square of 5:', square(5))\n",
        "\n",
        "nums = [1,2,3,4]\n",
        "squares = list(map(lambda x: x**2, nums))\n",
        "print('Squares:', squares)"
      ]
    },
    {
      "cell_type": "markdown",
      "id": "92fa462e",
      "metadata": {
        "id": "92fa462e"
      },
      "source": [
        "## 7. Docstrings & Annotations"
      ]
    },
    {
      "cell_type": "code",
      "execution_count": 25,
      "id": "c6d43f04",
      "metadata": {
        "colab": {
          "base_uri": "https://localhost:8080/"
        },
        "id": "c6d43f04",
        "outputId": "16e55d80-5e7a-4f7a-f755-bad175574790"
      },
      "outputs": [
        {
          "output_type": "stream",
          "name": "stdout",
          "text": [
            "12\n",
            "Multiply two integers and return the result.\n"
          ]
        }
      ],
      "source": [
        "def multiply(a: int, b: int) -> int:\n",
        "    '''Multiply two integers and return the result.'''\n",
        "    return a * b\n",
        "\n",
        "print(multiply(3,4))\n",
        "print(multiply.__doc__)"
      ]
    },
    {
      "cell_type": "markdown",
      "id": "9d5f479f",
      "metadata": {
        "id": "9d5f479f"
      },
      "source": [
        "## 8. Higher-order Functions"
      ]
    },
    {
      "cell_type": "code",
      "execution_count": 29,
      "id": "269ea689",
      "metadata": {
        "colab": {
          "base_uri": "https://localhost:8080/"
        },
        "id": "269ea689",
        "outputId": "ebe4324b-b0e2-4aad-f716-7e158206349d"
      },
      "outputs": [
        {
          "output_type": "stream",
          "name": "stdout",
          "text": [
            "Map: [2, 4, 6, 8, 10]\n",
            "Filter: [2, 4]\n",
            "Reduce: 15\n"
          ]
        }
      ],
      "source": [
        "from functools import reduce   # reduce() is inside functools\n",
        "\n",
        "nums = [1, 2, 3, 4, 5]\n",
        "\n",
        "# map(function, iterable)\n",
        "# → applies the given function to each element of the iterable\n",
        "# Here: multiply each element by 2 → [2, 4, 6, 8, 10]\n",
        "print('Map:', list(map(lambda x: x * 2, nums)))\n",
        "\n",
        "# filter(function, iterable)\n",
        "# → keeps only those elements for which the function returns True\n",
        "# Here: keep only even numbers → [2, 4]\n",
        "print('Filter:', list(filter(lambda x: x % 2 == 0, nums)))\n",
        "\n",
        "# reduce(function, iterable)\n",
        "# → repeatedly applies the function to accumulate a single result\n",
        "# Example: (((1+2)+3)+4)+5 = 15\n",
        "print('Reduce:', reduce(lambda a, b: a + b, nums))"
      ]
    },
    {
      "cell_type": "markdown",
      "id": "dc8fd854",
      "metadata": {
        "id": "dc8fd854"
      },
      "source": [
        "## 9. Recursion"
      ]
    },
    {
      "cell_type": "code",
      "execution_count": 27,
      "id": "0bedf9be",
      "metadata": {
        "colab": {
          "base_uri": "https://localhost:8080/"
        },
        "id": "0bedf9be",
        "outputId": "d3da83a8-b300-4d0a-bfea-a3fe10a3c189"
      },
      "outputs": [
        {
          "output_type": "stream",
          "name": "stdout",
          "text": [
            "Factorial 5: 120\n"
          ]
        }
      ],
      "source": [
        "def factorial(n):\n",
        "    if n==0:\n",
        "        return 1\n",
        "    return n * factorial(n-1)\n",
        "\n",
        "print('Factorial 5:', factorial(5))"
      ]
    },
    {
      "cell_type": "markdown",
      "id": "e2e22326",
      "metadata": {
        "id": "e2e22326"
      },
      "source": [
        "## 10. Built-in vs User-defined Functions"
      ]
    },
    {
      "cell_type": "code",
      "execution_count": 28,
      "id": "91286bd0",
      "metadata": {
        "colab": {
          "base_uri": "https://localhost:8080/"
        },
        "id": "91286bd0",
        "outputId": "5a18c056-0634-4bab-b88e-d5a73146e95c"
      },
      "outputs": [
        {
          "output_type": "stream",
          "name": "stdout",
          "text": [
            "Built-in len: 3\n",
            "User-defined len: 3\n"
          ]
        }
      ],
      "source": [
        "print('Built-in len:', len([1,2,3]))\n",
        "\n",
        "def my_len(lst):\n",
        "    count=0\n",
        "    for _ in lst:\n",
        "        count+=1\n",
        "    return count\n",
        "\n",
        "print('User-defined len:', my_len([1,2,3]))"
      ]
    },
    {
      "cell_type": "markdown",
      "id": "a714e456",
      "metadata": {
        "id": "a714e456"
      },
      "source": [
        "## 11. Best Practices\n",
        "- Use descriptive function names.\n",
        "- Write docstrings.\n",
        "- Keep functions small and modular.\n",
        "- Avoid too many arguments (group them into dicts or objects).\n",
        "- Use type hints for clarity."
      ]
    },
    {
      "cell_type": "markdown",
      "source": [
        "# **Fin.**"
      ],
      "metadata": {
        "id": "vRFXtlyPFqLf"
      },
      "id": "vRFXtlyPFqLf"
    }
  ],
  "metadata": {
    "colab": {
      "provenance": [],
      "include_colab_link": true
    },
    "language_info": {
      "name": "python"
    },
    "kernelspec": {
      "name": "python3",
      "display_name": "Python 3"
    }
  },
  "nbformat": 4,
  "nbformat_minor": 5
}