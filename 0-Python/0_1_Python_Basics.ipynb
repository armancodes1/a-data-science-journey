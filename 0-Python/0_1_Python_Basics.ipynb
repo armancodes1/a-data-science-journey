{
  "nbformat": 4,
  "nbformat_minor": 0,
  "metadata": {
    "colab": {
      "provenance": [],
      "authorship_tag": "ABX9TyPeaEBDinPUhZ4f8d74Zemn",
      "include_colab_link": true
    },
    "kernelspec": {
      "name": "python3",
      "display_name": "Python 3"
    },
    "language_info": {
      "name": "python"
    }
  },
  "cells": [
    {
      "cell_type": "markdown",
      "metadata": {
        "id": "view-in-github",
        "colab_type": "text"
      },
      "source": [
        "<a href=\"https://colab.research.google.com/github/armancodes1/a-data-science-journey/blob/main/0-Python/0_1_Python_Basics.ipynb\" target=\"_parent\"><img src=\"https://colab.research.google.com/assets/colab-badge.svg\" alt=\"Open In Colab\"/></a>"
      ]
    },
    {
      "cell_type": "markdown",
      "source": [
        "**Python Basics**\n",
        "\n",
        "* Input, Output\n",
        "* Data Types, Type Casting\n",
        "* Import"
      ],
      "metadata": {
        "id": "2ugK5eFBFTkv"
      }
    },
    {
      "cell_type": "markdown",
      "metadata": {
        "id": "576e2aad"
      },
      "source": [
        "**Input and Output**\n",
        "\n",
        "* **Input:** Getting data from the user or another source. The `input()` function is commonly used to get user input, which is always returned as a string.\n",
        "* **Output:** Displaying data to the user or writing it to a file. The `print()` function is used to display output to the console."
      ]
    },
    {
      "cell_type": "code",
      "metadata": {
        "colab": {
          "base_uri": "https://localhost:8080/"
        },
        "id": "b7f56c98",
        "outputId": "0a81f402-18a9-47e1-b385-0e0ce9c006eb"
      },
      "source": [
        "# Input example\n",
        "name = input(\"Enter your name: \")\n",
        "print(f\"Hello, {name}!\")\n",
        "\n",
        "# Output example\n",
        "age = 0\n",
        "print(\"Your age is:\", age)"
      ],
      "execution_count": 12,
      "outputs": [
        {
          "output_type": "stream",
          "name": "stdout",
          "text": [
            "Enter your name: A\n",
            "Hello, A!\n",
            "Your age is: 0\n"
          ]
        }
      ]
    },
    {
      "cell_type": "markdown",
      "source": [
        "**Common Python Data Types**\n",
        "\n",
        "1.Integers (int): These are whole numbers, positive or negative, without any decimal point.\n",
        "\n",
        "2.Floats (float): These are numbers with a decimal point.\n",
        "\n",
        "3.Strings (str): This is a sequence of characters, like text. Strings are always enclosed in single quotes ('...'), double quotes (\"...\"), or triple quotes ('''...''').\n",
        "\n",
        "4.Booleans (bool): These represent one of two values: True or False. Booleans are essential for making decisions in your code."
      ],
      "metadata": {
        "id": "-zuWmNpAMP07"
      }
    },
    {
      "cell_type": "code",
      "source": [
        "print(type(1)) #int\n",
        "print(type(1.0)) #float\n",
        "print(type(\"1\")) #str\n",
        "print(type(True)) #bool"
      ],
      "metadata": {
        "colab": {
          "base_uri": "https://localhost:8080/"
        },
        "id": "e1O1SmGdMXzZ",
        "outputId": "abb50b1a-b302-4fd2-dd95-7076c5226baa"
      },
      "execution_count": 13,
      "outputs": [
        {
          "output_type": "stream",
          "name": "stdout",
          "text": [
            "<class 'int'>\n",
            "<class 'float'>\n",
            "<class 'str'>\n",
            "<class 'bool'>\n"
          ]
        }
      ]
    },
    {
      "cell_type": "markdown",
      "source": [
        "**Input and Type Conversion (Type Casting)**\n",
        "\n",
        "To convert one data type to another, a process also known as type casting.\n",
        "\n",
        "We can use the int(), float(), and str() functions to explicitly change a variable's type."
      ],
      "metadata": {
        "id": "aTJYBDGNNRJn"
      }
    },
    {
      "cell_type": "code",
      "source": [
        "age_as_string = \"0\"\n",
        "print(type(age_as_string))\n",
        "age_as_number = int(age_as_string)\n",
        "print(type(age_as_number))"
      ],
      "metadata": {
        "colab": {
          "base_uri": "https://localhost:8080/"
        },
        "id": "dF_aseB5NU8k",
        "outputId": "7f26a084-6833-46ab-c844-789b7f156712"
      },
      "execution_count": 14,
      "outputs": [
        {
          "output_type": "stream",
          "name": "stdout",
          "text": [
            "<class 'str'>\n",
            "<class 'int'>\n"
          ]
        }
      ]
    },
    {
      "cell_type": "markdown",
      "metadata": {
        "id": "dcad7424"
      },
      "source": [
        "**Python Operators**\n",
        "\n",
        "Operators are special symbols in Python that carry out arithmetic or logical computation. The value that the operator operates on is called the operand.\n",
        "\n",
        "Python provides a variety of operators:\n",
        "\n",
        "1.  **Arithmetic operators:** Perform mathematical operations like addition, subtraction, multiplication, division, modulus, exponentiation, and floor division.\n",
        "2.  **Comparison operators:** Compare two values and return `True` or `False`. These include equal to, not equal to, greater than, less than, greater than or equal to, and less than or equal to.\n",
        "3.  **Assignment operators:** Assign values to variables.\n",
        "4.  **Logical operators:** Combine conditional statements. These include `and`, `or`, and `not`.\n",
        "5.  **Identity operators:** Check if two variables refer to the same object. These are `is` and `is not`.\n",
        "6.  **Membership operators:** Check if a value is present in a sequence (like a string, list, or tuple). These are `in` and `not in`.\n",
        "7.  **Bitwise operators:** Perform operations on the binary representation of numbers."
      ]
    },
    {
      "cell_type": "code",
      "source": [
        "# Arithmetic operators\n",
        "a = 10\n",
        "b = 5\n",
        "print(f\"a + b = {a + b}\") # Addition\n",
        "print(f\"a - b = {a - b}\") # Subtraction\n",
        "print(f\"a * b = {a * b}\") # Multiplication\n",
        "print(f\"a / b = {a / b}\") # Division\n",
        "print(f\"a % b = {a % b}\") # Modulus (remainder)\n",
        "print(f\"a ** b = {a ** b}\") # Exponentiation\n",
        "print(f\"a // b = {a // b}\") # Floor division (integer division)"
      ],
      "metadata": {
        "colab": {
          "base_uri": "https://localhost:8080/"
        },
        "id": "C7i7jHF8Ngau",
        "outputId": "2f1f0879-a651-46bd-ce47-76ec1495c4b5"
      },
      "execution_count": 15,
      "outputs": [
        {
          "output_type": "stream",
          "name": "stdout",
          "text": [
            "a + b = 15\n",
            "a - b = 5\n",
            "a * b = 50\n",
            "a / b = 2.0\n",
            "a % b = 0\n",
            "a ** b = 100000\n",
            "a // b = 2\n"
          ]
        }
      ]
    },
    {
      "cell_type": "code",
      "metadata": {
        "colab": {
          "base_uri": "https://localhost:8080/"
        },
        "id": "9a3449d4",
        "outputId": "a5d8ae09-9b73-4147-9cda-e770cf69ffa1"
      },
      "source": [
        "# Comparison operators\n",
        "x = 10\n",
        "y = 12\n",
        "print(f\"x == y: {x == y}\") # Equal to\n",
        "print(f\"x != y: {x != y}\") # Not equal to\n",
        "print(f\"x > y: {x > y}\") # Greater than\n",
        "print(f\"x < y: {x < y}\") # Less than\n",
        "print(f\"x >= y: {x >= y}\") # Greater than or equal to\n",
        "print(f\"x <= y: {x <= y}\") # Less than or equal to"
      ],
      "execution_count": 16,
      "outputs": [
        {
          "output_type": "stream",
          "name": "stdout",
          "text": [
            "x == y: False\n",
            "x != y: True\n",
            "x > y: False\n",
            "x < y: True\n",
            "x >= y: False\n",
            "x <= y: True\n"
          ]
        }
      ]
    },
    {
      "cell_type": "code",
      "metadata": {
        "colab": {
          "base_uri": "https://localhost:8080/"
        },
        "id": "61ac5b92",
        "outputId": "62996fa8-68de-4473-ef4f-8295e5233f29"
      },
      "source": [
        "# Assignment operators\n",
        "x = 2   # initial value\n",
        "\n",
        "x += 5    # Add and assign → x = x + 5\n",
        "print(\"x after += 5 :\", x)\n",
        "\n",
        "x -= 3    # Subtract and assign → x = x - 3\n",
        "print(\"x after -= 3 :\", x)\n",
        "\n",
        "x *= 2    # Multiply and assign → x = x * 2\n",
        "print(\"x after *= 2 :\", x)\n",
        "\n",
        "x /= 4    # Divide and assign → x = x / 4\n",
        "print(\"x after /= 4 :\", x)\n",
        "\n",
        "x %= 3    # Modulus and assign → x = x % 3 (remainder)\n",
        "print(\"x after %= 3 :\", x)\n",
        "\n",
        "x **= 2   # Exponentiation and assign → x = x ** 2\n",
        "print(\"x after **= 2:\", x)\n",
        "\n",
        "x //= 2   # Floor divide and assign → x = x // 2 (integer division)\n",
        "print(\"x after //= 2:\", x)\n"
      ],
      "execution_count": 17,
      "outputs": [
        {
          "output_type": "stream",
          "name": "stdout",
          "text": [
            "x after += 5 : 7\n",
            "x after -= 3 : 4\n",
            "x after *= 2 : 8\n",
            "x after /= 4 : 2.0\n",
            "x after %= 3 : 2.0\n",
            "x after **= 2: 4.0\n",
            "x after //= 2: 2.0\n"
          ]
        }
      ]
    },
    {
      "cell_type": "code",
      "metadata": {
        "colab": {
          "base_uri": "https://localhost:8080/"
        },
        "id": "64cde9dd",
        "outputId": "39833d65-700d-486e-a92f-14e8747a72d1"
      },
      "source": [
        "# Logical operators\n",
        "p = True\n",
        "q = False\n",
        "print(f\"p and q: {p and q}\") # Logical AND\n",
        "print(f\"p or q: {p or q}\") # Logical OR\n",
        "print(f\"not p: {not p}\") # Logical NOT"
      ],
      "execution_count": 18,
      "outputs": [
        {
          "output_type": "stream",
          "name": "stdout",
          "text": [
            "p and q: False\n",
            "p or q: True\n",
            "not p: False\n"
          ]
        }
      ]
    },
    {
      "cell_type": "code",
      "metadata": {
        "colab": {
          "base_uri": "https://localhost:8080/"
        },
        "id": "70e3d7ce",
        "outputId": "7baddcb1-be90-4942-fbf0-17a119f48edb"
      },
      "source": [
        "# Identity operators\n",
        "list1 = [1, 2, 3]\n",
        "list2 = [1, 2, 3]\n",
        "list3 = list1\n",
        "print(f\"list1 is list2: {list1 is list2}\") # is operator\n",
        "print(f\"list1 is list3: {list1 is list3}\") # is operator\n",
        "print(f\"list1 is not list2: {list1 is not list2}\") # is not operator"
      ],
      "execution_count": 19,
      "outputs": [
        {
          "output_type": "stream",
          "name": "stdout",
          "text": [
            "list1 is list2: False\n",
            "list1 is list3: True\n",
            "list1 is not list2: True\n"
          ]
        }
      ]
    },
    {
      "cell_type": "code",
      "metadata": {
        "colab": {
          "base_uri": "https://localhost:8080/"
        },
        "id": "76db1c5b",
        "outputId": "845313af-31c3-4a57-83a4-4d79380514d6"
      },
      "source": [
        "# Membership operators\n",
        "my_list = [1, 2, 3, 4, 5]\n",
        "print(f\"3 in my_list: {3 in my_list}\") # in operator\n",
        "print(f\"6 not in my_list: {6 not in my_list}\") # not in operator"
      ],
      "execution_count": 20,
      "outputs": [
        {
          "output_type": "stream",
          "name": "stdout",
          "text": [
            "3 in my_list: True\n",
            "6 not in my_list: True\n"
          ]
        }
      ]
    },
    {
      "cell_type": "markdown",
      "metadata": {
        "id": "fa6d6043"
      },
      "source": [
        "**Python Imports**\n",
        "\n",
        "In Python, the `import` statement is used to bring functions, classes, and variables from other modules or packages into your current script. This allows you to reuse code and organize your programs effectively.\n",
        "\n",
        "There are several ways to import:\n",
        "\n",
        "1. **`import module_name`**: Imports the entire module. You then access its contents using `module_name.item_name`.\n",
        "2. **`import module_name as alias`**: Imports the entire module and assigns it an alias. You access its contents using `alias.item_name`. This is useful for shorter names or avoiding naming conflicts.\n",
        "3. **`from module_name import item_name`**: Imports a specific item (function, class, or variable) directly from the module. You can then use `item_name` directly without the module name.\n",
        "4. **`from module_name import *`**: Imports all items from the module. This is generally discouraged in larger programs as it can lead to naming conflicts and make it harder to understand where items are coming from."
      ]
    },
    {
      "cell_type": "code",
      "source": [
        "# Example 1: Importing the entire math module\n",
        "import math\n",
        "\n",
        "print(f\"The value of pi is: {math.pi}\")\n",
        "print(f\"The square root of 16 is: {math.sqrt(16)}\")\n",
        "\n",
        "# Example 2: Importing with an alias\n",
        "import random as rng\n",
        "\n",
        "print(f\"A random number between 0 and 1 is: {rng.random():.4f}\")\n",
        "\n",
        "# Example 3: Importing a specific item\n",
        "from datetime import date\n",
        "\n",
        "today = date.today()\n",
        "print(f\"Today's date is: {today}\")\n",
        "\n",
        "# Example 4: Importing all items (use with caution)\n",
        "from math import *\n",
        "\n",
        "print(f\"The value of e is: {e:.3f}\")"
      ],
      "metadata": {
        "colab": {
          "base_uri": "https://localhost:8080/"
        },
        "id": "jEOPkWicDouS",
        "outputId": "6cdba4d2-86b4-4e51-ffa7-64f2e23783b2"
      },
      "execution_count": 21,
      "outputs": [
        {
          "output_type": "stream",
          "name": "stdout",
          "text": [
            "The value of pi is: 3.141592653589793\n",
            "The square root of 16 is: 4.0\n",
            "A random number between 0 and 1 is: 0.5644\n",
            "Today's date is: 2025-08-31\n",
            "The value of e is: 2.718\n"
          ]
        }
      ]
    },
    {
      "cell_type": "markdown",
      "source": [
        "# **Fin.**"
      ],
      "metadata": {
        "id": "qv_X-RxvUfRJ"
      }
    }
  ]
}