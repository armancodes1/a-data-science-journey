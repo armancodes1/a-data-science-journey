{
  "nbformat": 4,
  "nbformat_minor": 5,
  "metadata": {
    "colab": {
      "provenance": [],
      "include_colab_link": true
    },
    "language_info": {
      "name": "python"
    },
    "kernelspec": {
      "name": "python3",
      "display_name": "Python 3"
    }
  },
  "cells": [
    {
      "cell_type": "markdown",
      "metadata": {
        "id": "view-in-github",
        "colab_type": "text"
      },
      "source": [
        "<a href=\"https://colab.research.google.com/github/armancodes1/a-data-science-journey/blob/main/0-Python/0_4_Tuples.ipynb\" target=\"_parent\"><img src=\"https://colab.research.google.com/assets/colab-badge.svg\" alt=\"Open In Colab\"/></a>"
      ]
    },
    {
      "id": "74ffc59d",
      "cell_type": "markdown",
      "source": [
        "# Python Tuples – Comprehensive Guide\n",
        "\n",
        "A **tuple** in Python is:\n",
        "- Ordered\n",
        "- Immutable (cannot be changed)\n",
        "- Allows duplicates\n",
        "- Can hold mixed data types\n",
        "- Defined using parentheses `( )`"
      ],
      "metadata": {
        "id": "74ffc59d"
      }
    },
    {
      "id": "98acc5aa",
      "cell_type": "code",
      "metadata": {
        "colab": {
          "base_uri": "https://localhost:8080/"
        },
        "id": "98acc5aa",
        "outputId": "1bc8f019-e083-47c5-9282-72dd555afcc8"
      },
      "execution_count": 1,
      "source": [
        "# Example: Creating a tuple\n",
        "my_tuple = (1, 2, 3, \"hello\", 3.14, True)\n",
        "my_tuple"
      ],
      "outputs": [
        {
          "output_type": "execute_result",
          "data": {
            "text/plain": [
              "(1, 2, 3, 'hello', 3.14, True)"
            ]
          },
          "metadata": {},
          "execution_count": 1
        }
      ]
    },
    {
      "id": "2dc6fd03",
      "cell_type": "markdown",
      "source": [
        "## 1. Creating Tuples"
      ],
      "metadata": {
        "id": "2dc6fd03"
      }
    },
    {
      "id": "26ae0c15",
      "cell_type": "code",
      "metadata": {
        "colab": {
          "base_uri": "https://localhost:8080/"
        },
        "id": "26ae0c15",
        "outputId": "1530617f-10f2-4947-9d6b-5698c56f0b11"
      },
      "execution_count": 2,
      "source": [
        "empty_tuple = ()\n",
        "singleton = (5,)  # Note the comma, otherwise it's just an int\n",
        "numbers = (1, 2, 3, 4, 5)\n",
        "mixed = (10, \"Python\", 3.14, False)\n",
        "nested = ((1, 2), (3, 4), (5, 6))\n",
        "\n",
        "print(\"Empty:\", empty_tuple)\n",
        "print(\"Singleton:\", singleton)\n",
        "print(\"Numbers:\", numbers)\n",
        "print(\"Mixed:\", mixed)\n",
        "print(\"Nested:\", nested)"
      ],
      "outputs": [
        {
          "output_type": "stream",
          "name": "stdout",
          "text": [
            "Empty: ()\n",
            "Singleton: (5,)\n",
            "Numbers: (1, 2, 3, 4, 5)\n",
            "Mixed: (10, 'Python', 3.14, False)\n",
            "Nested: ((1, 2), (3, 4), (5, 6))\n"
          ]
        }
      ]
    },
    {
      "id": "be29eac0",
      "cell_type": "markdown",
      "source": [
        "## 2. Accessing Elements\n",
        "- Indexing starts at `0`\n",
        "- Negative indexing starts from end\n",
        "- Slicing for sub-tuples"
      ],
      "metadata": {
        "id": "be29eac0"
      }
    },
    {
      "id": "110dd290",
      "cell_type": "code",
      "metadata": {
        "colab": {
          "base_uri": "https://localhost:8080/"
        },
        "id": "110dd290",
        "outputId": "364fd75e-7f65-4aaa-8214-38bcb2b5f890"
      },
      "execution_count": 3,
      "source": [
        "my_tuple = (\"a\", \"b\", \"c\", \"d\")\n",
        "\n",
        "print(my_tuple[0])    # First element\n",
        "print(my_tuple[-1])   # Last element\n",
        "print(my_tuple[1:3])  # Slice\n",
        "print(my_tuple[::2])  # Every second element"
      ],
      "outputs": [
        {
          "output_type": "stream",
          "name": "stdout",
          "text": [
            "a\n",
            "d\n",
            "('b', 'c')\n",
            "('a', 'c')\n"
          ]
        }
      ]
    },
    {
      "cell_type": "markdown",
      "source": [
        "## 3. Immutability\n",
        "\n",
        "- Tuples themselves are **immutable**: you cannot reassign or change their elements.  \n",
        "- However, if a tuple contains a **mutable object** (e.g., a list), the tuple cannot be reassigned to hold a new object, but the **mutable object itself can still be modified**.\n",
        "\n",
        "This is a subtle but important distinction!\n"
      ],
      "metadata": {
        "id": "beeiXjBcu_02"
      },
      "id": "beeiXjBcu_02"
    },
    {
      "cell_type": "code",
      "source": [
        "# Tuple with an immutable and a mutable element\n",
        "t = (1, [2, 3])\n",
        "\n",
        "#  This will raise an error (cannot reassign tuple elements)\n",
        "try:\n",
        "   t[1] = [4, 5]\n",
        "except TypeError as e:\n",
        "   print(e)\n",
        "print(t)\n",
        "\n",
        "# But you can modify the list inside the tuple\n",
        "t[1].append(4)\n",
        "print(\"Modified tuple:\", t)   # (1, [2, 3, 4])\n"
      ],
      "metadata": {
        "colab": {
          "base_uri": "https://localhost:8080/"
        },
        "id": "yE9c5mH4vDJE",
        "outputId": "f6e3924d-32a4-4cde-951e-7daca058349b"
      },
      "id": "yE9c5mH4vDJE",
      "execution_count": 15,
      "outputs": [
        {
          "output_type": "stream",
          "name": "stdout",
          "text": [
            "'tuple' object does not support item assignment\n",
            "(1, [2, 3])\n",
            "Modified tuple: (1, [2, 3, 4])\n"
          ]
        }
      ]
    },
    {
      "id": "2afd0b47",
      "cell_type": "markdown",
      "source": [
        "## 4. Tuple Operations"
      ],
      "metadata": {
        "id": "2afd0b47"
      }
    },
    {
      "id": "d859967b",
      "cell_type": "code",
      "metadata": {
        "colab": {
          "base_uri": "https://localhost:8080/"
        },
        "id": "d859967b",
        "outputId": "99a10307-60ec-423f-d604-e23c193caf36"
      },
      "execution_count": 5,
      "source": [
        "t1 = (1, 2, 3)\n",
        "t2 = (4, 5, 6)\n",
        "\n",
        "print(\"Concatenation:\", t1 + t2)\n",
        "print(\"Repetition:\", t1 * 2)\n",
        "print(\"Membership:\", 2 in t1)\n",
        "print(\"Length:\", len(t1))"
      ],
      "outputs": [
        {
          "output_type": "stream",
          "name": "stdout",
          "text": [
            "Concatenation: (1, 2, 3, 4, 5, 6)\n",
            "Repetition: (1, 2, 3, 1, 2, 3)\n",
            "Membership: True\n",
            "Length: 3\n"
          ]
        }
      ]
    },
    {
      "id": "04780fb3",
      "cell_type": "markdown",
      "source": [
        "## 5. Useful Tuple Methods\n",
        "- Tuples have limited methods: only `count()` and `index()`."
      ],
      "metadata": {
        "id": "04780fb3"
      }
    },
    {
      "id": "5c192242",
      "cell_type": "code",
      "metadata": {
        "colab": {
          "base_uri": "https://localhost:8080/"
        },
        "id": "5c192242",
        "outputId": "e719ae1c-e669-41fd-f654-2fcc2e94fe0d"
      },
      "execution_count": 6,
      "source": [
        "t = (1, 2, 3, 2, 4, 2)\n",
        "print(\"Count of 2:\", t.count(2))\n",
        "print(\"Index of 3:\", t.index(3))"
      ],
      "outputs": [
        {
          "output_type": "stream",
          "name": "stdout",
          "text": [
            "Count of 2: 3\n",
            "Index of 3: 2\n"
          ]
        }
      ]
    },
    {
      "id": "b364a01f",
      "cell_type": "markdown",
      "source": [
        "## 6. Iterating Tuples"
      ],
      "metadata": {
        "id": "b364a01f"
      }
    },
    {
      "id": "90f3d722",
      "cell_type": "code",
      "metadata": {
        "colab": {
          "base_uri": "https://localhost:8080/"
        },
        "id": "90f3d722",
        "outputId": "c6088f71-d37d-4c78-d0f2-aafdb56b0d50"
      },
      "execution_count": 7,
      "source": [
        "fruits = (\"apple\", \"banana\", \"cherry\")\n",
        "\n",
        "for f in fruits:\n",
        "    print(f)\n",
        "\n",
        "for i, val in enumerate(fruits):\n",
        "    print(i, val)"
      ],
      "outputs": [
        {
          "output_type": "stream",
          "name": "stdout",
          "text": [
            "apple\n",
            "banana\n",
            "cherry\n",
            "0 apple\n",
            "1 banana\n",
            "2 cherry\n"
          ]
        }
      ]
    },
    {
      "id": "9606ed48",
      "cell_type": "markdown",
      "source": [
        "## 7. Tuple Packing and Unpacking"
      ],
      "metadata": {
        "id": "9606ed48"
      }
    },
    {
      "id": "ee7f6042",
      "cell_type": "code",
      "metadata": {
        "colab": {
          "base_uri": "https://localhost:8080/"
        },
        "id": "ee7f6042",
        "outputId": "2d3e95f7-a4d7-4c90-c061-3add305d5cb9"
      },
      "execution_count": 8,
      "source": [
        "packed = 10, 20, 30   # Packing\n",
        "x, y, z = packed  # Unpacking\n",
        "print(\"Packed:\", packed)\n",
        "print(\"Unpacked:\", x, y, z)\n",
        "\n",
        "# Extended unpacking\n",
        "a, *rest = (1, 2, 3, 4, 5)\n",
        "print(a, rest)"
      ],
      "outputs": [
        {
          "output_type": "stream",
          "name": "stdout",
          "text": [
            "Packed: (10, 20, 30)\n",
            "Unpacked: 10 20 30\n",
            "1 [2, 3, 4, 5]\n"
          ]
        }
      ]
    },
    {
      "id": "20d9255a",
      "cell_type": "markdown",
      "source": [
        "## 8. Nested Tuples (2D)"
      ],
      "metadata": {
        "id": "20d9255a"
      }
    },
    {
      "id": "6e0db538",
      "cell_type": "code",
      "metadata": {
        "colab": {
          "base_uri": "https://localhost:8080/"
        },
        "id": "6e0db538",
        "outputId": "03ec3dc2-3583-4d43-e045-954ba42837c0"
      },
      "execution_count": 9,
      "source": [
        "matrix = ((1,2,3), (4,5,6), (7,8,9))\n",
        "print(matrix[0][1])  # Access row 0 col 1"
      ],
      "outputs": [
        {
          "output_type": "stream",
          "name": "stdout",
          "text": [
            "2\n"
          ]
        }
      ]
    },
    {
      "id": "c1b28358",
      "cell_type": "markdown",
      "source": [
        "## 9. Tuples vs Lists\n",
        "- Tuples: immutable, faster, used as keys in dicts\n",
        "- Lists: mutable, flexible"
      ],
      "metadata": {
        "id": "c1b28358"
      }
    },
    {
      "id": "2d2abb0c",
      "cell_type": "code",
      "metadata": {
        "colab": {
          "base_uri": "https://localhost:8080/"
        },
        "id": "2d2abb0c",
        "outputId": "9ecbef2a-1205-43fd-e96f-db984391e29e"
      },
      "execution_count": 10,
      "source": [
        "my_list = [1, 2, 3]\n",
        "my_tuple = (1, 2, 3)\n",
        "\n",
        "print(\"List size:\", my_list.__sizeof__())\n",
        "print(\"Tuple size:\", my_tuple.__sizeof__())"
      ],
      "outputs": [
        {
          "output_type": "stream",
          "name": "stdout",
          "text": [
            "List size: 72\n",
            "Tuple size: 48\n"
          ]
        }
      ]
    },
    {
      "id": "c38fda11",
      "cell_type": "markdown",
      "source": [
        "## 10. Advanced: Tuples as Dictionary Keys"
      ],
      "metadata": {
        "id": "c38fda11"
      }
    },
    {
      "id": "135c642a",
      "cell_type": "code",
      "metadata": {
        "colab": {
          "base_uri": "https://localhost:8080/"
        },
        "id": "135c642a",
        "outputId": "3d442c90-2959-405d-8fbd-4a111ef9a164"
      },
      "execution_count": 11,
      "source": [
        "coords = {}\n",
        "point = (10, 20)\n",
        "coords[point] = \"A location\"\n",
        "print(coords)"
      ],
      "outputs": [
        {
          "output_type": "stream",
          "name": "stdout",
          "text": [
            "{(10, 20): 'A location'}\n"
          ]
        }
      ]
    },
    {
      "id": "1d71fbc1",
      "cell_type": "markdown",
      "source": [
        "#  Summary\n",
        "\n",
        "- **Create**: `( )`\n",
        "- **Access**: `tuple[i]`, slicing\n",
        "- **Immutable**: cannot change values\n",
        "- **Operations**: `+`, `*`, `in`, `len()`\n",
        "- **Methods**: `count()`, `index()`\n",
        "- **Iteration**: `for`, `enumerate()`\n",
        "- **Packing/Unpacking**: `a, b = (1, 2)`\n",
        "- **Use Cases**: fixed data, dict keys, memory-efficient"
      ],
      "metadata": {
        "id": "1d71fbc1"
      }
    },
    {
      "cell_type": "markdown",
      "source": [
        "# **Fin.**"
      ],
      "metadata": {
        "id": "cjbR9-VkthHy"
      },
      "id": "cjbR9-VkthHy"
    }
  ]
}