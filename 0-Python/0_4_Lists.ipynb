{
  "nbformat": 4,
  "nbformat_minor": 5,
  "metadata": {
    "colab": {
      "provenance": [],
      "include_colab_link": true
    },
    "language_info": {
      "name": "python"
    },
    "kernelspec": {
      "name": "python3",
      "display_name": "Python 3"
    }
  },
  "cells": [
    {
      "cell_type": "markdown",
      "metadata": {
        "id": "view-in-github",
        "colab_type": "text"
      },
      "source": [
        "<a href=\"https://colab.research.google.com/github/armancodes1/a-data-science-journey/blob/main/0-Python/0_4_Lists.ipynb\" target=\"_parent\"><img src=\"https://colab.research.google.com/assets/colab-badge.svg\" alt=\"Open In Colab\"/></a>"
      ]
    },
    {
      "id": "509583b2",
      "cell_type": "markdown",
      "source": [
        "# Python Lists\n",
        "\n",
        "A **list** in Python is:\n",
        "- Ordered\n",
        "- Mutable (can be changed)\n",
        "- Allows duplicates\n",
        "- Can hold mixed data types"
      ],
      "metadata": {
        "id": "509583b2"
      }
    },
    {
      "id": "e53c3d76",
      "cell_type": "code",
      "metadata": {
        "colab": {
          "base_uri": "https://localhost:8080/"
        },
        "id": "e53c3d76",
        "outputId": "ab41e5fd-23ef-4489-c7cb-870915db9b39"
      },
      "execution_count": null,
      "source": [
        "# Example: Creating a list\n",
        "my_list = [1, 2, 3, \"hello\", 3.14, True]\n",
        "my_list"
      ],
      "outputs": [
        {
          "output_type": "execute_result",
          "data": {
            "text/plain": [
              "[1, 2, 3, 'hello', 3.14, True]"
            ]
          },
          "metadata": {},
          "execution_count": 15
        }
      ]
    },
    {
      "id": "ed169969",
      "cell_type": "markdown",
      "source": [
        "## 1. Creating Lists"
      ],
      "metadata": {
        "id": "ed169969"
      }
    },
    {
      "id": "bc3adee6",
      "cell_type": "code",
      "metadata": {
        "colab": {
          "base_uri": "https://localhost:8080/"
        },
        "id": "bc3adee6",
        "outputId": "57fad0fd-46f8-4cb5-a582-3d2b5189276e"
      },
      "execution_count": null,
      "source": [
        "empty_list = []\n",
        "numbers = [1, 2, 3, 4, 5]\n",
        "mixed = [10, \"Python\", 3.14, False]\n",
        "nested = [[1, 2], [3, 4], [5, 6]]\n",
        "\n",
        "print(\"Empty:\", empty_list)\n",
        "print(\"Numbers:\", numbers)\n",
        "print(\"Mixed:\", mixed)\n",
        "print(\"Nested:\", nested)"
      ],
      "outputs": [
        {
          "output_type": "stream",
          "name": "stdout",
          "text": [
            "Empty: []\n",
            "Numbers: [1, 2, 3, 4, 5]\n",
            "Mixed: [10, 'Python', 3.14, False]\n",
            "Nested: [[1, 2], [3, 4], [5, 6]]\n"
          ]
        }
      ]
    },
    {
      "id": "6bd8b8b0",
      "cell_type": "markdown",
      "source": [
        "## 2. Accessing Elements\n",
        "- Indexing starts at `0`\n",
        "- Negative indexing starts from end (-1 to -len)\n",
        "- Slicing for sublists"
      ],
      "metadata": {
        "id": "6bd8b8b0"
      }
    },
    {
      "id": "c2a884fd",
      "cell_type": "code",
      "metadata": {
        "colab": {
          "base_uri": "https://localhost:8080/"
        },
        "id": "c2a884fd",
        "outputId": "8db295fe-2657-45aa-f5c2-bc0a7bf36bea"
      },
      "execution_count": null,
      "source": [
        "my_list = [\"a\", \"b\", \"c\", \"d\"]\n",
        "\n",
        "print(my_list[0])    # First element\n",
        "print(my_list[-1])   # Last element\n",
        "print(my_list[1:3])  # Slice from index 1 to 2\n",
        "print(my_list[::2])  # Every second element"
      ],
      "outputs": [
        {
          "output_type": "stream",
          "name": "stdout",
          "text": [
            "a\n",
            "d\n",
            "['b', 'c']\n",
            "['a', 'c']\n"
          ]
        }
      ]
    },
    {
      "id": "fae0a5c0",
      "cell_type": "markdown",
      "source": [
        "## 3. Modifying Lists"
      ],
      "metadata": {
        "id": "fae0a5c0"
      }
    },
    {
      "id": "12f1cfa6",
      "cell_type": "code",
      "metadata": {
        "colab": {
          "base_uri": "https://localhost:8080/"
        },
        "id": "12f1cfa6",
        "outputId": "e9958b94-e12c-4a0b-dd5f-46d3a1f23e4b"
      },
      "execution_count": null,
      "source": [
        "nums = [10, 20, 30, 40]\n",
        "nums[1] = 25          # Replace\n",
        "nums.append(50)       # Add at end\n",
        "nums.insert(1, 15)    # Insert at index\n",
        "nums.extend([60, 70]) # Add multiple\n",
        "\n",
        "nums"
      ],
      "outputs": [
        {
          "output_type": "execute_result",
          "data": {
            "text/plain": [
              "[10, 15, 25, 30, 40, 50, 60, 70]"
            ]
          },
          "metadata": {},
          "execution_count": 18
        }
      ]
    },
    {
      "id": "2604c392",
      "cell_type": "markdown",
      "source": [
        "## 4. Removing Elements"
      ],
      "metadata": {
        "id": "2604c392"
      }
    },
    {
      "id": "7d5ab8e4",
      "cell_type": "code",
      "metadata": {
        "colab": {
          "base_uri": "https://localhost:8080/"
        },
        "id": "7d5ab8e4",
        "outputId": "e5ce7d02-8e8d-46c8-c179-40f169d1bc19"
      },
      "execution_count": null,
      "source": [
        "nums = [10, 20, 30, 40, 50]\n",
        "nums.remove(30)     # Remove by value\n",
        "nums.pop()          # Remove last\n",
        "nums.pop(1)         # Remove index 1\n",
        "del nums[0]         # Delete index 0\n",
        "nums.clear()        # Clear all\n",
        "nums"
      ],
      "outputs": [
        {
          "output_type": "execute_result",
          "data": {
            "text/plain": [
              "[]"
            ]
          },
          "metadata": {},
          "execution_count": 19
        }
      ]
    },
    {
      "id": "72836f9e",
      "cell_type": "markdown",
      "source": [
        "## 5. Searching & Checking"
      ],
      "metadata": {
        "id": "72836f9e"
      }
    },
    {
      "id": "b43464e8",
      "cell_type": "code",
      "metadata": {
        "colab": {
          "base_uri": "https://localhost:8080/"
        },
        "id": "b43464e8",
        "outputId": "ef1dbbfb-9d3f-455e-9ce2-1caac0e3c002"
      },
      "execution_count": null,
      "source": [
        "nums = [10, 20, 30, 40, 50]\n",
        "\n",
        "print(30 in nums)         # Membership\n",
        "print(nums.index(40))     # Index of 40\n",
        "print(nums.count(20))     # Count occurrences"
      ],
      "outputs": [
        {
          "output_type": "stream",
          "name": "stdout",
          "text": [
            "True\n",
            "3\n",
            "1\n"
          ]
        }
      ]
    },
    {
      "id": "60cecb89",
      "cell_type": "markdown",
      "source": [
        "## 6. Useful List Methods"
      ],
      "metadata": {
        "id": "60cecb89"
      }
    },
    {
      "id": "fd504a3f",
      "cell_type": "code",
      "metadata": {
        "colab": {
          "base_uri": "https://localhost:8080/"
        },
        "id": "fd504a3f",
        "outputId": "5ed936cc-873b-4935-bcb6-5d29cd5b730a"
      },
      "execution_count": null,
      "source": [
        "nums = [3, 1, 4, 1, 5, 9]\n",
        "\n",
        "print(\"Sorted:\", sorted(nums))  # Returns a new sorted list\n",
        "nums.sort()\n",
        "print(\"In-place sorted:\", nums)\n",
        "\n",
        "nums.reverse()\n",
        "print(\"Reversed:\", nums)\n",
        "\n",
        "print(\"Length:\", len(nums))\n",
        "print(\"Min:\", min(nums))\n",
        "print(\"Max:\", max(nums))\n",
        "print(\"Sum:\", sum(nums))"
      ],
      "outputs": [
        {
          "output_type": "stream",
          "name": "stdout",
          "text": [
            "Sorted: [1, 1, 3, 4, 5, 9]\n",
            "In-place sorted: [1, 1, 3, 4, 5, 9]\n",
            "Reversed: [9, 5, 4, 3, 1, 1]\n",
            "Length: 6\n",
            "Min: 1\n",
            "Max: 9\n",
            "Sum: 23\n"
          ]
        }
      ]
    },
    {
      "id": "84d30255",
      "cell_type": "markdown",
      "source": [
        "## 7. Iterating Lists"
      ],
      "metadata": {
        "id": "84d30255"
      }
    },
    {
      "id": "b9761b91",
      "cell_type": "code",
      "metadata": {
        "colab": {
          "base_uri": "https://localhost:8080/"
        },
        "id": "b9761b91",
        "outputId": "8f2542a3-ad89-401b-c024-d1bc024399e2"
      },
      "execution_count": null,
      "source": [
        "fruits = [\"apple\", \"banana\", \"cherry\"]\n",
        "\n",
        "for f in fruits:\n",
        "    print(f)\n",
        "\n",
        "for i, val in enumerate(fruits):\n",
        "    print(i, val)"
      ],
      "outputs": [
        {
          "output_type": "stream",
          "name": "stdout",
          "text": [
            "apple\n",
            "banana\n",
            "cherry\n",
            "0 apple\n",
            "1 banana\n",
            "2 cherry\n"
          ]
        }
      ]
    },
    {
      "id": "460ca87f",
      "cell_type": "markdown",
      "source": [
        "## 8. List Comprehensions"
      ],
      "metadata": {
        "id": "460ca87f"
      }
    },
    {
      "id": "42d5383f",
      "cell_type": "code",
      "metadata": {
        "colab": {
          "base_uri": "https://localhost:8080/"
        },
        "id": "42d5383f",
        "outputId": "72b7e9fd-bdbe-4069-e880-3182670a0410"
      },
      "execution_count": null,
      "source": [
        "squares = [x**2 for x in range(5)]\n",
        "evens = [x for x in range(10) if x % 2 == 0]\n",
        "matrix = [[i*j for j in range(3)] for i in range(3)]\n",
        "\n",
        "print(\"Squares:\", squares)\n",
        "print(\"Evens:\", evens)\n",
        "print(\"Matrix:\", matrix)"
      ],
      "outputs": [
        {
          "output_type": "stream",
          "name": "stdout",
          "text": [
            "Squares: [0, 1, 4, 9, 16]\n",
            "Evens: [0, 2, 4, 6, 8]\n",
            "Matrix: [[0, 0, 0], [0, 1, 2], [0, 2, 4]]\n"
          ]
        }
      ]
    },
    {
      "id": "92a15ff6",
      "cell_type": "markdown",
      "source": [
        "## 9. Copying Lists(Shallow vs Deep)"
      ],
      "metadata": {
        "id": "92a15ff6"
      }
    },
    {
      "id": "e15bd7f7",
      "cell_type": "code",
      "metadata": {
        "colab": {
          "base_uri": "https://localhost:8080/"
        },
        "id": "e15bd7f7",
        "outputId": "0e16fd15-96c2-4052-cb0d-a025f84e1bdb"
      },
      "execution_count": null,
      "source": [
        "import copy\n",
        "\n",
        "# Simple list (no nesting)\n",
        "a = [1, 2, 3]\n",
        "b = a.copy()    # Shallow copy\n",
        "c = list(a)     # Another shallow copy\n",
        "d = a[:]        # Slice copy\n",
        "\n",
        "a[0] = 99       # Modify original\n",
        "\n",
        "print(\"Original:\", a)   # [99, 2, 3]\n",
        "print(\"Copies:\", b, c, d)  # [1, 2, 3] for all\n"
      ],
      "outputs": [
        {
          "output_type": "stream",
          "name": "stdout",
          "text": [
            "Original: [99, 2, 3]\n",
            "Copies: [1, 2, 3] [1, 2, 3] [1, 2, 3]\n"
          ]
        }
      ]
    },
    {
      "cell_type": "code",
      "source": [
        "a = [[1, 2], [3, 4]]\n",
        "b = a.copy()   # Shallow copy\n",
        "\n",
        "a[0][0] = 99   # Change inside the nested list\n",
        "\n",
        "print(\"Original:\", a)  # [[99, 2], [3, 4]]\n",
        "print(\"Shallow Copy:\", b)  # [[99, 2], [3, 4]]  <-- also changed!\n",
        "\n",
        "\n",
        "a = [[1, 2], [3, 4]]\n",
        "b = copy.deepcopy(a)   # Deep copy\n",
        "\n",
        "a[0][0] = 99   # Change inside the nested list\n",
        "\n",
        "print(\"Original:\", a)   # [[99, 2], [3, 4]]\n",
        "print(\"Deep Copy:\", b)  # [[1, 2], [3, 4]]  <-- unaffected\n"
      ],
      "metadata": {
        "colab": {
          "base_uri": "https://localhost:8080/"
        },
        "id": "f4CYFyjGr_n4",
        "outputId": "0cbadf81-ee10-4295-cfb4-a69cd1ef9b51"
      },
      "id": "f4CYFyjGr_n4",
      "execution_count": null,
      "outputs": [
        {
          "output_type": "stream",
          "name": "stdout",
          "text": [
            "Original: [[99, 2], [3, 4]]\n",
            "Shallow Copy: [[99, 2], [3, 4]]\n",
            "Original: [[99, 2], [3, 4]]\n",
            "Deep Copy: [[1, 2], [3, 4]]\n"
          ]
        }
      ]
    },
    {
      "id": "0f86d59a",
      "cell_type": "markdown",
      "source": [
        "## 10. Nested Lists (2D)"
      ],
      "metadata": {
        "id": "0f86d59a"
      }
    },
    {
      "id": "b947c00e",
      "cell_type": "code",
      "metadata": {
        "colab": {
          "base_uri": "https://localhost:8080/"
        },
        "id": "b947c00e",
        "outputId": "a2ee23eb-67e9-456b-ab6a-20c33e2a0efb"
      },
      "execution_count": null,
      "source": [
        "matrix = [[1,2,3], [4,5,6], [7,8,9]]\n",
        "print(matrix[0][1])  # Access row 0 col 1"
      ],
      "outputs": [
        {
          "output_type": "stream",
          "name": "stdout",
          "text": [
            "2\n"
          ]
        }
      ]
    },
    {
      "id": "c2d7309b",
      "cell_type": "markdown",
      "source": [
        "## 11. Advanced Tricks"
      ],
      "metadata": {
        "id": "c2d7309b"
      }
    },
    {
      "id": "8f84bf4a",
      "cell_type": "code",
      "metadata": {
        "colab": {
          "base_uri": "https://localhost:8080/"
        },
        "id": "8f84bf4a",
        "outputId": "64952382-ce70-4ba9-9fea-657cbadb1aaa"
      },
      "execution_count": null,
      "source": [
        "# Unpacking\n",
        "a, b, *rest = [10, 20, 30, 40]\n",
        "print(a, b, rest)\n",
        "\n",
        "# Zipping\n",
        "names = [\"Alice\", \"Bob\", \"Charlie\"]\n",
        "scores = [85, 90, 95]\n",
        "print(list(zip(names, scores)))\n",
        "\n",
        "# Flatten\n",
        "nested = [[1,2],[3,4],[5,6]]\n",
        "flat = [x for sub in nested for x in sub]\n",
        "print(flat)"
      ],
      "outputs": [
        {
          "output_type": "stream",
          "name": "stdout",
          "text": [
            "10 20 [30, 40]\n",
            "[('Alice', 85), ('Bob', 90), ('Charlie', 95)]\n",
            "[1, 2, 3, 4, 5, 6]\n"
          ]
        }
      ]
    },
    {
      "id": "85dca22b",
      "cell_type": "markdown",
      "source": [
        "# Summary-\n",
        "\n",
        "- **Create**: `[ ]`, `list()`\n",
        "- **Access**: `list[i]`, slicing\n",
        "- **Modify**: `append()`, `insert()`, `extend()`\n",
        "- **Remove**: `pop()`, `remove()`, `del`, `clear()`\n",
        "- **Search**: `in`, `index()`, `count()`\n",
        "- **Utility**: `sort()`, `reverse()`, `len()`, `min()`, `max()`, `sum()`\n",
        "- **Iteration**: `for`, `enumerate()`\n",
        "- **Comprehension**: `[expr for item in iterable if condition]`\n",
        "- **Copy**: `copy()`, slicing\n",
        "- **Advanced**: unpacking, `zip()`, flattening"
      ],
      "metadata": {
        "id": "85dca22b"
      }
    },
    {
      "cell_type": "markdown",
      "source": [
        "# **Fin.**"
      ],
      "metadata": {
        "id": "d_R0n5GXtw-D"
      },
      "id": "d_R0n5GXtw-D"
    }
  ]
}