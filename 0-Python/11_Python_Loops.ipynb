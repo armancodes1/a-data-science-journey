{
  "cells": [
    {
      "cell_type": "markdown",
      "metadata": {
        "id": "view-in-github",
        "colab_type": "text"
      },
      "source": [
        "<a href=\"https://colab.research.google.com/github/armancodes1/a-data-science-journey/blob/main/0-Python/0_11_Python_Loops.ipynb\" target=\"_parent\"><img src=\"https://colab.research.google.com/assets/colab-badge.svg\" alt=\"Open In Colab\"/></a>"
      ]
    },
    {
      "cell_type": "markdown",
      "id": "e050d899",
      "metadata": {
        "id": "e050d899"
      },
      "source": [
        "# Python Loops"
      ]
    },
    {
      "cell_type": "markdown",
      "id": "9cfaa3ce",
      "metadata": {
        "id": "9cfaa3ce"
      },
      "source": [
        "\n",
        "Loops allow us to **repeat tasks efficiently**.  \n",
        "Python supports two main types of loops: `for` and `while`.\n"
      ]
    },
    {
      "cell_type": "markdown",
      "id": "7d85e040",
      "metadata": {
        "id": "7d85e040"
      },
      "source": [
        "##  **For Loops**"
      ]
    },
    {
      "cell_type": "markdown",
      "id": "f8a63761",
      "metadata": {
        "id": "f8a63761"
      },
      "source": [
        "Used to iterate over a **sequence** (list, tuple, string, dict, set)."
      ]
    },
    {
      "cell_type": "code",
      "execution_count": 31,
      "id": "b1367cc5",
      "metadata": {
        "colab": {
          "base_uri": "https://localhost:8080/"
        },
        "id": "b1367cc5",
        "outputId": "e5daf219-f42e-49e5-e2d7-09ea50a03d38"
      },
      "outputs": [
        {
          "output_type": "stream",
          "name": "stdout",
          "text": [
            "1\n",
            "2\n",
            "3\n",
            "4\n"
          ]
        }
      ],
      "source": [
        "# Loop through a list\n",
        "nums = [1, 2, 3, 4]\n",
        "for n in nums:\n",
        "    print(n)"
      ]
    },
    {
      "cell_type": "code",
      "execution_count": 32,
      "id": "6d10cabb",
      "metadata": {
        "colab": {
          "base_uri": "https://localhost:8080/"
        },
        "id": "6d10cabb",
        "outputId": "1e1a9c1b-db14-4596-9186-a9d4d77c9cce"
      },
      "outputs": [
        {
          "output_type": "stream",
          "name": "stdout",
          "text": [
            "P\n",
            "y\n",
            "t\n",
            "h\n",
            "o\n",
            "n\n"
          ]
        }
      ],
      "source": [
        "# Loop through a string\n",
        "for ch in \"Python\":\n",
        "    print(ch)"
      ]
    },
    {
      "cell_type": "code",
      "execution_count": 33,
      "id": "b3f92c88",
      "metadata": {
        "colab": {
          "base_uri": "https://localhost:8080/"
        },
        "id": "b3f92c88",
        "outputId": "e58ef345-1387-4f0b-af8e-f19f15f686de"
      },
      "outputs": [
        {
          "output_type": "stream",
          "name": "stdout",
          "text": [
            "0\n",
            "1\n",
            "2\n",
            "3\n",
            "4\n"
          ]
        }
      ],
      "source": [
        "# Using range()\n",
        "for i in range(5):  # 0 to 4\n",
        "    print(i)"
      ]
    },
    {
      "cell_type": "markdown",
      "id": "60d90f22",
      "metadata": {
        "id": "60d90f22"
      },
      "source": [
        "##  **While Loops**"
      ]
    },
    {
      "cell_type": "markdown",
      "id": "f26c7b11",
      "metadata": {
        "id": "f26c7b11"
      },
      "source": [
        "Repeat **while a condition is True**."
      ]
    },
    {
      "cell_type": "code",
      "execution_count": 34,
      "id": "9ee3f023",
      "metadata": {
        "colab": {
          "base_uri": "https://localhost:8080/"
        },
        "id": "9ee3f023",
        "outputId": "0d9d8ca8-2950-446c-e78c-4940fca60ff4"
      },
      "outputs": [
        {
          "output_type": "stream",
          "name": "stdout",
          "text": [
            "Count: 0\n",
            "Count: 1\n",
            "Count: 2\n",
            "Count: 3\n",
            "Count: 4\n"
          ]
        }
      ],
      "source": [
        "count = 0\n",
        "while count < 5:\n",
        "    print(\"Count:\", count)\n",
        "    count += 1"
      ]
    },
    {
      "cell_type": "markdown",
      "id": "d0a88eb0",
      "metadata": {
        "id": "d0a88eb0"
      },
      "source": [
        "##  **Loop Control Statements**"
      ]
    },
    {
      "cell_type": "markdown",
      "id": "604c14e9",
      "metadata": {
        "id": "604c14e9"
      },
      "source": [
        "\n",
        "- `break`: exit loop completely  \n",
        "- `continue`: skip current iteration  \n",
        "- `pass`: placeholder (does nothing)\n"
      ]
    },
    {
      "cell_type": "code",
      "execution_count": 35,
      "id": "5d2a9529",
      "metadata": {
        "colab": {
          "base_uri": "https://localhost:8080/"
        },
        "id": "5d2a9529",
        "outputId": "85cda46b-4f1b-412a-c0c1-e6145b0d75db"
      },
      "outputs": [
        {
          "output_type": "stream",
          "name": "stdout",
          "text": [
            "0\n",
            "1\n",
            "3\n"
          ]
        }
      ],
      "source": [
        "for i in range(5):\n",
        "    if i == 2:\n",
        "        continue  # skip 2\n",
        "    if i == 4:\n",
        "        break     # stop loop\n",
        "    if i == 3:\n",
        "        pass      # Placeholder for future code\n",
        "    print(i)"
      ]
    },
    {
      "cell_type": "markdown",
      "id": "0a86f3fe",
      "metadata": {
        "id": "0a86f3fe"
      },
      "source": [
        "##  **Else with Loops**"
      ]
    },
    {
      "cell_type": "markdown",
      "id": "70eafbbd",
      "metadata": {
        "id": "70eafbbd"
      },
      "source": [
        "\n",
        "The `else` block runs **if the loop finishes normally** (no `break`).\n"
      ]
    },
    {
      "cell_type": "code",
      "execution_count": 36,
      "id": "b26bc405",
      "metadata": {
        "colab": {
          "base_uri": "https://localhost:8080/"
        },
        "id": "b26bc405",
        "outputId": "38dc022e-0661-49ca-e47a-41c9751608ff"
      },
      "outputs": [
        {
          "output_type": "stream",
          "name": "stdout",
          "text": [
            "0\n",
            "1\n",
            "2\n",
            "Loop completed!\n"
          ]
        }
      ],
      "source": [
        "for i in range(3):\n",
        "    print(i)\n",
        "else:\n",
        "    print(\"Loop completed!\")"
      ]
    },
    {
      "cell_type": "code",
      "source": [
        "search_list = [10, 20, 30, 40, 50]\n",
        "target = 60\n",
        "\n",
        "for item in search_list:\n",
        "    if item == target:\n",
        "        print(f\"Found {target}!\")\n",
        "        break\n",
        "else: #else block runs if the loop completes without a break\n",
        "    print(f\"{target} not found in the list.\")"
      ],
      "metadata": {
        "colab": {
          "base_uri": "https://localhost:8080/"
        },
        "id": "-vX3MBSmL_az",
        "outputId": "27644d25-7325-40bb-84f9-2c64606b382d"
      },
      "id": "-vX3MBSmL_az",
      "execution_count": 37,
      "outputs": [
        {
          "output_type": "stream",
          "name": "stdout",
          "text": [
            "60 not found in the list.\n"
          ]
        }
      ]
    },
    {
      "cell_type": "markdown",
      "id": "679b3940",
      "metadata": {
        "id": "679b3940"
      },
      "source": [
        "##  **Nested Loops**"
      ]
    },
    {
      "cell_type": "code",
      "execution_count": 38,
      "id": "86120f96",
      "metadata": {
        "colab": {
          "base_uri": "https://localhost:8080/"
        },
        "id": "86120f96",
        "outputId": "ae96c736-db2f-4fc9-b409-2e2bc66f3cb0"
      },
      "outputs": [
        {
          "output_type": "stream",
          "name": "stdout",
          "text": [
            "i=0, j=0\n",
            "i=0, j=1\n",
            "i=1, j=0\n",
            "i=1, j=1\n",
            "i=2, j=0\n",
            "i=2, j=1\n"
          ]
        }
      ],
      "source": [
        "for i in range(3):\n",
        "    for j in range(2):\n",
        "        print(f\"i={i}, j={j}\")"
      ]
    },
    {
      "cell_type": "markdown",
      "id": "6f73bffc",
      "metadata": {
        "id": "6f73bffc"
      },
      "source": [
        "##  **Enumerate & Zip**"
      ]
    },
    {
      "cell_type": "code",
      "execution_count": 39,
      "id": "a5508ce6",
      "metadata": {
        "colab": {
          "base_uri": "https://localhost:8080/"
        },
        "id": "a5508ce6",
        "outputId": "65a7a431-da2e-460c-ec04-c5a16d91149a"
      },
      "outputs": [
        {
          "output_type": "stream",
          "name": "stdout",
          "text": [
            "0 apple\n",
            "1 banana\n",
            "2 cherry\n"
          ]
        }
      ],
      "source": [
        "# enumerate gives index + value\n",
        "fruits = [\"apple\", \"banana\", \"cherry\"]\n",
        "for idx, fruit in enumerate(fruits):\n",
        "    print(idx, fruit)"
      ]
    },
    {
      "cell_type": "code",
      "execution_count": 40,
      "id": "313d8818",
      "metadata": {
        "colab": {
          "base_uri": "https://localhost:8080/"
        },
        "id": "313d8818",
        "outputId": "c6fadf5c-a0b2-41c3-d423-758df7d40433"
      },
      "outputs": [
        {
          "output_type": "stream",
          "name": "stdout",
          "text": [
            "Alice 90\n",
            "Bob 85\n"
          ]
        }
      ],
      "source": [
        "# zip combines multiple iterables\n",
        "names = [\"Alice\", \"Bob\"]\n",
        "scores = [90, 85]\n",
        "for n, s in zip(names, scores):\n",
        "    print(n, s)"
      ]
    },
    {
      "cell_type": "markdown",
      "id": "0e2945e9",
      "metadata": {
        "id": "0e2945e9"
      },
      "source": [
        "##  **Comprehensions**"
      ]
    },
    {
      "cell_type": "code",
      "execution_count": 41,
      "id": "8211d447",
      "metadata": {
        "colab": {
          "base_uri": "https://localhost:8080/"
        },
        "id": "8211d447",
        "outputId": "a3c69e75-97b0-40b0-ac77-791d3c3434f1"
      },
      "outputs": [
        {
          "output_type": "stream",
          "name": "stdout",
          "text": [
            "[0, 1, 4, 9, 16]\n"
          ]
        }
      ],
      "source": [
        "# List comprehension\n",
        "squares = [x**2 for x in range(5)]\n",
        "print(squares)"
      ]
    },
    {
      "cell_type": "code",
      "execution_count": 42,
      "id": "85d44e37",
      "metadata": {
        "colab": {
          "base_uri": "https://localhost:8080/"
        },
        "id": "85d44e37",
        "outputId": "051dd7ce-b8fb-45a4-e244-c9938d15b8f4"
      },
      "outputs": [
        {
          "output_type": "stream",
          "name": "stdout",
          "text": [
            "{0: 0, 1: 1, 2: 4, 3: 9, 4: 16}\n"
          ]
        }
      ],
      "source": [
        "# Dict comprehension\n",
        "squares_dict = {x: x**2 for x in range(5)}\n",
        "print(squares_dict)"
      ]
    },
    {
      "cell_type": "code",
      "execution_count": 43,
      "id": "87fe9548",
      "metadata": {
        "colab": {
          "base_uri": "https://localhost:8080/"
        },
        "id": "87fe9548",
        "outputId": "ac6682d2-caa2-44db-c4c1-0cc1c37cebab"
      },
      "outputs": [
        {
          "output_type": "stream",
          "name": "stdout",
          "text": [
            "{0, 2, 4, 6, 8}\n"
          ]
        }
      ],
      "source": [
        "# Set comprehension\n",
        "evens = {x for x in range(10) if x % 2 == 0}\n",
        "print(evens)"
      ]
    },
    {
      "cell_type": "markdown",
      "source": [
        "# **Generator Expressions**\n",
        "\n",
        "* Memory Efficiency: Unlike list, dict, or set comprehensions that build the entire collection in memory at once, generator expressions are a memory-efficient alternative, especially for large datasets.\n",
        "\n",
        "* Syntax: They are created using parentheses () instead of the square brackets [] used for list comprehensions.\n",
        "\n",
        "* Behavior: Instead of creating a full collection, they produce a generator object that yields one item at a time as you iterate over it.\n",
        "\n",
        "* Use Case: This is particularly useful when working with very large datasets and you only need to process one item at a time, such as in a loop."
      ],
      "metadata": {
        "id": "WqPtkQ7wM9YV"
      },
      "id": "WqPtkQ7wM9YV"
    },
    {
      "cell_type": "code",
      "source": [
        "# A list comprehension builds a full list in memory\n",
        "squares_list = [x**2 for x in range(1000000)] # This list will take up a lot of memory\n",
        "\n",
        "# A generator expression creates a generator object\n",
        "squares_gen = (x**2 for x in range(1000000)) # This is much more memory efficient\n",
        "\n",
        "# You can iterate over a generator expression just like a list\n",
        "for num in squares_gen:\n",
        "    # process the number\n",
        "    if num > 100:\n",
        "        print(f\"Found a large square: {num}\")\n",
        "        break\n",
        "\n",
        "# The generator stops after the break, saving computation and memory."
      ],
      "metadata": {
        "colab": {
          "base_uri": "https://localhost:8080/"
        },
        "id": "KK1UvOONNIhg",
        "outputId": "0b06e878-a484-4ab4-9eaf-fdc4daa75be8"
      },
      "id": "KK1UvOONNIhg",
      "execution_count": 44,
      "outputs": [
        {
          "output_type": "stream",
          "name": "stdout",
          "text": [
            "Found a large square: 121\n"
          ]
        }
      ]
    },
    {
      "cell_type": "markdown",
      "id": "1e25ccca",
      "metadata": {
        "id": "1e25ccca"
      },
      "source": [
        "##  Best Practices"
      ]
    },
    {
      "cell_type": "markdown",
      "id": "3842e952",
      "metadata": {
        "id": "3842e952"
      },
      "source": [
        "\n",
        "- Prefer `for` loops over `while` unless condition-based.  \n",
        "- Use `enumerate` instead of manual counters.  \n",
        "- Use comprehensions for concise data transformation.  \n",
        "- Avoid modifying a list while iterating over it.  \n"
      ]
    },
    {
      "cell_type": "markdown",
      "source": [
        "# **Fin.**"
      ],
      "metadata": {
        "id": "QRKuF_QcOxsL"
      },
      "id": "QRKuF_QcOxsL"
    }
  ],
  "metadata": {
    "colab": {
      "provenance": [],
      "include_colab_link": true
    },
    "language_info": {
      "name": "python"
    },
    "kernelspec": {
      "name": "python3",
      "display_name": "Python 3"
    }
  },
  "nbformat": 4,
  "nbformat_minor": 5
}
