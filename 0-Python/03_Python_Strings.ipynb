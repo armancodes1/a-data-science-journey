{
  "nbformat": 4,
  "nbformat_minor": 0,
  "metadata": {
    "colab": {
      "provenance": [],
      "authorship_tag": "ABX9TyPSkTZ0FS0NKqopdX2t5wgk",
      "include_colab_link": true
    },
    "kernelspec": {
      "name": "python3",
      "display_name": "Python 3"
    },
    "language_info": {
      "name": "python"
    }
  },
  "cells": [
    {
      "cell_type": "markdown",
      "metadata": {
        "id": "view-in-github",
        "colab_type": "text"
      },
      "source": [
        "<a href=\"https://colab.research.google.com/github/armancodes1/a-data-science-journey/blob/main/0-Python/0_3_Strings.ipynb\" target=\"_parent\"><img src=\"https://colab.research.google.com/assets/colab-badge.svg\" alt=\"Open In Colab\"/></a>"
      ]
    },
    {
      "cell_type": "markdown",
      "source": [
        "**Strings in Python**\n",
        "\n",
        "A string is a sequence of characters, such as letters, numbers, and symbols, enclosed in single or double quotes. It's an **immutable** data type, meaning you can't change individual characters in a string after it's been created.\n",
        "\n",
        "Strings can be created using single quotes ('...'), double quotes (\"...\"), or even triple quotes (\"\"\"...\"\"\" or '''...''') for multi-line strings.\n",
        "\n",
        "**0. Strings are Immutable**"
      ],
      "metadata": {
        "id": "RSN_J3WlxCLH"
      }
    },
    {
      "cell_type": "code",
      "execution_count": 1,
      "metadata": {
        "colab": {
          "base_uri": "https://localhost:8080/"
        },
        "id": "y5PLDKVLwWYd",
        "outputId": "1e88d601-f9b6-40d4-ccba-2676381cc68e"
      },
      "outputs": [
        {
          "output_type": "stream",
          "name": "stdout",
          "text": [
            "'str' object does not support item assignment\n",
            "Jython\n"
          ]
        }
      ],
      "source": [
        "s = \"Python\"\n",
        "# This will raise a TypeError because strings are immutable\n",
        "try:\n",
        "    s[0] = 'J'\n",
        "except TypeError as e:\n",
        "    print(e)\n",
        "\n",
        "# To \"change\" a string, you must create a new one.\n",
        "new_s = 'J' + s[1:]\n",
        "print(new_s) # Output: Jython"
      ]
    },
    {
      "cell_type": "markdown",
      "source": [
        "**1. Creating and Printing Strings**"
      ],
      "metadata": {
        "id": "GTpx84sB2qe6"
      }
    },
    {
      "cell_type": "code",
      "source": [
        "# A simple string\n",
        "my_string = \"Hello, world!\"\n",
        "print(my_string)"
      ],
      "metadata": {
        "colab": {
          "base_uri": "https://localhost:8080/"
        },
        "id": "WJ81MKZYxFU-",
        "outputId": "f55e9ca1-4a5e-4187-de0d-160b6de90798"
      },
      "execution_count": 2,
      "outputs": [
        {
          "output_type": "stream",
          "name": "stdout",
          "text": [
            "Hello, world!\n"
          ]
        }
      ]
    },
    {
      "cell_type": "markdown",
      "source": [
        "**2. String Concatenation**\n",
        "\n",
        "You can join two or more strings together using the + operator."
      ],
      "metadata": {
        "id": "BlJauzqMxMQy"
      }
    },
    {
      "cell_type": "code",
      "source": [
        "first_name = \"John\"\n",
        "last_name = \"Doe\"\n",
        "full_name = first_name + \" \" + last_name\n",
        "print(full_name)"
      ],
      "metadata": {
        "colab": {
          "base_uri": "https://localhost:8080/"
        },
        "id": "zbKFhFkqxL-M",
        "outputId": "fe93c5d8-8999-4557-f243-f4244782b3b0"
      },
      "execution_count": 3,
      "outputs": [
        {
          "output_type": "stream",
          "name": "stdout",
          "text": [
            "John Doe\n"
          ]
        }
      ]
    },
    {
      "cell_type": "markdown",
      "source": [
        "**3. Accessing Characters**\n",
        "\n",
        "Individual characters in a string can be accessed using indexing. Indexing starts at 0. You can also use negative indexes to access characters from the end of the string, with -1 being the last character.\n",
        "\n",
        "Indexing returns a single character. If the index is out of bounds (e.g., my_string[100] for a short string), it raises an IndexError.\n",
        "\n",
        "Slicing returns a new string (a substring). If the slice is out of bounds, it doesn't raise an error; it simply returns an empty string."
      ],
      "metadata": {
        "id": "IlTS_DxKxVPl"
      }
    },
    {
      "cell_type": "code",
      "source": [
        "greeting = \"Hello\"\n",
        "print(greeting[0])  # Output: H\n",
        "print(greeting[-1]) # Output: o\n",
        "\n",
        "my_string = \"Python\"\n",
        "# Indexing out of range will raise an error\n",
        "try:\n",
        "    print(my_string[10])\n",
        "except IndexError as e:\n",
        "    print(e) # Output: string index out of range\n",
        "\n",
        "# Slicing out of range returns an empty string\n",
        "print(my_string[10:]) # Output: ''\n",
        "print(type(my_string[10:]))"
      ],
      "metadata": {
        "colab": {
          "base_uri": "https://localhost:8080/"
        },
        "id": "3m-_NiTPxJrc",
        "outputId": "a3021801-1a2b-4420-ab88-9161ed64ee90"
      },
      "execution_count": 4,
      "outputs": [
        {
          "output_type": "stream",
          "name": "stdout",
          "text": [
            "H\n",
            "o\n",
            "string index out of range\n",
            "\n",
            "<class 'str'>\n"
          ]
        }
      ]
    },
    {
      "cell_type": "markdown",
      "source": [
        "**4. String Slicing**\n",
        "\n",
        "Slicing lets you extract a substring from a string. The syntax is [start:end:step]. The end index is exclusive."
      ],
      "metadata": {
        "id": "OQ5B8pDzxgGm"
      }
    },
    {
      "cell_type": "code",
      "source": [
        "text = \"Jupyter Notebook\"\n",
        "print(text[0:7])   # Output: Jupyter\n",
        "print(text[8:])    # Output: Notebook\n",
        "print(text[:7])    # Output: Jupyter\n",
        "print(text[::2])   # Output: JptrNtbo\n",
        "print(text[::-1])  # Output: koobetoN retypuJ  (Reverse of the string)"
      ],
      "metadata": {
        "colab": {
          "base_uri": "https://localhost:8080/"
        },
        "id": "f6fXEfXgxcht",
        "outputId": "aa2f9998-a6e1-411e-ecf7-4cb4d56e9d06"
      },
      "execution_count": 5,
      "outputs": [
        {
          "output_type": "stream",
          "name": "stdout",
          "text": [
            "Jupyter\n",
            "Notebook\n",
            "Jupyter\n",
            "JptrNtbo\n",
            "koobetoN retypuJ\n"
          ]
        }
      ]
    },
    {
      "cell_type": "markdown",
      "metadata": {
        "id": "d8642933"
      },
      "source": [
        "**5. Escape Sequences and Raw Strings**\n",
        "\n",
        "Escape sequences are special characters preceded by a backslash `\\` that represent characters that are difficult or impossible to type directly. Raw strings, prefixed with `r`, treat backslashes as literal characters."
      ]
    },
    {
      "cell_type": "code",
      "metadata": {
        "colab": {
          "base_uri": "https://localhost:8080/"
        },
        "id": "89c9f926",
        "outputId": "e02b217e-b547-449a-8095-9cf696cca095"
      },
      "source": [
        "# Escape sequences\n",
        "print(\"Hello\\nWorld\") # Newline\n",
        "print(\"Hello\\tWorld\") # Tab\n",
        "print(\"This is a backslash: \\\\\") # Backslash\n",
        "print(\"This is a double quote: \\\"\") # Double quote\n",
        "print('This is a single quote: \\'') # Single quote\n",
        "\n",
        "# Raw strings\n",
        "# Useful for file paths where backslashes are common\n",
        "file_path = r\"C:\\Users\\Username\\Documents\\file.txt\"\n",
        "print(file_path)"
      ],
      "execution_count": 6,
      "outputs": [
        {
          "output_type": "stream",
          "name": "stdout",
          "text": [
            "Hello\n",
            "World\n",
            "Hello\tWorld\n",
            "This is a backslash: \\\n",
            "This is a double quote: \"\n",
            "This is a single quote: '\n",
            "C:\\Users\\Username\\Documents\\file.txt\n"
          ]
        }
      ]
    },
    {
      "cell_type": "markdown",
      "source": [
        "**6. Common String Methods**\n",
        "\n",
        "String methods are built-in functions that can be used on strings. Here are some of the most common ones."
      ],
      "metadata": {
        "id": "ng-xfF_uxzWb"
      }
    },
    {
      "cell_type": "code",
      "source": [
        "#len(): Returns the length of the string.\n",
        "message = \"Python\"\n",
        "print(len(message)) # Output: 6"
      ],
      "metadata": {
        "colab": {
          "base_uri": "https://localhost:8080/"
        },
        "id": "cyKzOQvex1B6",
        "outputId": "fb45ba0f-7f40-4ec7-c642-472f2b1fc09d"
      },
      "execution_count": 7,
      "outputs": [
        {
          "output_type": "stream",
          "name": "stdout",
          "text": [
            "6\n"
          ]
        }
      ]
    },
    {
      "cell_type": "code",
      "source": [
        "#lower() and upper(): Convert the string to lowercase or uppercase.\n",
        "name = \"Alice\"\n",
        "print(name.upper()) # Output: ALICE\n",
        "print(name.lower()) # Output: alice\n",
        "print(name.capitalize()) # Output: Alice\n",
        "text = \"hello world\"\n",
        "print(text.capitalize())  # Output: Hello world\n",
        "print(text.title())       # Output: Hello World"
      ],
      "metadata": {
        "colab": {
          "base_uri": "https://localhost:8080/"
        },
        "id": "qBBk5WJIxfOi",
        "outputId": "d5152aa1-5324-4674-d9b6-f720ffa6ca61"
      },
      "execution_count": 8,
      "outputs": [
        {
          "output_type": "stream",
          "name": "stdout",
          "text": [
            "ALICE\n",
            "alice\n",
            "Alice\n",
            "Hello world\n",
            "Hello World\n"
          ]
        }
      ]
    },
    {
      "cell_type": "code",
      "source": [
        "#strip(): Returns a new string with leading and trailing whitespace removed. You can also specify characters to remove.\n",
        "s = \"   Hello   \"\n",
        "print(s.strip())  # Output: Hello\n",
        "text = \"---Hello---\"\n",
        "print(text.strip(\"-\"))\n",
        "text = \"###Hello###\"\n",
        "print(text.lstrip(\"#\"))\n",
        "print(text.rstrip(\"#\"))"
      ],
      "metadata": {
        "colab": {
          "base_uri": "https://localhost:8080/"
        },
        "id": "Y5t9cKq-x_h2",
        "outputId": "27a734fa-4de9-4fd0-c04d-5ff8193d648f"
      },
      "execution_count": 9,
      "outputs": [
        {
          "output_type": "stream",
          "name": "stdout",
          "text": [
            "Hello\n",
            "Hello\n",
            "Hello###\n",
            "###Hello\n"
          ]
        }
      ]
    },
    {
      "cell_type": "code",
      "source": [
        "#split(): Splits a string into a list of substrings based on a delimiter. If no delimiter is specified, it splits by whitespace.\n",
        "s = \"apple,banana,orange\"\n",
        "fruits = s.split(',')\n",
        "print(fruits)  # Output: ['apple', 'banana', 'orange']"
      ],
      "metadata": {
        "colab": {
          "base_uri": "https://localhost:8080/"
        },
        "id": "OLrjrXeayZgC",
        "outputId": "c904415f-2028-48dd-f79b-e66ae462257b"
      },
      "execution_count": 10,
      "outputs": [
        {
          "output_type": "stream",
          "name": "stdout",
          "text": [
            "['apple', 'banana', 'orange']\n"
          ]
        }
      ]
    },
    {
      "cell_type": "code",
      "source": [
        "#join(): Joins the elements of an iterable (like a list) into a single string using the string itself as the delimiter. Syntax- separator.join(iterable)\n",
        "words = ['Python', 'is', 'awesome']\n",
        "sentence = \",\".join(words)\n",
        "print(sentence)  # Output: Python,is,awesome"
      ],
      "metadata": {
        "colab": {
          "base_uri": "https://localhost:8080/"
        },
        "id": "rT-J40mHzWcC",
        "outputId": "0ba31f01-b256-45f3-fa5e-2d9c974f22f2"
      },
      "execution_count": 11,
      "outputs": [
        {
          "output_type": "stream",
          "name": "stdout",
          "text": [
            "Python,is,awesome\n"
          ]
        }
      ]
    },
    {
      "cell_type": "code",
      "source": [
        "#str.find(substring) returns the lowest index of the substring in the string. It returns -1 if not found.\n",
        "#str.replace(old, new, count): Returns a copy of the string with all occurrences of old replaced by new. The optional count argument limits the number of replacements.\n",
        "#str.count(substring): Returns the number of non-overlapping occurrences of the substring.\n",
        "s = \"I like Python, Python, Python\"\n",
        "print(s.find(\"Python\"))  # Output: 7 (Start index of first appearance)\n",
        "new_s = s.replace(\"Python\", \"Java\")\n",
        "print(new_s)  # Output: I like Java, Java, Java\n",
        "new_s = s.replace(\"Python\", \"Java\",2)\n",
        "print(new_s)  # Output: I like Java, Java, Python\n",
        "print(s.count(\"Python\"))"
      ],
      "metadata": {
        "colab": {
          "base_uri": "https://localhost:8080/"
        },
        "id": "J6fZ9hsAzc8v",
        "outputId": "39ddb11b-70ac-4263-fc37-172ab0f237cb"
      },
      "execution_count": 12,
      "outputs": [
        {
          "output_type": "stream",
          "name": "stdout",
          "text": [
            "7\n",
            "I like Java, Java, Java\n",
            "I like Java, Java, Python\n",
            "3\n"
          ]
        }
      ]
    },
    {
      "cell_type": "markdown",
      "source": [
        "**string.center(width, \"fillchar\")**\n",
        "\n",
        "width: This is a required argument that specifies the total width of the new string. If the original string's length is greater than or equal to this width, the method returns the original string unchanged.\n",
        "\n",
        "fillchar: This is an optional argument. It's the character used for padding. If you don't provide it, the method uses a space ' ' by default. It must be a single character."
      ],
      "metadata": {
        "id": "to5vluxP4XeP"
      }
    },
    {
      "cell_type": "code",
      "source": [
        "text = \"Python\"\n",
        "# The string \"Python\" has a length of 6.\n",
        "# We want to center it within a total width of 20.\n",
        "# The method will add 7 spaces on each side.\n",
        "centered_text = text.center(20)\n",
        "print(f\"'{centered_text}'\")\n",
        "centered_text = text.center(20,'*')\n",
        "print(f\"'{centered_text}'\")"
      ],
      "metadata": {
        "colab": {
          "base_uri": "https://localhost:8080/"
        },
        "id": "PDJLdZcW4cBW",
        "outputId": "d1506320-208a-4a70-aa24-d09f32b6179b"
      },
      "execution_count": 13,
      "outputs": [
        {
          "output_type": "stream",
          "name": "stdout",
          "text": [
            "'       Python       '\n",
            "'*******Python*******'\n"
          ]
        }
      ]
    },
    {
      "cell_type": "markdown",
      "source": [
        "**String Formatting**\n",
        "\n",
        "String formatting allows you to create strings with dynamic content. The most popular method is using f-strings (formatted string literals). They are powerful, readable, and the preferred method for modern Python."
      ],
      "metadata": {
        "id": "gDwlCP0zz66b"
      }
    },
    {
      "cell_type": "code",
      "source": [
        "name = \"Charlie\"\n",
        "age = 30\n",
        "message = f\"Hello, {name}! You are {age} years old.\"\n",
        "print(message)  # Output: Hello, Charlie! You are 30 years old."
      ],
      "metadata": {
        "colab": {
          "base_uri": "https://localhost:8080/"
        },
        "id": "PX2ERYsFzqnU",
        "outputId": "a9bcf7ae-a283-42c3-aecf-1e774051dd3b"
      },
      "execution_count": 14,
      "outputs": [
        {
          "output_type": "stream",
          "name": "stdout",
          "text": [
            "Hello, Charlie! You are 30 years old.\n"
          ]
        }
      ]
    },
    {
      "cell_type": "code",
      "source": [
        "print('Here comes {} and {}'.format('Variable1','Variable2'))  #str.format() Method\n",
        "print(f'Again cames {\"Variable1\"} and {\"Variable2\"}')   #Formatted String Literals\n",
        "print(f'A float upto 2 decimal is {2.456789:.2f}')\n",
        "print(\"Here %s and here %s \" %('Variable1','Variable2')) #% Operator uses %s for strings, %d for integers, and %f for floating-point"
      ],
      "metadata": {
        "colab": {
          "base_uri": "https://localhost:8080/"
        },
        "id": "inJtDI-h0AZK",
        "outputId": "53bd38ef-49db-43e6-cd60-50d187473d3a"
      },
      "execution_count": 15,
      "outputs": [
        {
          "output_type": "stream",
          "name": "stdout",
          "text": [
            "Here comes Variable1 and Variable2\n",
            "Again cames Variable1 and Variable2\n",
            "A float upto 2 decimal is 2.46\n",
            "Here Variable1 and here Variable2 \n"
          ]
        }
      ]
    },
    {
      "cell_type": "markdown",
      "source": [
        "# **Fin.**"
      ],
      "metadata": {
        "id": "fjSqzUKRYdWL"
      }
    }
  ]
}
