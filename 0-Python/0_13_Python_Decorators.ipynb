{
  "cells": [
    {
      "cell_type": "markdown",
      "metadata": {
        "id": "view-in-github",
        "colab_type": "text"
      },
      "source": [
        "<a href=\"https://colab.research.google.com/github/armancodes1/a-data-science-journey/blob/main/0-Python/0_13_Python_Decorators.ipynb\" target=\"_parent\"><img src=\"https://colab.research.google.com/assets/colab-badge.svg\" alt=\"Open In Colab\"/></a>"
      ]
    },
    {
      "cell_type": "markdown",
      "id": "c981037a",
      "metadata": {
        "id": "c981037a"
      },
      "source": [
        "# Python Decorators"
      ]
    },
    {
      "cell_type": "markdown",
      "id": "9b3995b1",
      "metadata": {
        "id": "9b3995b1"
      },
      "source": [
        "\n",
        "Decorators are a powerful feature in Python that allow you to **modify or enhance functions or classes** without changing their source code.\n",
        "\n",
        "They are widely used in frameworks like Flask, Django, and FastAPI.\n"
      ]
    },
    {
      "cell_type": "markdown",
      "id": "cbfceff6",
      "metadata": {
        "id": "cbfceff6"
      },
      "source": [
        "##  Functions as First-Class Objects"
      ]
    },
    {
      "cell_type": "code",
      "execution_count": 9,
      "id": "5cbf8d9c",
      "metadata": {
        "colab": {
          "base_uri": "https://localhost:8080/"
        },
        "id": "5cbf8d9c",
        "outputId": "26daeb0f-d5ff-4481-e9da-0bde9a66e9b7"
      },
      "outputs": [
        {
          "output_type": "stream",
          "name": "stdout",
          "text": [
            "Hello, Alice\n"
          ]
        }
      ],
      "source": [
        "def greet(name):\n",
        "    return f\"Hello, {name}\"\n",
        "\n",
        "say_hello = greet  # Assign function to a variable\n",
        "print(say_hello(\"Alice\"))"
      ]
    },
    {
      "cell_type": "markdown",
      "id": "d1b52b3b",
      "metadata": {
        "id": "d1b52b3b"
      },
      "source": [
        "##  Writing a Simple Decorator"
      ]
    },
    {
      "cell_type": "code",
      "execution_count": 10,
      "id": "f9d0d1cb",
      "metadata": {
        "colab": {
          "base_uri": "https://localhost:8080/"
        },
        "id": "f9d0d1cb",
        "outputId": "ad898a5e-eceb-483d-a338-fc396fd64294"
      },
      "outputs": [
        {
          "output_type": "stream",
          "name": "stdout",
          "text": [
            "Before function call\n",
            "Hi there!\n",
            "After function call\n"
          ]
        }
      ],
      "source": [
        "def simple_decorator(func):\n",
        "    def wrapper():\n",
        "        print(\"Before function call\")\n",
        "        func()\n",
        "        print(\"After function call\")\n",
        "    return wrapper\n",
        "\n",
        "def say_hi():\n",
        "    print(\"Hi there!\")\n",
        "\n",
        "decorated = simple_decorator(say_hi)\n",
        "decorated()"
      ]
    },
    {
      "cell_type": "markdown",
      "id": "9757db03",
      "metadata": {
        "id": "9757db03"
      },
      "source": [
        "##  Using @ Syntax"
      ]
    },
    {
      "cell_type": "code",
      "execution_count": 11,
      "id": "1438ec70",
      "metadata": {
        "colab": {
          "base_uri": "https://localhost:8080/"
        },
        "id": "1438ec70",
        "outputId": "85ee96e3-226c-4f4a-90e5-5a6791a1af48"
      },
      "outputs": [
        {
          "output_type": "stream",
          "name": "stdout",
          "text": [
            "Before function call\n",
            "Hello, World!\n",
            "After function call\n"
          ]
        }
      ],
      "source": [
        "@simple_decorator\n",
        "def greet_world():\n",
        "    print(\"Hello, World!\")\n",
        "\n",
        "greet_world()"
      ]
    },
    {
      "cell_type": "markdown",
      "id": "37ddce2b",
      "metadata": {
        "id": "37ddce2b"
      },
      "source": [
        "##  Decorators with Arguments"
      ]
    },
    {
      "cell_type": "code",
      "execution_count": 12,
      "id": "1c0de814",
      "metadata": {
        "colab": {
          "base_uri": "https://localhost:8080/"
        },
        "id": "1c0de814",
        "outputId": "156db35e-546c-410c-d11f-2165cab0b730"
      },
      "outputs": [
        {
          "output_type": "stream",
          "name": "stdout",
          "text": [
            "Hello, Alice!\n",
            "Hello, Alice!\n",
            "Hello, Alice!\n"
          ]
        }
      ],
      "source": [
        "def repeat(n):\n",
        "    def decorator(func):\n",
        "        def wrapper(*args, **kwargs):\n",
        "            for _ in range(n):\n",
        "                func(*args, **kwargs)\n",
        "        return wrapper\n",
        "    return decorator\n",
        "\n",
        "@repeat(3)\n",
        "def hello(name):\n",
        "    print(f\"Hello, {name}!\")\n",
        "\n",
        "hello(\"Alice\")"
      ]
    },
    {
      "cell_type": "markdown",
      "id": "d5bddfd2",
      "metadata": {
        "id": "d5bddfd2"
      },
      "source": [
        "##  Preserving Metadata with functools.wraps"
      ]
    },
    {
      "cell_type": "code",
      "execution_count": 13,
      "id": "45978711",
      "metadata": {
        "colab": {
          "base_uri": "https://localhost:8080/"
        },
        "id": "45978711",
        "outputId": "8a50c88b-1151-4e14-b23b-0a31d4d45768"
      },
      "outputs": [
        {
          "output_type": "stream",
          "name": "stdout",
          "text": [
            "Calling add with (2, 3), {}\n",
            "5\n",
            "add\n",
            "Returns sum of a and b\n"
          ]
        }
      ],
      "source": [
        "from functools import wraps\n",
        "\n",
        "def debug(func):\n",
        "    @wraps(func)\n",
        "    def wrapper(*args, **kwargs):\n",
        "        print(f\"Calling {func.__name__} with {args}, {kwargs}\")\n",
        "        return func(*args, **kwargs)\n",
        "    return wrapper\n",
        "\n",
        "@debug\n",
        "def add(a, b):\n",
        "    \"Returns sum of a and b\"\n",
        "    return a + b\n",
        "\n",
        "print(add(2, 3))\n",
        "print(add.__name__)  # preserved\n",
        "print(add.__doc__)   # preserved"
      ]
    },
    {
      "cell_type": "markdown",
      "id": "16c2f2f5",
      "metadata": {
        "id": "16c2f2f5"
      },
      "source": [
        "##  Real-World Use Cases"
      ]
    },
    {
      "cell_type": "code",
      "execution_count": 14,
      "id": "db29d159",
      "metadata": {
        "colab": {
          "base_uri": "https://localhost:8080/"
        },
        "id": "db29d159",
        "outputId": "37088fd7-dcbf-41ef-e425-029c839b3eff"
      },
      "outputs": [
        {
          "output_type": "stream",
          "name": "stdout",
          "text": [
            "Welcome Alice to your dashboard!\n",
            "Access denied!\n"
          ]
        }
      ],
      "source": [
        "# 1. Authentication check\n",
        "def requires_auth(func):\n",
        "    def wrapper(user):\n",
        "        if not user.get(\"is_authenticated\"):\n",
        "            print(\"Access denied!\")\n",
        "            return\n",
        "        return func(user)\n",
        "    return wrapper\n",
        "\n",
        "@requires_auth\n",
        "def dashboard(user):\n",
        "    print(f\"Welcome {user['name']} to your dashboard!\")\n",
        "\n",
        "dashboard({\"name\": \"Alice\", \"is_authenticated\": True})\n",
        "dashboard({\"name\": \"Bob\", \"is_authenticated\": False})"
      ]
    },
    {
      "cell_type": "code",
      "execution_count": 15,
      "id": "4fd4d146",
      "metadata": {
        "colab": {
          "base_uri": "https://localhost:8080/"
        },
        "id": "4fd4d146",
        "outputId": "4aebb75f-8963-4b62-a2de-e6c6c1be0d58"
      },
      "outputs": [
        {
          "output_type": "stream",
          "name": "stdout",
          "text": [
            "compute_square took 0.0894s\n"
          ]
        }
      ],
      "source": [
        "# 2. Timing function execution\n",
        "import time\n",
        "\n",
        "def timing(func):\n",
        "    def wrapper(*args, **kwargs):\n",
        "        start = time.time()\n",
        "        result = func(*args, **kwargs)\n",
        "        end = time.time()\n",
        "        print(f\"{func.__name__} took {end - start:.4f}s\")\n",
        "        return result\n",
        "    return wrapper\n",
        "\n",
        "@timing\n",
        "def compute_square(n):\n",
        "    return [i**2 for i in range(n)]\n",
        "\n",
        "# Assign the result to a variable to prevent large output\n",
        "squares = compute_square(1000000)"
      ]
    },
    {
      "cell_type": "markdown",
      "id": "376c550e",
      "metadata": {
        "id": "376c550e"
      },
      "source": [
        "##  Best Practices"
      ]
    },
    {
      "cell_type": "markdown",
      "id": "03133014",
      "metadata": {
        "id": "03133014"
      },
      "source": [
        "\n",
        "- Always use `functools.wraps` to preserve function metadata.  \n",
        "- Keep decorators focused on **one responsibility**.  \n",
        "- Use nested functions carefully to avoid complexity.  \n",
        "- Chain decorators for modular enhancements.  \n"
      ]
    }
  ],
  "metadata": {
    "colab": {
      "provenance": [],
      "include_colab_link": true
    },
    "language_info": {
      "name": "python"
    },
    "kernelspec": {
      "name": "python3",
      "display_name": "Python 3"
    }
  },
  "nbformat": 4,
  "nbformat_minor": 5
}