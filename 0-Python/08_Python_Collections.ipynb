{
  "cells": [
    {
      "cell_type": "markdown",
      "metadata": {
        "id": "view-in-github",
        "colab_type": "text"
      },
      "source": [
        "<a href=\"https://colab.research.google.com/github/armancodes1/a-data-science-journey/blob/main/0-Python/0_8_Python_Collections.ipynb\" target=\"_parent\"><img src=\"https://colab.research.google.com/assets/colab-badge.svg\" alt=\"Open In Colab\"/></a>"
      ]
    },
    {
      "cell_type": "markdown",
      "id": "290138d3",
      "metadata": {
        "id": "290138d3"
      },
      "source": [
        "# Python Collections:\n",
        "\n",
        "This notebook covers Python's core collection types:\n",
        "- **Lists**\n",
        "- **Tuples**\n",
        "- **Dictionaries**\n",
        "- **Sets**\n"
      ]
    },
    {
      "cell_type": "markdown",
      "id": "cc0a7784",
      "metadata": {
        "id": "cc0a7784"
      },
      "source": [
        "## 1. Lists\n",
        "- Ordered\n",
        "- Mutable\n",
        "- Allow duplicates"
      ]
    },
    {
      "cell_type": "code",
      "execution_count": 1,
      "id": "170a2ec6",
      "metadata": {
        "colab": {
          "base_uri": "https://localhost:8080/"
        },
        "id": "170a2ec6",
        "outputId": "e57f155b-e740-4210-bba0-d59e0a2c3bdf"
      },
      "outputs": [
        {
          "output_type": "stream",
          "name": "stdout",
          "text": [
            "[1, 2, 3, 4]\n",
            "[1, 'hello', 3.14]\n",
            "[[1, 2], [3, 4]]\n"
          ]
        }
      ],
      "source": [
        "# Creating lists\n",
        "lst = [1, 2, 3, 4]\n",
        "print(lst)\n",
        "\n",
        "# Mixed data\n",
        "mixed = [1, \"hello\", 3.14]\n",
        "print(mixed)\n",
        "\n",
        "# Nested list\n",
        "nested = [[1,2], [3,4]]\n",
        "print(nested)"
      ]
    },
    {
      "cell_type": "markdown",
      "id": "6c614836",
      "metadata": {
        "id": "6c614836"
      },
      "source": [
        "### List Operations"
      ]
    },
    {
      "cell_type": "code",
      "execution_count": 2,
      "id": "4f37c645",
      "metadata": {
        "colab": {
          "base_uri": "https://localhost:8080/"
        },
        "id": "4f37c645",
        "outputId": "38e62315-116f-4989-9e6b-70216debb3f4"
      },
      "outputs": [
        {
          "output_type": "stream",
          "name": "stdout",
          "text": [
            "10 50\n",
            "[20, 30, 40]\n",
            "[10, 20, 99, 40, 50]\n",
            "[10, 20, 99, 40, 50, 60, 70, 80]\n",
            "[10, 15, 20, 99, 40, 50, 60, 70, 80]\n",
            "[10, 15, 20, 99, 50, 60, 70, 80]\n",
            "Popped: 80 Remaining: [10, 15, 20, 99, 50, 60, 70]\n",
            "Original: [[99, 2], [3, 4]]\n",
            "Shallow Copy: [[99, 2], [3, 4]]\n",
            "Deep Copy: [[1, 2], [3, 4]]\n"
          ]
        }
      ],
      "source": [
        "# Indexing & slicing\n",
        "lst = [10, 20, 30, 40, 50]\n",
        "print(lst[0], lst[-1])\n",
        "print(lst[1:4])\n",
        "\n",
        "# Modification\n",
        "lst[2] = 99\n",
        "print(lst)\n",
        "\n",
        "# Append & extend\n",
        "lst.append(60)\n",
        "lst.extend([70, 80])\n",
        "print(lst)\n",
        "\n",
        "# Insert\n",
        "lst.insert(1, 15)\n",
        "print(lst)\n",
        "\n",
        "# Remove & pop\n",
        "lst.remove(40)\n",
        "print(lst)\n",
        "\n",
        "popped = lst.pop()\n",
        "print(\"Popped:\", popped, \"Remaining:\", lst)\n",
        "\n",
        "# Copying\n",
        "import copy\n",
        "original = [[1,2], [3,4]]\n",
        "shallow = original.copy()\n",
        "deep = copy.deepcopy(original)\n",
        "\n",
        "original[0][0] = 99\n",
        "print(\"Original:\", original)\n",
        "print(\"Shallow Copy:\", shallow)\n",
        "print(\"Deep Copy:\", deep)"
      ]
    },
    {
      "cell_type": "markdown",
      "id": "0ed27bd9",
      "metadata": {
        "id": "0ed27bd9"
      },
      "source": [
        "## 2. Tuples\n",
        "- Ordered\n",
        "- Immutable\n",
        "- Allow duplicates"
      ]
    },
    {
      "cell_type": "code",
      "execution_count": 3,
      "id": "2a2e418f",
      "metadata": {
        "colab": {
          "base_uri": "https://localhost:8080/"
        },
        "id": "2a2e418f",
        "outputId": "1af4174e-e6bd-47d7-852b-cd4a60ec8fdb"
      },
      "outputs": [
        {
          "output_type": "stream",
          "name": "stdout",
          "text": [
            "(1, 2, 3) (1, 2, 3) (5,)\n",
            "1 3\n",
            "(2, 3)\n"
          ]
        }
      ],
      "source": [
        "# Creating tuples\n",
        "t1 = (1, 2, 3)\n",
        "t2 = 1, 2, 3   # parentheses optional\n",
        "single = (5,)   # single-element tuple requires a comma\n",
        "\n",
        "print(t1, t2, single)\n",
        "\n",
        "# Indexing & slicing\n",
        "print(t1[0], t1[-1])\n",
        "print(t1[1:])"
      ]
    },
    {
      "cell_type": "markdown",
      "id": "5511f130",
      "metadata": {
        "id": "5511f130"
      },
      "source": [
        "### Immutability & Nested Mutability"
      ]
    },
    {
      "cell_type": "code",
      "execution_count": 4,
      "id": "fdc54e20",
      "metadata": {
        "colab": {
          "base_uri": "https://localhost:8080/"
        },
        "id": "fdc54e20",
        "outputId": "d900390e-e407-4e6c-c550-cd7470ac1184"
      },
      "outputs": [
        {
          "output_type": "stream",
          "name": "stdout",
          "text": [
            "(1, [2, 3, 4])\n"
          ]
        }
      ],
      "source": [
        "t = (1, [2, 3])\n",
        "# t[0] = 100  # Error: tuple is immutable\n",
        "\n",
        "# But the list inside tuple is mutable\n",
        "t[1].append(4)\n",
        "print(t)"
      ]
    },
    {
      "cell_type": "markdown",
      "id": "3d7f579d",
      "metadata": {
        "id": "3d7f579d"
      },
      "source": [
        "## 3. Dictionaries\n",
        "- Key-value pairs\n",
        "- Keys must be unique and immutable\n",
        "- Values can be any type"
      ]
    },
    {
      "cell_type": "code",
      "execution_count": 5,
      "id": "a57cb34e",
      "metadata": {
        "colab": {
          "base_uri": "https://localhost:8080/"
        },
        "id": "a57cb34e",
        "outputId": "44fcddeb-059c-40da-e40c-eafe2ebb6984"
      },
      "outputs": [
        {
          "output_type": "stream",
          "name": "stdout",
          "text": [
            "{'name': 'Alice', 'age': 25}\n",
            "Alice\n",
            "Not Found\n"
          ]
        }
      ],
      "source": [
        "# Creating dictionaries\n",
        "person = {\"name\": \"Alice\", \"age\": 25}\n",
        "print(person)\n",
        "\n",
        "# Access\n",
        "print(person[\"name\"])\n",
        "print(person.get(\"city\", \"Not Found\"))"
      ]
    },
    {
      "cell_type": "markdown",
      "id": "319ad0bc",
      "metadata": {
        "id": "319ad0bc"
      },
      "source": [
        "### Modifying and Removing Entries"
      ]
    },
    {
      "cell_type": "code",
      "execution_count": 6,
      "id": "ab9ebd29",
      "metadata": {
        "colab": {
          "base_uri": "https://localhost:8080/"
        },
        "id": "ab9ebd29",
        "outputId": "b5b4d7e8-c16b-403f-fa55-3045b33fc8e1"
      },
      "outputs": [
        {
          "output_type": "stream",
          "name": "stdout",
          "text": [
            "{'name': 'Alice', 'age': 25}\n",
            "{'name': 'Alice'}\n",
            "{'name': 'Alice', 'city': 'Paris'}\n",
            "KeyError: 'abc'\n",
            "{}\n"
          ]
        }
      ],
      "source": [
        "person = {\"name\": \"Alice\", \"age\": 25, \"city\": \"Paris\"}\n",
        "\n",
        "# Remove by key\n",
        "person.pop(\"city\")\n",
        "print(person)\n",
        "\n",
        "# Remove last inserted\n",
        "person.popitem()\n",
        "print(person)\n",
        "\n",
        "# Reset for next demo\n",
        "person = {\"name\": \"Alice\", \"age\": 25, \"city\": \"Paris\"}\n",
        "del person[\"age\"]\n",
        "print(person)\n",
        "\n",
        "# Accessing missing key\n",
        "try:\n",
        "    print(person[\"abc\"])\n",
        "except KeyError as e:\n",
        "    print(\"KeyError:\", e)\n",
        "\n",
        "# Clear all\n",
        "person.clear()\n",
        "print(person)"
      ]
    },
    {
      "cell_type": "markdown",
      "id": "69fecd30",
      "metadata": {
        "id": "69fecd30"
      },
      "source": [
        "## 4. Sets\n",
        "- Unordered\n",
        "- Mutable\n",
        "- No duplicates"
      ]
    },
    {
      "cell_type": "code",
      "execution_count": 7,
      "id": "ae788b58",
      "metadata": {
        "colab": {
          "base_uri": "https://localhost:8080/"
        },
        "id": "ae788b58",
        "outputId": "99bc6a6d-7049-467f-d52f-1de42f45ecff"
      },
      "outputs": [
        {
          "output_type": "stream",
          "name": "stdout",
          "text": [
            "{1, 2, 3}\n",
            "{4, 5}\n",
            "{1, 2, 3, 4}\n",
            "{1, 2, 3, 4, 5, 6}\n",
            "{1, 2, 3, 4, 5, 6}\n",
            "Removed: 1 Remaining: {2, 3, 4, 5, 6}\n"
          ]
        }
      ],
      "source": [
        "s1 = {1, 2, 3, 3}\n",
        "print(s1)   # {1,2,3}\n",
        "\n",
        "s2 = set([4, 4, 5])\n",
        "print(s2)\n",
        "\n",
        "# Adding elements\n",
        "s1.add(4)\n",
        "print(s1)\n",
        "\n",
        "s1.update([5,6])\n",
        "print(s1)\n",
        "\n",
        "# Removing\n",
        "s1.discard(10)   # safe\n",
        "print(s1)\n",
        "\n",
        "removed = s1.pop()\n",
        "print(\"Removed:\", removed, \"Remaining:\", s1)"
      ]
    },
    {
      "cell_type": "markdown",
      "id": "33d0692e",
      "metadata": {
        "id": "33d0692e"
      },
      "source": [
        "### Set Operations"
      ]
    },
    {
      "cell_type": "code",
      "execution_count": 8,
      "id": "1f95419c",
      "metadata": {
        "colab": {
          "base_uri": "https://localhost:8080/"
        },
        "id": "1f95419c",
        "outputId": "f42e485f-1c05-4561-fd98-a246588dfd63"
      },
      "outputs": [
        {
          "output_type": "stream",
          "name": "stdout",
          "text": [
            "Union: {1, 2, 3, 4, 5}\n",
            "Intersection: {3}\n",
            "Difference: {1, 2}\n",
            "Symmetric Difference: {1, 2, 4, 5}\n"
          ]
        }
      ],
      "source": [
        "a = {1, 2, 3}\n",
        "b = {3, 4, 5}\n",
        "\n",
        "print(\"Union:\", a | b)\n",
        "print(\"Intersection:\", a & b)\n",
        "print(\"Difference:\", a - b)\n",
        "print(\"Symmetric Difference:\", a ^ b)"
      ]
    },
    {
      "cell_type": "markdown",
      "id": "2cbb901c",
      "metadata": {
        "id": "2cbb901c"
      },
      "source": [
        "### Frozenset"
      ]
    },
    {
      "cell_type": "code",
      "execution_count": 9,
      "id": "2ec10ee0",
      "metadata": {
        "colab": {
          "base_uri": "https://localhost:8080/"
        },
        "id": "2ec10ee0",
        "outputId": "ab103003-e376-47a2-db10-cc11656265c8"
      },
      "outputs": [
        {
          "output_type": "stream",
          "name": "stdout",
          "text": [
            "frozenset({1, 2, 3})\n",
            "{frozenset({1, 2, 3}), frozenset({4, 5})}\n"
          ]
        }
      ],
      "source": [
        "fs = frozenset([1, 2, 3])\n",
        "print(fs)\n",
        "\n",
        "normal = {fs, frozenset([4,5])}\n",
        "print(normal)"
      ]
    },
    {
      "cell_type": "markdown",
      "id": "95e5bbe1",
      "metadata": {
        "id": "95e5bbe1"
      },
      "source": [
        "## 5. Key Takeaways\n",
        "- **Lists**: ordered, mutable, allow duplicates.\n",
        "- **Tuples**: ordered, immutable, allow duplicates.\n",
        "- **Dictionaries**: key-value pairs, mutable, keys unique.\n",
        "- **Sets**: unordered, mutable, unique elements.\n",
        "\n",
        "Choose the right collection based on mutability, ordering, and uniqueness requirements."
      ]
    },
    {
      "cell_type": "markdown",
      "source": [
        "## 6. Comparison Table of Collections\n",
        "\n",
        "| Feature              | List                          | Tuple                         | Dictionary                                | Set                       |\n",
        "|----------------------|-------------------------------|-------------------------------|-------------------------------------------|---------------------------|\n",
        "| **Ordered**          | ✅ Yes                        | ✅ Yes                        | ✅ Yes (since Python 3.7+)                 | ❌ No                     |\n",
        "| **Mutable**          | ✅ Yes                        | ❌ No (but can hold mutables) | ✅ Yes                                    | ✅ Yes                    |\n",
        "| **Allows Duplicates**| ✅ Yes                        | ✅ Yes                        | ❌ Keys must be unique (values can repeat) | ❌ No                     |\n",
        "| **Indexing / Slicing** | ✅ Yes                      | ✅ Yes                        | ❌ By keys only                           | ❌ No                     |\n",
        "| **Data Access**      | By index                      | By index                      | By key                                    | By membership (`in`)      |\n",
        "| **Typical Use Case** | Ordered collection of items   | Fixed sequence of items       | Mapping keys to values                    | Unique items, set algebra |\n"
      ],
      "metadata": {
        "id": "oZjBEdru2mnr"
      },
      "id": "oZjBEdru2mnr"
    },
    {
      "cell_type": "markdown",
      "source": [
        "# **Fin.**"
      ],
      "metadata": {
        "id": "d-vxZG492qEe"
      },
      "id": "d-vxZG492qEe"
    }
  ],
  "metadata": {
    "colab": {
      "provenance": [],
      "include_colab_link": true
    },
    "language_info": {
      "name": "python"
    },
    "kernelspec": {
      "name": "python3",
      "display_name": "Python 3"
    }
  },
  "nbformat": 4,
  "nbformat_minor": 5
}
