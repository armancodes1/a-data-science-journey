{
  "nbformat": 4,
  "nbformat_minor": 0,
  "metadata": {
    "colab": {
      "provenance": [],
      "authorship_tag": "ABX9TyOOn2dAWfdqrHrylrq6q71Y",
      "include_colab_link": true
    },
    "kernelspec": {
      "name": "python3",
      "display_name": "Python 3"
    },
    "language_info": {
      "name": "python"
    }
  },
  "cells": [
    {
      "cell_type": "markdown",
      "metadata": {
        "id": "view-in-github",
        "colab_type": "text"
      },
      "source": [
        "<a href=\"https://colab.research.google.com/github/armancodes1/a-data-science-journey/blob/main/0-Python/0_2_Variable_Scope.ipynb\" target=\"_parent\"><img src=\"https://colab.research.google.com/assets/colab-badge.svg\" alt=\"Open In Colab\"/></a>"
      ]
    },
    {
      "cell_type": "markdown",
      "source": [
        "**Global Variables**\n",
        "\n",
        "* A global variable is a variable declared in the main body of a Python script or a module.\n",
        "* Its scope is the entire program, meaning it can be accessed and modified from any part of the code, both inside and outside of functions.\n",
        "* To explicitly modify a global variable from within a function, you must use the global keyword."
      ],
      "metadata": {
        "id": "0_o0I0pz73Ps"
      }
    },
    {
      "cell_type": "code",
      "execution_count": 27,
      "metadata": {
        "colab": {
          "base_uri": "https://localhost:8080/"
        },
        "id": "lrqCJkMu7uc3",
        "outputId": "c5d7ad74-2c08-4d54-91c3-aa07a540a549"
      },
      "outputs": [
        {
          "output_type": "stream",
          "name": "stdout",
          "text": [
            "Before Modification Outside the function, x is: 10\n",
            "Inside the function, x is: 10\n",
            "Inside the function after modification, x is: 20\n",
            "Outside the function, x is: 20\n"
          ]
        }
      ],
      "source": [
        "x = 10\n",
        "def modify_global():\n",
        "    global x  # We must use the global keyword to use/modify the global 'x'\n",
        "    print(f\"Inside the function, x is: {x}\")\n",
        "    x = 20\n",
        "    print(f\"Inside the function after modification, x is: {x}\")\n",
        "print(f\"Before Modification Outside the function, x is: {x}\")\n",
        "modify_global()\n",
        "print(f\"Outside the function, x is: {x}\")"
      ]
    },
    {
      "cell_type": "markdown",
      "source": [
        "**Local Variables**\n",
        "\n",
        "* A local variable is a variable declared inside a function.\n",
        "* It can only be  accessed from within that function.\n",
        "* Its scope is limited to the function where it is created.\n",
        "* Trying to access it from outside the function will result in a NameError."
      ],
      "metadata": {
        "id": "wve5RIJH8Ucn"
      }
    },
    {
      "cell_type": "code",
      "source": [
        "def my_function():\n",
        "    y = 5 # This is a local variable\n",
        "    print(f\"This is a local variable: {y}\")\n",
        "\n",
        "my_function()\n",
        "# Trying to access 'y' outside the function will raise an error\n",
        "try:\n",
        "    print(y)\n",
        "except NameError:\n",
        "    print(\"NameError: 'y' is not defined outside the function.\")"
      ],
      "metadata": {
        "colab": {
          "base_uri": "https://localhost:8080/"
        },
        "id": "GECxkCFk8W8h",
        "outputId": "157d01eb-8663-4686-9cc5-5ce1d265fb34"
      },
      "execution_count": 28,
      "outputs": [
        {
          "output_type": "stream",
          "name": "stdout",
          "text": [
            "This is a local variable: 5\n",
            "NameError: 'y' is not defined outside the function.\n"
          ]
        }
      ]
    },
    {
      "cell_type": "markdown",
      "source": [
        "**Nonlocal Variables**\n",
        "\n",
        "* A nonlocal variable is used in nested functions.\n",
        "* It allows an inner function to modify a variable from its enclosing (outer) function.\n",
        "* It is not local to the inner function, nor is it global. The nonlocal keyword is used to declare it.\n",
        "* This is useful when you have a function factory or closure where an inner function needs to change the state of its parent function."
      ],
      "metadata": {
        "id": "aRbpEsfo8jXD"
      }
    },
    {
      "cell_type": "code",
      "source": [
        "def outer_function():\n",
        "    x = 1  # This is a non-local variable for the inner function\n",
        "\n",
        "    def inner_function():\n",
        "        nonlocal x  # We use the nonlocal keyword to modify the variable 'x' from the enclosing scope\n",
        "        x = 2\n",
        "        print(f\"Inside inner_function, x is: {x}\")\n",
        "    print(f\"Inside outer_function before inner_function call, x is: {x}\")\n",
        "    inner_function()\n",
        "    print(f\"Inside outer_function after before inner_function call, x is: {x}\")\n",
        "\n",
        "outer_function()"
      ],
      "metadata": {
        "colab": {
          "base_uri": "https://localhost:8080/"
        },
        "id": "FYPxFZvP8kEO",
        "outputId": "5a66d2e6-c460-46b9-b815-f74ae8622a5c"
      },
      "execution_count": 29,
      "outputs": [
        {
          "output_type": "stream",
          "name": "stdout",
          "text": [
            "Inside outer_function before inner_function call, x is: 1\n",
            "Inside inner_function, x is: 2\n",
            "Inside outer_function after before inner_function call, x is: 2\n"
          ]
        }
      ]
    },
    {
      "cell_type": "markdown",
      "metadata": {
        "id": "562fa553"
      },
      "source": [
        "**Key differences between global, local, and nonlocal variables:**\n",
        "\n",
        "| Feature          | Global Variables                      | Local Variables                      | Nonlocal Variables                     |\n",
        "|------------------|---------------------------------------|--------------------------------------|----------------------------------------|\n",
        "| **Scope**        | Entire program                        | Within the function where defined    | Enclosing function's scope (not global or local) |\n",
        "| **Declaration**  | Outside any function                  | Inside a function                    | Inside a nested function             |\n",
        "| **Access**       | Accessible from anywhere              | Accessible only within the function  | Accessible within the nested function and its enclosing function |\n",
        "| **Modification** | Use `global` keyword inside a function to modify | Directly modifiable within the function | Use `nonlocal` keyword inside a nested function to modify |\n",
        "| **Lifetime**     | Persists throughout program execution | Exists only while the function is executing | Exists while the enclosing function is executing |"
      ]
    },
    {
      "cell_type": "markdown",
      "source": [
        "# **Fin.**"
      ],
      "metadata": {
        "id": "MNaJ4uDn823z"
      }
    }
  ]
}