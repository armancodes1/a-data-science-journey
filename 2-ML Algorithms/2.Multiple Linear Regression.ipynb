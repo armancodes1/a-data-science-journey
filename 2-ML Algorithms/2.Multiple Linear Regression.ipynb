{
 "cells": [
  {
   "cell_type": "markdown",
   "id": "bacecb4e-5b1e-4649-a2ba-e43e74f63c5f",
   "metadata": {},
   "source": [
    "# Linear Regression with Multiple Variables\n",
    "\n",
    "Simple linear regression uses a single feature to make a prediction. However, in most real-world scenarios, you have multiple factors that influence the outcome. \n",
    "\n",
    "For example, a house price isn't just determined by its size but also by the number of bedrooms, number of floors, and age of the home.\n",
    "\n",
    "<a name=\"toc_15456_1.3\"></a>\n",
    "## Notation\n",
    "\n",
    "| General Notation | Description | Python (if applicable) |\n",
    "|:-----------------|:------------|:-----------------------|\n",
    "| $a$              | Scalar (non-bold) | `a` |\n",
    "| **a**            | Vector (bold lowercase) | `a` |\n",
    "| **A**            | Matrix (bold capital) | `A` |\n",
    "    \n",
    "| **Regression**   |              |                       |\n",
    "|:-----------------|:-------------|:----------------------|\n",
    "| $\\boldsymbol{X}$ | Training example matrix | `X_train` |\n",
    "| $\\boldsymbol{y}$ | Training targets | `y_train` |\n",
    "| $\\boldsymbol{x}^{(i)}, y^{(i)}$ | $i$-th training example | `X[i]`, `y[i]` |\n",
    "| $m$              | Number of training examples | `m` |\n",
    "| $n$              | Number of features per example | `n` |\n",
    "| $\\boldsymbol{w}$ | Model parameters: weights | `w` |\n",
    "| $b$              | Model parameter: bias | `b` |\n",
    "| $f_{\\boldsymbol{w},b}(\\boldsymbol{x}^{(i)})$ | Model output for $i$-th example: $f(\\boldsymbol{x}^{(i)}) = \\boldsymbol{w}\\cdot\\boldsymbol{x}^{(i)}+b$ | `f_wb = np.dot(w, X[i]) + b` |\n",
    "| $\\frac{\\partial J(\\boldsymbol{w},b)}{\\partial w_j}$ | Gradient (partial derivative of cost w.r.t. weight $w_j$) | `dj_dw[j]` |\n",
    "| $\\frac{\\partial J(\\boldsymbol{w},b)}{\\partial b}$ | Gradient (partial derivative of cost w.r.t. bias $b$) | `dj_db` |\n",
    "\n",
    "The model's hypothesis for multiple features is an extension of the single-variable model:\n",
    "\n",
    "f_w,b(x⃗) = w₁x₁ + w₂x₂ + ... + wₙxₙ + b\n",
    "\n",
    "Using vector notation, this can be written much more concisely. If we define **w⃗** as the vector of weights and **x⃗** as the vector of features, \n",
    "\n",
    "the model can be expressed as a dot product:\n",
    "\n",
    "f_w,b(x⃗) = **w⃗** ⋅ **x⃗** + b\n",
    "\n",
    "This is known as **Multiple Linear Regression**."
   ]
  },
  {
   "cell_type": "markdown",
   "id": "f622e74c-ad76-48a4-b965-a6846a1162d5",
   "metadata": {},
   "source": [
    "## 1.Vectorization\n",
    "\n",
    "Vectorization is the practice of using optimized, low-level numerical computing libraries (like NumPy in Python) to perform mathematical operations on entire arrays or vectors instead of iterating through elements one by one. \n",
    "\n",
    "**Why use vectorization?**\n",
    "1.  **Speed:** Operations are executed much faster because the underlying implementations are written in compiled languages (like C or Fortran). They can also leverage parallel processing capabilities of modern CPUs.\n",
    "2.  **Simplicity:** The code becomes much more concise and readable, closely resembling the mathematical notation.\n",
    "\n",
    "For example, instead of computing the model's prediction with a `for` loop, you can use `np.dot()`."
   ]
  },
  {
   "cell_type": "code",
   "execution_count": 22,
   "id": "00da9ead-be5c-4982-aed6-22908ab6907d",
   "metadata": {},
   "outputs": [
    {
     "name": "stdout",
     "output_type": "stream",
     "text": [
      "Loop result: 2500474.5287, Time: 4.613082 s\n",
      "Vectorized result: 2500474.5287, Time: 0.007086 s\n"
     ]
    }
   ],
   "source": [
    "import numpy as np\n",
    "import time\n",
    "\n",
    "# Sample data\n",
    "n = 10000000\n",
    "w = np.random.rand(n)\n",
    "x = np.random.rand(n)\n",
    "b = 0.5\n",
    "\n",
    "# --- 1. Loop Approach ---\n",
    "start = time.time()\n",
    "f_loop = sum(w[j] * x[j] for j in range(n)) + b\n",
    "end = time.time()\n",
    "print(f\"Loop result: {f_loop:.4f}, Time: {end - start:.6f} s\")\n",
    "\n",
    "# --- 2. Vectorized Approach ---\n",
    "start = time.time()\n",
    "f_vec = np.dot(w, x) + b\n",
    "end = time.time()\n",
    "print(f\"Vectorized result: {f_vec:.4f}, Time: {end - start:.6f} s\")"
   ]
  },
  {
   "cell_type": "markdown",
   "id": "cf2707ff-3a59-4ca6-b0a5-5a62e916ddbd",
   "metadata": {},
   "source": [
    "\n",
    "## 2.Model Prediction With Multiple Variables\n",
    "The model's prediction with multiple variables is given by the linear model:\n",
    "\n",
    "$$ f_{\\mathbf{w},b}(\\mathbf{x}) =  w_0x_0 + w_1x_1 +... + w_{n-1}x_{n-1} + b \\tag{1}$$\n",
    "or in vector notation:\n",
    "$$ f_{\\mathbf{w},b}(\\mathbf{x}) = \\mathbf{w} \\cdot \\mathbf{x} + b  \\tag{2} $$ \n",
    "where $\\cdot$ is a vector `dot product`\n",
    "\n",
    "To demonstrate the dot product, we will implement prediction using (1) and (2)."
   ]
  },
  {
   "cell_type": "markdown",
   "id": "c970c0e1-fa45-4d6e-b309-655b7babaa99",
   "metadata": {},
   "source": [
    "### Matrix X_train \n",
    "Similar to the table above, examples are stored in a NumPy matrix `X_train`. Each row of the matrix represents one example. When you have $m$ training examples ( $m$ is three in our example), and there are $n$ features (four in our example), $\\mathbf{X}$ is a matrix with dimensions ($m$, $n$) (m rows, n columns).\n",
    "\n",
    "\n",
    "$$\\mathbf{X} = \n",
    "\\begin{pmatrix}\n",
    " x^{(0)}_0 & x^{(0)}_1 & \\cdots & x^{(0)}_{n-1} \\\\ \n",
    " x^{(1)}_0 & x^{(1)}_1 & \\cdots & x^{(1)}_{n-1} \\\\\n",
    " \\cdots \\\\\n",
    " x^{(m-1)}_0 & x^{(m-1)}_1 & \\cdots & x^{(m-1)}_{n-1} \n",
    "\\end{pmatrix}\n",
    "$$\n",
    "notation:\n",
    "- $\\mathbf{x}^{(i)}$ is vector containing example i. $\\mathbf{x}^{(i)}$ $ = (x^{(i)}_0, x^{(i)}_1, \\cdots,x^{(i)}_{n-1})$\n",
    "- $x^{(i)}_j$ is element j in example i. The superscript in parenthesis indicates the example number while the subscript represents an element.\n",
    "\n",
    "### Parameter vector w, b\n",
    "\n",
    "* $\\mathbf{w}$ is a vector with $n$ elements.\n",
    "  - Each element contains the parameter associated with one feature.\n",
    "  - in our dataset, n is 4.\n",
    "  - notionally, we draw this as a column vector\n",
    "\n",
    "$$\\mathbf{w} = \\begin{pmatrix}\n",
    "w_0 \\\\ \n",
    "w_1 \\\\\n",
    "\\cdots\\\\\n",
    "w_{n-1}\n",
    "\\end{pmatrix}\n",
    "$$\n",
    "* $b$ is a scalar parameter.  "
   ]
  },
  {
   "cell_type": "markdown",
   "id": "c08c720f-62bf-4470-bd67-61daa144c3c4",
   "metadata": {},
   "source": [
    "## 2.Import necessary libraries"
   ]
  },
  {
   "cell_type": "code",
   "execution_count": 23,
   "id": "9e13424e-b546-4ecb-8712-188e73eef323",
   "metadata": {},
   "outputs": [
    {
     "name": "stdout",
     "output_type": "stream",
     "text": [
      "Libraries imported successfully!\n"
     ]
    }
   ],
   "source": [
    "# Import necessary libraries\n",
    "import numpy as np                    # For numerical operations and array handling\n",
    "import pandas as pd                   # For data manipulation and analysis\n",
    "import matplotlib.pyplot as plt       # For data visualization\n",
    "\n",
    "# Set random seed for reproducibility\n",
    "np.random.seed(42)\n",
    "\n",
    "print(\"Libraries imported successfully!\")"
   ]
  },
  {
   "cell_type": "markdown",
   "id": "8845c4b7-5429-4609-af3f-279c791d62ea",
   "metadata": {},
   "source": [
    "## 3.Creating Sample Data"
   ]
  },
  {
   "cell_type": "code",
   "execution_count": 24,
   "id": "cf1a5d93-bc2d-4eb8-88ae-947984949236",
   "metadata": {},
   "outputs": [
    {
     "name": "stdout",
     "output_type": "stream",
     "text": [
      "X_train shape: (100, 4)\n",
      "y_train shape: (100, 1)\n",
      "X_train[:5]:\n",
      " [[0.37454012 0.95071431 0.73199394 0.59865848]\n",
      " [0.15601864 0.15599452 0.05808361 0.86617615]\n",
      " [0.60111501 0.70807258 0.02058449 0.96990985]\n",
      " [0.83244264 0.21233911 0.18182497 0.18340451]\n",
      " [0.30424224 0.52475643 0.43194502 0.29122914]]\n",
      "y_train[:5]:\n",
      " [[5.68331349]\n",
      " [3.93152338]\n",
      " [6.12316459]\n",
      " [4.42808609]\n",
      " [4.38162896]]\n"
     ]
    }
   ],
   "source": [
    "# Set random seed for reproducibility\n",
    "np.random.seed(42)\n",
    "\n",
    "# Generate x_train: 100 samples, 4 features\n",
    "X_train = np.random.rand(100, 4)\n",
    "\n",
    "# True weights and bias for simulation\n",
    "true_w = np.array([[1.5], [2.0], [-1.0], [0.5]])  # shape (4,1)\n",
    "true_b = 3.0\n",
    "\n",
    "# Generate y_train using linear combination + Gaussian noise\n",
    "noise = np.random.randn(100, 1) * 0.5  # noise with std deviation 0.5\n",
    "y_train = X_train @ true_w + true_b + noise  # shape (100,1)\n",
    "\n",
    "# Check shapes\n",
    "print(\"X_train shape:\", X_train.shape)\n",
    "print(\"y_train shape:\", y_train.shape)\n",
    "\n",
    "# Optional: first 5 rows\n",
    "print(\"X_train[:5]:\\n\", X_train[:5])\n",
    "print(\"y_train[:5]:\\n\", y_train[:5])"
   ]
  },
  {
   "cell_type": "markdown",
   "id": "cdf1eb6d-ca40-452c-94a6-ee006dad67e0",
   "metadata": {},
   "source": [
    "## 4.Compute Cost With Multiple Variables\n",
    "The equation for the cost function with multiple variables $J(\\mathbf{w},b)$ is:\n",
    "$$J(\\mathbf{w},b) = \\frac{1}{2m} \\sum\\limits_{i = 0}^{m-1} (f_{\\mathbf{w},b}(\\mathbf{x}^{(i)}) - y^{(i)})^2 \\tag{3}$$ \n",
    "where:\n",
    "$$ f_{\\mathbf{w},b}(\\mathbf{x}^{(i)}) = \\mathbf{w} \\cdot \\mathbf{x}^{(i)} + b  \\tag{4} $$ \n",
    "\n",
    "\n",
    "In contrast to previous labs, $\\mathbf{w}$ and $\\mathbf{x}^{(i)}$ are vectors rather than scalars supporting multiple features."
   ]
  },
  {
   "cell_type": "code",
   "execution_count": 25,
   "id": "f89cb99e-ff94-45ed-b0e5-3a39970c2172",
   "metadata": {},
   "outputs": [],
   "source": [
    "def compute_cost(X, y, w, b):\n",
    "    \"\"\"\n",
    "    Computes the cost function for multiple linear regression.\n",
    "    \"\"\"\n",
    "    m = X.shape[0]\n",
    "    predictions = X.dot(w) + b\n",
    "    cost = np.sum((predictions - y) ** 2)\n",
    "    total_cost = (1 / (2 * m)) * cost\n",
    "    return total_cost"
   ]
  },
  {
   "cell_type": "markdown",
   "id": "79119b24-90a5-4629-bf12-14a1ab7c3645",
   "metadata": {},
   "source": [
    "## 5.Gradient Descent With Multiple Variables\n",
    "Gradient descent for multiple variables:\n",
    "\n",
    "$$\\begin{align*} \\text{repeat}&\\text{ until convergence:} \\; \\lbrace \\newline\\;\n",
    "& w_j = w_j -  \\alpha \\frac{\\partial J(\\mathbf{w},b)}{\\partial w_j} \\tag{5}  \\; & \\text{for j = 0..n-1}\\newline\n",
    "&b\\ \\ = b -  \\alpha \\frac{\\partial J(\\mathbf{w},b)}{\\partial b}  \\newline \\rbrace\n",
    "\\end{align*}$$\n",
    "\n",
    "where, n is the number of features, parameters $w_j$,  $b$, are updated simultaneously and where  \n",
    "\n",
    "$$\n",
    "\\begin{align}\n",
    "\\frac{\\partial J(\\mathbf{w},b)}{\\partial w_j}  &= \\frac{1}{m} \\sum\\limits_{i = 0}^{m-1} (f_{\\mathbf{w},b}(\\mathbf{x}^{(i)}) - y^{(i)})x_{j}^{(i)} \\tag{6}  \\\\\n",
    "\\frac{\\partial J(\\mathbf{w},b)}{\\partial b}  &= \\frac{1}{m} \\sum\\limits_{i = 0}^{m-1} (f_{\\mathbf{w},b}(\\mathbf{x}^{(i)}) - y^{(i)}) \\tag{7}\n",
    "\\end{align}\n",
    "$$\n",
    "* m is the number of training examples in the data set\n",
    "\n",
    "    \n",
    "*  $f_{\\mathbf{w},b}(\\mathbf{x}^{(i)})$ is the model's prediction, while $y^{(i)}$ is the target value\n"
   ]
  },
  {
   "cell_type": "code",
   "execution_count": 26,
   "id": "34a83a15-7e60-46d2-a411-5e2679313fdc",
   "metadata": {},
   "outputs": [],
   "source": [
    "def compute_gradient(X, y, w, b):\n",
    "    \"\"\"\n",
    "    Computes the gradients for w and b.\n",
    "    \"\"\"\n",
    "    m, n = X.shape\n",
    "    \n",
    "    # Calculate the error\n",
    "    err = (X.dot(w) + b) - y\n",
    "    \n",
    "    # Calculate gradients\n",
    "    dj_dw = (1/m) * X.T.dot(err)\n",
    "    dj_db = (1/m) * np.sum(err)\n",
    "    \n",
    "    return dj_dw, dj_db\n",
    "\n",
    "def gradient_descent(X, y, w_in, b_in, alpha, num_iters):\n",
    "    \"\"\"\n",
    "    Performs gradient descent to learn w and b.\n",
    "    \"\"\"\n",
    "    w = w_in.copy() # Avoid modifying global w\n",
    "    b = b_in\n",
    "    J_history = []\n",
    "    \n",
    "    for i in range(num_iters):\n",
    "        # Calculate the gradient\n",
    "        dj_dw, dj_db = compute_gradient(X, y, w, b)\n",
    "        \n",
    "        # Update parameters\n",
    "        w = w - alpha * dj_dw\n",
    "        b = b - alpha * dj_db\n",
    "        \n",
    "        # Save cost at each iteration\n",
    "        J_history.append(compute_cost(X, y, w, b))\n",
    "        \n",
    "        if i % (num_iters // 10) == 0:\n",
    "            print(f\"Iteration {i:4d}: Cost {J_history[-1]:8.2f}\")\n",
    "            \n",
    "    return w, b, J_history"
   ]
  },
  {
   "cell_type": "code",
   "execution_count": 27,
   "id": "510b8e87-173c-4c38-9798-36a6ebc36e7d",
   "metadata": {},
   "outputs": [
    {
     "name": "stdout",
     "output_type": "stream",
     "text": [
      "Iteration    0: Cost     6.80\n",
      "Iteration  100: Cost     0.15\n",
      "Iteration  200: Cost     0.11\n",
      "Iteration  300: Cost     0.10\n",
      "Iteration  400: Cost     0.10\n",
      "Iteration  500: Cost     0.10\n",
      "Iteration  600: Cost     0.10\n",
      "Iteration  700: Cost     0.10\n",
      "Iteration  800: Cost     0.10\n",
      "Iteration  900: Cost     0.10\n",
      "\n",
      "Learned parameters:\n",
      "w = [ 1.72492113  1.69750405 -0.92165137  0.38308205]\n",
      "b = 3.073798748761816\n",
      "\n",
      "Final cost: 0.09569923041020109\n"
     ]
    }
   ],
   "source": [
    "# --- Initialize parameters correctly ---\n",
    "w_init = np.zeros((X_train.shape[1], 1))  # number of features\n",
    "b_init = 0.0\n",
    "alpha = 0.1\n",
    "iterations = 1000\n",
    "\n",
    "# --- Run gradient descent ---\n",
    "w_final, b_final, J_history = gradient_descent(X_train, y_train, w_init, b_init, alpha, iterations)\n",
    "\n",
    "# --- Print results ---\n",
    "print(\"\\nLearned parameters:\")\n",
    "print(\"w =\", w_final.ravel())\n",
    "print(\"b =\", b_final)\n",
    "\n",
    "print(\"\\nFinal cost:\", J_history[-1])"
   ]
  },
  {
   "cell_type": "code",
   "execution_count": 28,
   "id": "94ab0324-3f61-445a-b154-ed7707fab7a5",
   "metadata": {},
   "outputs": [
    {
     "data": {
      "image/png": "[encoded data removed]",
      "text/plain": [
       "<Figure size 1200x400 with 2 Axes>"
      ]
     },
     "metadata": {},
     "output_type": "display_data"
    }
   ],
   "source": [
    "# plot cost versus iteration  \n",
    "fig, (ax1, ax2) = plt.subplots(1, 2, constrained_layout=True, figsize=(12, 4))\n",
    "ax1.plot(J_history)\n",
    "ax2.plot(100 + np.arange(len(J_history[100:])), J_history[100:])\n",
    "ax1.set_title(\"Cost vs. iteration\");  ax2.set_title(\"Cost vs. iteration (tail)\")\n",
    "ax1.set_ylabel('Cost')             ;  ax2.set_ylabel('Cost') \n",
    "ax1.set_xlabel('iteration step')   ;  ax2.set_xlabel('iteration step') \n",
    "plt.show()"
   ]
  },
  {
   "cell_type": "markdown",
   "id": "753b3509-e40a-4e3e-8043-3821ad8d51e2",
   "metadata": {},
   "source": [
    "## 8.Model Evaluation\n",
    "\n",
    "#### I. Mean Squared Error (MSE)\n",
    "MSE = (1/m) × Σ(actual - predicted)²\n",
    "\n",
    "\n",
    "#### II. R² Score (R-squared or Coefficient of Determination)\n",
    "- Proportion of variance in the dependent variable explained by the model\n",
    "- **Range**: 0 to 1 (can be negative for very poor models)\n",
    "- **Interpretation**:\n",
    "  - **1.0** = Perfect fit (model explains 100% of variance)\n",
    "  - **0.8 - 1.0** = Strong model\n",
    "  - **0.5 - 0.8** = Moderate model\n",
    "  - **< 0.5** = Weak model\n",
    "  - **Higher is better**\n"
   ]
  },
  {
   "cell_type": "code",
   "execution_count": 33,
   "id": "c6230ced-f6bb-43b8-bee9-0a9510ddf86f",
   "metadata": {},
   "outputs": [],
   "source": [
    "def compute_model_output(X, w, b):\n",
    "    return np.dot(X, w) + b\n",
    "\n",
    "y_pred = compute_model_output(X_train, w_final, b_final)"
   ]
  },
  {
   "cell_type": "code",
   "execution_count": 34,
   "id": "7c23e277-cc43-4300-aa3f-64d4b445462b",
   "metadata": {},
   "outputs": [
    {
     "name": "stdout",
     "output_type": "stream",
     "text": [
      "\n",
      "Mean Squared Error (MSE): 0.19\n",
      "\n",
      "R² Score: 0.7626\n"
     ]
    }
   ],
   "source": [
    "from sklearn.metrics import mean_squared_error, r2_score\n",
    "\n",
    "mse = mean_squared_error(y_train, y_pred)\n",
    "r2 = r2_score(y_train, y_pred)\n",
    "print(f\"\\nMean Squared Error (MSE): {mse:.2f}\")\n",
    "print(f\"\\nR² Score: {r2:.4f}\")"
   ]
  },
  {
   "cell_type": "markdown",
   "id": "1a67f108-d84b-4fba-a9c1-3938e0e095ae",
   "metadata": {},
   "source": [
    "# Multiple Linear Regression using Scikit-Learn"
   ]
  },
  {
   "cell_type": "code",
   "execution_count": 46,
   "id": "4fbc72ff-5d31-4551-af59-b9b162504ca6",
   "metadata": {},
   "outputs": [
    {
     "name": "stdout",
     "output_type": "stream",
     "text": [
      "Learned model parameters:\n",
      " w = [ 1.01279243  1.7767442  -1.06821241  0.50720955], b = [3.34176637]\n",
      "\n",
      "Prediction on training set (first 4):\n",
      " [[3.85919778]\n",
      " [4.37871177]\n",
      " [3.48068129]\n",
      " [5.41232906]]\n",
      "Prediction using manual computation w*x + b (first 4):\n",
      " [3.85919778 4.37871177 3.48068129 5.41232906]\n",
      "Target values (first 4):\n",
      " [[4.9581257 ]\n",
      " [4.83104869]\n",
      " [3.49469061]\n",
      " [5.80998558]]\n",
      "\n"
     ]
    }
   ],
   "source": [
    "# Step 1: Import Libraries\n",
    "import numpy as np\n",
    "import matplotlib.pyplot as plt\n",
    "from sklearn.linear_model import LinearRegression\n",
    "\n",
    "# Step 2: Mock dataset loader (replace with your real data)\n",
    "# Generate x_train: 100 samples, 4 features\n",
    "X_train = np.random.rand(100, 4)\n",
    "\n",
    "# True weights and bias for simulation\n",
    "true_w = np.array([[1.5], [2.0], [-1.0], [0.5]])  # shape (4,1)\n",
    "true_b = 3.0\n",
    "\n",
    "# Generate y_train using linear combination + Gaussian noise\n",
    "noise = np.random.randn(100, 1) * 0.5  # noise with std deviation 0.5\n",
    "y_train = X_train @ true_w + true_b + noise  # shape (100,1)\n",
    "\n",
    "# Step 4: Train Linear Regression model\n",
    "linear_model = LinearRegression()\n",
    "linear_model.fit(X_train, y_train)\n",
    "\n",
    "# Step 5: Extract model parameters\n",
    "b = linear_model.intercept_\n",
    "w = linear_model.coef_\n",
    "w = w.reshape(-1)       # Convert to (n,)\n",
    "#w = w.ravel()\n",
    "print(f\"Learned model parameters:\\n w = {w}, b = {b}\\n\")\n",
    "\n",
    "# Step 6: Predictions on training set\n",
    "y_pred2 = linear_model.predict(X_train)\n",
    "print(f\"Prediction on training set (first 4):\\n {y_pred2[:4]}\")\n",
    "print(f\"Prediction using manual computation w*x + b (first 4):\\n {(X_train @ w + b)[:4]}\")\n",
    "print(f\"Target values (first 4):\\n {y_train[:4]}\\n\")"
   ]
  },
  {
   "cell_type": "code",
   "execution_count": 47,
   "id": "575782cc-ccd5-4f86-953d-9183855f1e9a",
   "metadata": {},
   "outputs": [
    {
     "name": "stdout",
     "output_type": "stream",
     "text": [
      "\n",
      "Mean Squared Error (MSE): 0.27\n",
      "\n",
      "R² Score: 0.6061\n"
     ]
    }
   ],
   "source": [
    "from sklearn.metrics import mean_squared_error, r2_score\n",
    "\n",
    "mse = mean_squared_error(y_train, y_pred2)\n",
    "r2 = r2_score(y_train, y_pred2)\n",
    "print(f\"\\nMean Squared Error (MSE): {mse:.2f}\")\n",
    "print(f\"\\nR² Score: {r2:.4f}\")"
   ]
  }
 ],
 "metadata": {
  "kernelspec": {
   "display_name": "Python 3 (ipykernel)",
   "language": "python",
   "name": "python3"
  },
  "language_info": {
   "codemirror_mode": {
    "name": "ipython",
    "version": 3
   },
   "file_extension": ".py",
   "mimetype": "text/x-python",
   "name": "python",
   "nbconvert_exporter": "python",
   "pygments_lexer": "ipython3",
   "version": "3.13.5"
  }
 },
 "nbformat": 4,
 "nbformat_minor": 5
}
