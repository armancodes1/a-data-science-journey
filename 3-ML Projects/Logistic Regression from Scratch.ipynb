{
 "cells": [
  {
   "cell_type": "markdown",
   "id": "9b1df4cd-e580-48b7-9b26-69f5af66785a",
   "metadata": {},
   "source": [
    "# 1. Introduction\n",
    "\n",
    "Logistic Regression is a fundamental classification algorithm used in machine learning. Despite its name, it's used for binary classification problems rather than regression.\n",
    "\n",
    "## Key Concepts:\n",
    "- **Binary Classification**: Predicts one of two possible outcomes (0 or 1)\n",
    "- **Sigmoid Function**: Maps predictions to probabilities between 0 and 1\n",
    "- **Log Loss**: The cost function used to optimize the model\n",
    "- **Gradient Descent**: The optimization algorithm to minimize the cost\n",
    "\n",
    "In this notebook, we'll implement Logistic Regression from scratch using NumPy and Python, without relying on pre-built machine learning libraries."
   ]
  },
  {
   "cell_type": "markdown",
   "id": "6dfe1421-0775-4eed-adc2-e7438cc0cb9a",
   "metadata": {},
   "source": [
    "# 2. Importing Libraries\n",
    "\n",
    "We'll use the following Python libraries:\n",
    "- **NumPy**: For numerical computations and array operations\n",
    "- **Pandas**: For data manipulation and loading datasets\n",
    "- **Matplotlib/Seaborn**: For data visualization"
   ]
  },
  {
   "cell_type": "code",
   "execution_count": 1,
   "id": "5d01fb92-870a-4bff-8191-2c814dd71d01",
   "metadata": {},
   "outputs": [],
   "source": [
    "import numpy as np\n",
    "import pandas as pd\n",
    "import matplotlib.pyplot as plt\n",
    "import seaborn as sns\n",
    "\n",
    "# Set random seed for reproducibility\n",
    "np.random.seed(42)"
   ]
  },
  {
   "cell_type": "markdown",
   "id": "4a69dfd0-afd8-4278-8b78-3f503b688459",
   "metadata": {},
   "source": [
    "# 3. Dataset Preparation\n",
    "\n",
    "For logistic regression, we need:\n",
    "- **Features (X)**: Input variables used for prediction\n",
    "- **Labels (y)**: Binary target variable (0 or 1)\n",
    "\n",
    "We'll prepare a sample dataset or load an existing one, then split it into training and testing sets."
   ]
  },
  {
   "cell_type": "code",
   "execution_count": 2,
   "id": "2d031708-ecef-4d1e-80d9-82841a33a236",
   "metadata": {},
   "outputs": [
    {
     "name": "stdout",
     "output_type": "stream",
     "text": [
      "Training set size: 800 samples\n",
      "Test set size: 200 samples\n",
      "Number of features: 2\n"
     ]
    }
   ],
   "source": [
    "# Example: Creating a synthetic dataset\n",
    "from sklearn.model_selection import train_test_split\n",
    "from sklearn.datasets import make_classification\n",
    "\n",
    "# Generate synthetic binary classification data\n",
    "X, y = make_classification(n_samples=1000, n_features=2, n_redundant=0, \n",
    "                          n_informative=2, random_state=42, n_clusters_per_class=1)\n",
    "\n",
    "# Split into training and testing sets\n",
    "X_train, X_test, y_train, y_test = train_test_split(X, y, test_size=0.2, random_state=42)\n",
    "\n",
    "print(f\"Training set size: {X_train.shape[0]} samples\")\n",
    "print(f\"Test set size: {X_test.shape[0]} samples\")\n",
    "print(f\"Number of features: {X_train.shape[1]}\")"
   ]
  },
  {
   "cell_type": "markdown",
   "id": "262cc1b7-f625-4885-8679-222f014cc426",
   "metadata": {},
   "source": [
    "# 4. Sigmoid Function\n",
    "\n",
    "The sigmoid function is the heart of logistic regression. It maps any real-valued number to a value between 0 and 1.\n",
    "\n",
    "**Mathematical Formula:**\n",
    "$$\\sigma(z) = \\frac{1}{1 + e^{-z}}$$\n",
    "\n",
    "Where:\n",
    "- $z = w^T x + b$ (linear combination of weights and features)\n",
    "- Output ranges from 0 to 1, representing probability"
   ]
  },
  {
   "cell_type": "code",
   "execution_count": 3,
   "id": "49ceecec-8f11-4138-b25b-ba4bec65afdb",
   "metadata": {},
   "outputs": [
    {
     "name": "stdout",
     "output_type": "stream",
     "text": [
      "Sigmoid values: [0.11920292 0.26894142 0.5        0.73105858 0.88079708]\n"
     ]
    }
   ],
   "source": [
    "def sigmoid(z):\n",
    "    \"\"\"\n",
    "    Compute the sigmoid of z\n",
    "    \n",
    "    Arguments:\n",
    "    z -- A scalar or numpy array of any size\n",
    "    \n",
    "    Returns:\n",
    "    s -- sigmoid(z)\n",
    "    \"\"\"\n",
    "    s = 1 / (1 + np.exp(-z))\n",
    "    return s\n",
    "\n",
    "# Test the sigmoid function\n",
    "test_values = np.array([-2, -1, 0, 1, 2])\n",
    "print(\"Sigmoid values:\", sigmoid(test_values))"
   ]
  },
  {
   "cell_type": "markdown",
   "id": "bbc00593-fd8e-4329-a75b-21ef32c35c1c",
   "metadata": {},
   "source": [
    "# 5. Cost Function (Log Loss)\n",
    "\n",
    "The cost function measures how well our model performs. For logistic regression, we use **Binary Cross-Entropy** (Log Loss).\n",
    "\n",
    "**Mathematical Formula:**\n",
    "$$J(w,b) = -\\frac{1}{m}\\sum_{i=1}^{m}[y^{(i)}\\log(\\hat{y}^{(i)}) + (1-y^{(i)})\\log(1-\\hat{y}^{(i)})]$$\n",
    "\n",
    "Where:\n",
    "- $m$ = number of training examples\n",
    "- $y^{(i)}$ = actual label\n",
    "- $\\hat{y}^{(i)}$ = predicted probability"
   ]
  },
  {
   "cell_type": "code",
   "execution_count": 4,
   "id": "2884e22c-5edc-44f2-8dfd-0715dc4afb30",
   "metadata": {},
   "outputs": [],
   "source": [
    "def compute_cost(y_true, y_pred):\n",
    "    \"\"\"\n",
    "    Compute the binary cross-entropy cost\n",
    "    \n",
    "    Arguments:\n",
    "    y_true -- true labels, shape (m,)\n",
    "    y_pred -- predicted probabilities, shape (m,)\n",
    "    \n",
    "    Returns:\n",
    "    cost -- binary cross-entropy cost\n",
    "    \"\"\"\n",
    "    m = len(y_true)\n",
    "    epsilon = 1e-15  # To avoid log(0)\n",
    "    y_pred = np.clip(y_pred, epsilon, 1 - epsilon) #np.clip is a NumPy function that forces all elements in the array to stay within a specified range.\n",
    "    cost = -np.mean(y_true * np.log(y_pred) + (1 - y_true) * np.log(1 - y_pred))\n",
    "    return cost"
   ]
  },
  {
   "cell_type": "markdown",
   "id": "e2afad5d-cdf5-4274-b02a-6c29a9f26ecb",
   "metadata": {},
   "source": [
    "# 6. Gradient Descent\n",
    "\n",
    "Gradient Descent is an optimization algorithm that iteratively updates the model parameters (weights and bias) to minimize the cost function.\n",
    "\n",
    "**Update Rules:**\n",
    "$$w = w - \\alpha \\frac{\\partial J}{\\partial w}$$\n",
    "$$b = b - \\alpha \\frac{\\partial J}{\\partial b}$$\n",
    "\n",
    "Where:\n",
    "- $\\alpha$ = learning rate (step size)\n",
    "- $\\frac{\\partial J}{\\partial w}$ = gradient of cost with respect to weights\n",
    "- $\\frac{\\partial J}{\\partial b}$ = gradient of cost with respect to bias"
   ]
  },
  {
   "cell_type": "code",
   "execution_count": 5,
   "id": "1a989e64-55cc-430a-a185-c94ee97e2f0c",
   "metadata": {},
   "outputs": [],
   "source": [
    "def gradient_descent(X, y, learning_rate=0.01, num_iterations=1000):\n",
    "    \"\"\"\n",
    "    Perform gradient descent to learn weights and bias\n",
    "    \n",
    "    Arguments:\n",
    "    X -- training features, shape (m, n)\n",
    "    y -- training labels, shape (m,)\n",
    "    learning_rate -- alpha, the learning rate\n",
    "    num_iterations -- number of iterations\n",
    "    \n",
    "    Returns:\n",
    "    w -- learned weights\n",
    "    b -- learned bias\n",
    "    costs -- list of costs at each iteration\n",
    "    \"\"\"\n",
    "    m, n = X.shape\n",
    "    w = np.zeros(n)\n",
    "    b = 0\n",
    "    costs = []\n",
    "    \n",
    "    for i in range(num_iterations):\n",
    "        # Forward propagation\n",
    "        z = np.dot(X, w) + b\n",
    "        y_pred = sigmoid(z)\n",
    "        \n",
    "        # Compute cost\n",
    "        cost = compute_cost(y, y_pred)\n",
    "        costs.append(cost)\n",
    "        \n",
    "        # Backward propagation (compute gradients)\n",
    "        dw = (1/m) * np.dot(X.T, (y_pred - y))\n",
    "        db = (1/m) * np.sum(y_pred - y)\n",
    "        \n",
    "        # Update parameters\n",
    "        w = w - learning_rate * dw\n",
    "        b = b - learning_rate * db\n",
    "        \n",
    "        if i % 100 == 0:\n",
    "            print(f\"Iteration {i}: Cost = {cost:.4f}\")\n",
    "    \n",
    "    return w, b, costs"
   ]
  },
  {
   "cell_type": "markdown",
   "id": "60f4162a-7745-4039-99be-cfec7b5f63b0",
   "metadata": {},
   "source": [
    "# 7. Model Training\n",
    "\n",
    "Now we'll train our logistic regression model on the training dataset by calling the gradient descent function."
   ]
  },
  {
   "cell_type": "code",
   "execution_count": 6,
   "id": "49d6722f-d3fe-41f3-9a62-4c6f54b0274a",
   "metadata": {},
   "outputs": [
    {
     "name": "stdout",
     "output_type": "stream",
     "text": [
      "Training the logistic regression model...\n",
      "\n",
      "Iteration 0: Cost = 0.6931\n",
      "Iteration 100: Cost = 0.2846\n",
      "Iteration 200: Cost = 0.2557\n",
      "Iteration 300: Cost = 0.2463\n",
      "Iteration 400: Cost = 0.2420\n",
      "Iteration 500: Cost = 0.2396\n",
      "Iteration 600: Cost = 0.2381\n",
      "Iteration 700: Cost = 0.2371\n",
      "Iteration 800: Cost = 0.2363\n",
      "Iteration 900: Cost = 0.2357\n",
      "\n",
      "Training completed!\n",
      "Final weights: [-0.25318706  3.22944195]\n",
      "Final bias: 0.6311141301225425\n"
     ]
    }
   ],
   "source": [
    "# Train the model\n",
    "print(\"Training the logistic regression model...\\n\")\n",
    "w, b, costs = gradient_descent(X_train, y_train, learning_rate=0.1, num_iterations=1000)\n",
    "\n",
    "print(\"\\nTraining completed!\")\n",
    "print(f\"Final weights: {w}\")\n",
    "print(f\"Final bias: {b}\")"
   ]
  },
  {
   "cell_type": "markdown",
   "id": "d2f176d5-cb25-41b4-8985-fa498c693ced",
   "metadata": {},
   "source": [
    "# 8. Prediction\n",
    "\n",
    "Using the trained model, we can make predictions on new data. We'll apply the sigmoid function to the linear combination of features and learned parameters."
   ]
  },
  {
   "cell_type": "code",
   "execution_count": 7,
   "id": "8a562d58-d91d-479f-978a-1717daf8825e",
   "metadata": {},
   "outputs": [
    {
     "name": "stdout",
     "output_type": "stream",
     "text": [
      "Training predictions shape: (800,)\n",
      "Test predictions shape: (200,)\n"
     ]
    }
   ],
   "source": [
    "def predict(X, w, b, threshold=0.5):\n",
    "    \"\"\"\n",
    "    Make predictions using learned parameters\n",
    "    \n",
    "    Arguments:\n",
    "    X -- features, shape (m, n)\n",
    "    w -- learned weights\n",
    "    b -- learned bias\n",
    "    threshold -- classification threshold (default 0.5)\n",
    "    \n",
    "    Returns:\n",
    "    predictions -- binary predictions (0 or 1)\n",
    "    \"\"\"\n",
    "    z = np.dot(X, w) + b\n",
    "    y_pred_prob = sigmoid(z)\n",
    "    predictions = (y_pred_prob >= threshold).astype(int)\n",
    "    return predictions\n",
    "\n",
    "# Make predictions on train and test sets\n",
    "y_train_pred = predict(X_train, w, b)\n",
    "y_test_pred = predict(X_test, w, b)\n",
    "\n",
    "print(f\"Training predictions shape: {y_train_pred.shape}\")\n",
    "print(f\"Test predictions shape: {y_test_pred.shape}\")"
   ]
  },
  {
   "cell_type": "markdown",
   "id": "5ee4dc9b-2262-4ab0-b811-6f04f6efe762",
   "metadata": {},
   "source": [
    "# 9. Evaluation Metrics\n",
    "\n",
    "To assess the model's performance, we'll calculate key metrics:\n",
    "- **Accuracy**: Percentage of correct predictions\n",
    "- **Precision**: True positives / (True positives + False positives)\n",
    "- **Recall**: True positives / (True positives + False negatives)\n",
    "- **F1-Score**: Harmonic mean of precision and recall"
   ]
  },
  {
   "cell_type": "code",
   "execution_count": 8,
   "id": "e606a74c-01ff-45b0-b067-a12c5f532e92",
   "metadata": {},
   "outputs": [
    {
     "name": "stdout",
     "output_type": "stream",
     "text": [
      "==================================================\n",
      "TRAINING SET METRICS\n",
      "==================================================\n",
      "Accuracy:  0.9012\n",
      "Precision: 0.9154\n",
      "Recall:    0.8859\n",
      "F1-Score:  0.9004\n",
      "\n",
      "==================================================\n",
      "TEST SET METRICS\n",
      "==================================================\n",
      "Accuracy:  0.9000\n",
      "Precision: 0.9222\n",
      "Recall:    0.8646\n",
      "F1-Score:  0.8925\n"
     ]
    }
   ],
   "source": [
    "from sklearn.metrics import accuracy_score, precision_score, recall_score, f1_score, confusion_matrix\n",
    "\n",
    "# Calculate metrics for training set\n",
    "train_accuracy = accuracy_score(y_train, y_train_pred)\n",
    "train_precision = precision_score(y_train, y_train_pred)\n",
    "train_recall = recall_score(y_train, y_train_pred)\n",
    "train_f1 = f1_score(y_train, y_train_pred)\n",
    "\n",
    "# Calculate metrics for test set\n",
    "test_accuracy = accuracy_score(y_test, y_test_pred)\n",
    "test_precision = precision_score(y_test, y_test_pred)\n",
    "test_recall = recall_score(y_test, y_test_pred)\n",
    "test_f1 = f1_score(y_test, y_test_pred)\n",
    "\n",
    "print(\"=\" * 50)\n",
    "print(\"TRAINING SET METRICS\")\n",
    "print(\"=\" * 50)\n",
    "print(f\"Accuracy:  {train_accuracy:.4f}\")\n",
    "print(f\"Precision: {train_precision:.4f}\")\n",
    "print(f\"Recall:    {train_recall:.4f}\")\n",
    "print(f\"F1-Score:  {train_f1:.4f}\")\n",
    "\n",
    "print(\"\\n\" + \"=\" * 50)\n",
    "print(\"TEST SET METRICS\")\n",
    "print(\"=\" * 50)\n",
    "print(f\"Accuracy:  {test_accuracy:.4f}\")\n",
    "print(f\"Precision: {test_precision:.4f}\")\n",
    "print(f\"Recall:    {test_recall:.4f}\")\n",
    "print(f\"F1-Score:  {test_f1:.4f}\")"
   ]
  },
  {
   "cell_type": "markdown",
   "id": "138f7dd3-3fbe-49d2-8ab2-0edadeb3b042",
   "metadata": {},
   "source": [
    "# 10. Results and Visualization\n",
    "\n",
    "Let's visualize the results to better understand our model's performance. We'll plot:\n",
    "- The cost function over iterations (learning curve)\n",
    "- Decision boundary (if using 2D features)\n",
    "- Confusion matrix"
   ]
  },
  {
   "cell_type": "code",
   "execution_count": 9,
   "id": "6690141a-4c99-4cfb-a260-d2276849b81d",
   "metadata": {},
   "outputs": [
    {
     "data": {
      "image/png": "[encoded data removed]",
      "text/plain": [
       "<Figure size 1400x500 with 3 Axes>"
      ]
     },
     "metadata": {},
     "output_type": "display_data"
    },
    {
     "name": "stdout",
     "output_type": "stream",
     "text": [
      "\n",
      "Confusion Matrix Analysis:\n",
      "True Negatives:  97\n",
      "False Positives: 7\n",
      "False Negatives: 13\n",
      "True Positives:  83\n"
     ]
    }
   ],
   "source": [
    "# Visualization\n",
    "fig, axes = plt.subplots(1, 2, figsize=(14, 5))\n",
    "\n",
    "# 1. Learning Curve (Cost over iterations)\n",
    "axes[0].plot(costs, linewidth=2, color='blue')\n",
    "axes[0].set_xlabel('Iterations', fontsize=12)\n",
    "axes[0].set_ylabel('Cost', fontsize=12)\n",
    "axes[0].set_title('Learning Curve - Cost vs Iterations', fontsize=14, fontweight='bold')\n",
    "axes[0].grid(True, alpha=0.3)\n",
    "\n",
    "# 2. Confusion Matrix\n",
    "from sklearn.metrics import confusion_matrix\n",
    "cm = confusion_matrix(y_test, y_test_pred)\n",
    "\n",
    "sns.heatmap(cm, annot=True, fmt='d', cmap='Blues', ax=axes[1], \n",
    "            cbar_kws={'label': 'Count'}, square=True)\n",
    "axes[1].set_xlabel('Predicted Label', fontsize=12)\n",
    "axes[1].set_ylabel('True Label', fontsize=12)\n",
    "axes[1].set_title('Confusion Matrix - Test Set', fontsize=14, fontweight='bold')\n",
    "\n",
    "plt.tight_layout()\n",
    "plt.show()\n",
    "\n",
    "print(\"\\nConfusion Matrix Analysis:\")\n",
    "print(f\"True Negatives:  {cm[0,0]}\")\n",
    "print(f\"False Positives: {cm[0,1]}\")\n",
    "print(f\"False Negatives: {cm[1,0]}\")\n",
    "print(f\"True Positives:  {cm[1,1]}\")"
   ]
  },
  {
   "cell_type": "markdown",
   "id": "4174a052-7fa0-45c0-9404-a0fc6cde1ff8",
   "metadata": {},
   "source": [
    "# 11. Conclusion\n",
    "\n",
    "In this notebook, we successfully implemented Logistic Regression from scratch using NumPy and Python.\n",
    "\n",
    "## Key Takeaways:\n",
    "1. **Logistic Regression** is a powerful algorithm for binary classification\n",
    "2. **Gradient Descent** effectively minimizes the cost function\n",
    "3. **Evaluation Metrics** (accuracy, precision, recall, F1) provide comprehensive performance insights\n",
    "4. The model generalizes well (similar training and test performance)\n",
    "5. We can try regularization to prevent overfitting"
   ]
  }
 ],
 "metadata": {
  "kernelspec": {
   "display_name": "Python 3 (ipykernel)",
   "language": "python",
   "name": "python3"
  },
  "language_info": {
   "codemirror_mode": {
    "name": "ipython",
    "version": 3
   },
   "file_extension": ".py",
   "mimetype": "text/x-python",
   "name": "python",
   "nbconvert_exporter": "python",
   "pygments_lexer": "ipython3",
   "version": "3.13.5"
  }
 },
 "nbformat": 4,
 "nbformat_minor": 5
}
