{
  "cells": [
    {
      "cell_type": "markdown",
      "metadata": {
        "id": "view-in-github",
        "colab_type": "text"
      },
      "source": [
        "<a href=\"https://colab.research.google.com/github/armancodes1/a-data-science-journey/blob/main/1-Tools/01_Numpy.ipynb\" target=\"_parent\"><img src=\"https://colab.research.google.com/assets/colab-badge.svg\" alt=\"Open In Colab\"/></a>"
      ]
    },
    {
      "cell_type": "markdown",
      "id": "cdc1c9ea",
      "metadata": {
        "id": "cdc1c9ea"
      },
      "source": [
        "# NumPy\n",
        "\n",
        "NumPy is the fundamental package for **scientific computing** in Python. It provides support for arrays, matrices, linear algebra, random numbers, and more."
      ]
    },
    {
      "cell_type": "markdown",
      "id": "9b3ebd51",
      "metadata": {
        "id": "9b3ebd51"
      },
      "source": [
        "## Getting Started"
      ]
    },
    {
      "cell_type": "code",
      "execution_count": null,
      "id": "6364d40f",
      "metadata": {
        "id": "6364d40f"
      },
      "outputs": [],
      "source": [
        "import numpy as np"
      ]
    },
    {
      "cell_type": "markdown",
      "id": "15128670",
      "metadata": {
        "id": "15128670"
      },
      "source": [
        "## Creating Arrays"
      ]
    },
    {
      "cell_type": "code",
      "execution_count": null,
      "id": "dc2efb37",
      "metadata": {
        "colab": {
          "base_uri": "https://localhost:8080/"
        },
        "id": "dc2efb37",
        "outputId": "b1ec92ab-f5c4-4b6e-c671-5621c3f6d829"
      },
      "outputs": [
        {
          "output_type": "stream",
          "name": "stdout",
          "text": [
            "1D array: [1 2 3]\n",
            "2D array:\n",
            " [[1 2 3]\n",
            " [4 5 6]]\n"
          ]
        }
      ],
      "source": [
        "a = np.array([1, 2, 3])\n",
        "print(\"1D array:\", a)\n",
        "\n",
        "b = np.array([[1,2,3],[4,5,6]])\n",
        "print(\"2D array:\\n\", b)"
      ]
    },
    {
      "cell_type": "markdown",
      "id": "279f0565",
      "metadata": {
        "id": "279f0565"
      },
      "source": [
        "## Array Attributes"
      ]
    },
    {
      "cell_type": "code",
      "execution_count": null,
      "id": "50e475c9",
      "metadata": {
        "colab": {
          "base_uri": "https://localhost:8080/"
        },
        "id": "50e475c9",
        "outputId": "d7df7f7d-2ef4-4327-cafb-ccb708a35872"
      },
      "outputs": [
        {
          "output_type": "stream",
          "name": "stdout",
          "text": [
            "Shape: (2, 3)\n",
            "Dimensions: 2\n",
            "Data type: int64\n",
            "Size: 6\n"
          ]
        }
      ],
      "source": [
        "print(\"Shape:\", b.shape)\n",
        "print(\"Dimensions:\", b.ndim)\n",
        "print(\"Data type:\", b.dtype)\n",
        "print(\"Size:\", b.size)"
      ]
    },
    {
      "cell_type": "markdown",
      "id": "0b17041b",
      "metadata": {
        "id": "0b17041b"
      },
      "source": [
        "## Special Arrays"
      ]
    },
    {
      "cell_type": "code",
      "execution_count": null,
      "id": "71e87c56",
      "metadata": {
        "colab": {
          "base_uri": "https://localhost:8080/"
        },
        "id": "71e87c56",
        "outputId": "c8a8fff2-87e2-4a17-b360-19efebb9cb2b"
      },
      "outputs": [
        {
          "output_type": "stream",
          "name": "stdout",
          "text": [
            "[[0. 0. 0.]\n",
            " [0. 0. 0.]]\n",
            "[[1. 1. 1.]\n",
            " [1. 1. 1.]]\n",
            "[[1. 0. 0.]\n",
            " [0. 1. 0.]\n",
            " [0. 0. 1.]]\n",
            "[0 2 4 6 8]\n",
            "[0.   0.25 0.5  0.75 1.  ]\n"
          ]
        }
      ],
      "source": [
        "print(np.zeros((2,3)))\n",
        "print(np.ones((2,3)))\n",
        "print(np.eye(3))\n",
        "print(np.arange(0,10,2))\n",
        "print(np.linspace(0,1,5))"
      ]
    },
    {
      "cell_type": "markdown",
      "id": "17eb6948",
      "metadata": {
        "id": "17eb6948"
      },
      "source": [
        "## Indexing and Slicing"
      ]
    },
    {
      "cell_type": "code",
      "execution_count": null,
      "id": "2121c17f",
      "metadata": {
        "colab": {
          "base_uri": "https://localhost:8080/"
        },
        "id": "2121c17f",
        "outputId": "c0d13dd1-192d-4732-aff7-69c99977c6dd"
      },
      "outputs": [
        {
          "output_type": "stream",
          "name": "stdout",
          "text": [
            "[0 1 2 3 4 5 6 7 8 9]\n",
            "First element: 0\n",
            "Slice 2:5: [2 3 4]\n",
            "Last 3 elements: [7 8 9]\n"
          ]
        }
      ],
      "source": [
        "arr = np.arange(10)\n",
        "print(arr)\n",
        "print(\"First element:\", arr[0])\n",
        "print(\"Slice 2:5:\", arr[2:5])\n",
        "print(\"Last 3 elements:\", arr[-3:])"
      ]
    },
    {
      "cell_type": "markdown",
      "id": "99fe1891",
      "metadata": {
        "id": "99fe1891"
      },
      "source": [
        "## Boolean Indexing"
      ]
    },
    {
      "cell_type": "code",
      "execution_count": null,
      "id": "e079ea09",
      "metadata": {
        "colab": {
          "base_uri": "https://localhost:8080/"
        },
        "id": "e079ea09",
        "outputId": "76446418-8ab1-4cb9-c535-3131c4b2b042"
      },
      "outputs": [
        {
          "output_type": "stream",
          "name": "stdout",
          "text": [
            "[4 5 6]\n"
          ]
        }
      ],
      "source": [
        "arr = np.array([1,2,3,4,5,6])\n",
        "print(arr[arr > 3])"
      ]
    },
    {
      "cell_type": "markdown",
      "id": "0770ae62",
      "metadata": {
        "id": "0770ae62"
      },
      "source": [
        "## Array Operations"
      ]
    },
    {
      "cell_type": "code",
      "execution_count": null,
      "id": "00556c0a",
      "metadata": {
        "colab": {
          "base_uri": "https://localhost:8080/"
        },
        "id": "00556c0a",
        "outputId": "71e79e58-cea1-4c6a-88d5-72eacb7bace3"
      },
      "outputs": [
        {
          "output_type": "stream",
          "name": "stdout",
          "text": [
            "Addition: [5 7 9]\n",
            "Multiplication: [ 4 10 18]\n",
            "Dot product: 32\n"
          ]
        }
      ],
      "source": [
        "x = np.array([1,2,3])\n",
        "y = np.array([4,5,6])\n",
        "\n",
        "print(\"Addition:\", x+y)\n",
        "print(\"Multiplication:\", x*y)\n",
        "print(\"Dot product:\", np.dot(x,y))"
      ]
    },
    {
      "cell_type": "markdown",
      "id": "7e83712c",
      "metadata": {
        "id": "7e83712c"
      },
      "source": [
        "## Broadcasting"
      ]
    },
    {
      "cell_type": "code",
      "execution_count": null,
      "id": "93b22a82",
      "metadata": {
        "colab": {
          "base_uri": "https://localhost:8080/"
        },
        "id": "93b22a82",
        "outputId": "b6f84178-32eb-4bb2-b0f2-65b75b709bef"
      },
      "outputs": [
        {
          "output_type": "stream",
          "name": "stdout",
          "text": [
            "[[2. 3. 4.]\n",
            " [2. 3. 4.]\n",
            " [2. 3. 4.]]\n"
          ]
        }
      ],
      "source": [
        "m = np.ones((3,3))\n",
        "print(m + np.array([1,2,3]))"
      ]
    },
    {
      "cell_type": "markdown",
      "id": "07a17766",
      "metadata": {
        "id": "07a17766"
      },
      "source": [
        "## Linear Algebra"
      ]
    },
    {
      "cell_type": "code",
      "execution_count": null,
      "id": "2aa9d25a",
      "metadata": {
        "colab": {
          "base_uri": "https://localhost:8080/"
        },
        "id": "2aa9d25a",
        "outputId": "83bdfaf8-1ef2-4dd1-ce45-2682ead6ff77"
      },
      "outputs": [
        {
          "output_type": "stream",
          "name": "stdout",
          "text": [
            "Matrix:\n",
            "[[1 2]\n",
            " [3 4]]\n",
            "Determinant: -2.0000000000000004\n",
            "Inverse:\n",
            "[[-2.   1. ]\n",
            " [ 1.5 -0.5]]\n",
            "Eigenvalues: [-0.37228132  5.37228132]\n"
          ]
        }
      ],
      "source": [
        "M = np.array([[1,2],[3,4]])\n",
        "print(\"Matrix:\")\n",
        "print(M)\n",
        "print(\"Determinant:\", np.linalg.det(M))\n",
        "print(\"Inverse:\")\n",
        "print(np.linalg.inv(M))\n",
        "print(\"Eigenvalues:\", np.linalg.eig(M)[0])"
      ]
    },
    {
      "cell_type": "markdown",
      "id": "e47d6730",
      "metadata": {
        "id": "e47d6730"
      },
      "source": [
        "## Random Numbers"
      ]
    },
    {
      "cell_type": "code",
      "execution_count": null,
      "id": "d02a6566",
      "metadata": {
        "colab": {
          "base_uri": "https://localhost:8080/"
        },
        "id": "d02a6566",
        "outputId": "f227df53-e463-43e7-e05f-22f11aca6aab"
      },
      "outputs": [
        {
          "output_type": "stream",
          "name": "stdout",
          "text": [
            "[0.5488135  0.71518937 0.60276338]\n",
            "[[3 7 9]\n",
            " [3 5 2]\n",
            " [4 7 6]]\n"
          ]
        }
      ],
      "source": [
        "np.random.seed(0)\n",
        "print(np.random.rand(3))\n",
        "print(np.random.randint(0,10,(3,3)))"
      ]
    },
    {
      "cell_type": "markdown",
      "id": "280d0c10",
      "metadata": {
        "id": "280d0c10"
      },
      "source": [
        "> Tip: Use `np.random.seed(0)` at the top of a notebook section to make results reproducible."
      ]
    }
  ],
  "metadata": {
    "colab": {
      "provenance": [],
      "include_colab_link": true
    },
    "language_info": {
      "name": "python"
    },
    "kernelspec": {
      "name": "python3",
      "display_name": "Python 3"
    }
  },
  "nbformat": 4,
  "nbformat_minor": 5
}